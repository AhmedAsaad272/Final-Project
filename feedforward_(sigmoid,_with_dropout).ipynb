{
  "nbformat": 4,
  "nbformat_minor": 0,
  "metadata": {
    "kernelspec": {
      "display_name": "Python 3",
      "language": "python",
      "name": "python3"
    },
    "language_info": {
      "codemirror_mode": {
        "name": "ipython",
        "version": 3
      },
      "file_extension": ".py",
      "mimetype": "text/x-python",
      "name": "python",
      "nbconvert_exporter": "python",
      "pygments_lexer": "ipython3",
      "version": "3.6.12"
    },
    "colab": {
      "name": "feedforward (sigmoid, with dropout).ipynb",
      "provenance": [],
      "collapsed_sections": [],
      "include_colab_link": true
    },
    "accelerator": "GPU"
  },
  "cells": [
    {
      "cell_type": "markdown",
      "metadata": {
        "id": "view-in-github",
        "colab_type": "text"
      },
      "source": [
        "<a href=\"https://colab.research.google.com/github/AhmedAsaad272/Final-Project/blob/main/feedforward_(sigmoid%2C_with_dropout).ipynb\" target=\"_parent\"><img src=\"https://colab.research.google.com/assets/colab-badge.svg\" alt=\"Open In Colab\"/></a>"
      ]
    },
    {
      "cell_type": "code",
      "metadata": {
        "id": "qmiTggRzNN_k"
      },
      "source": [
        "import torch, torchvision\n",
        "from torchvision import datasets, models, transforms\n",
        "import torch.nn as nn\n",
        "import torch.nn.functional as F\n",
        "import torch.optim as optim\n",
        "from torch.utils.data import DataLoader\n",
        "import time\n",
        "from torchsummary import summary\n",
        "\n",
        "import numpy as np\n",
        "import matplotlib.pyplot as plt\n",
        "import os\n",
        "\n",
        "from PIL import Image"
      ],
      "execution_count": 57,
      "outputs": []
    },
    {
      "cell_type": "code",
      "metadata": {
        "id": "tPhGMJD_OjzW",
        "colab": {
          "base_uri": "https://localhost:8080/"
        },
        "outputId": "e5740a2b-21ab-49a2-bfb9-a46f74698713"
      },
      "source": [
        "\n",
        "# mount drive so that we can use the dataset from google drive\n",
        "\n",
        "from google.colab import drive\n",
        "drive.mount(\"/content/drive\")"
      ],
      "execution_count": 58,
      "outputs": [
        {
          "output_type": "stream",
          "text": [
            "Drive already mounted at /content/drive; to attempt to forcibly remount, call drive.mount(\"/content/drive\", force_remount=True).\n"
          ],
          "name": "stdout"
        }
      ]
    },
    {
      "cell_type": "code",
      "metadata": {
        "id": "VlVAfq2USRIR",
        "colab": {
          "base_uri": "https://localhost:8080/"
        },
        "outputId": "f667f296-9366-49c5-83bf-091bc8a713c5"
      },
      "source": [
        "!ls \"/content/drive/My Drive/Dataset\""
      ],
      "execution_count": 59,
      "outputs": [
        {
          "output_type": "stream",
          "text": [
            "testing  training\n"
          ],
          "name": "stdout"
        }
      ]
    },
    {
      "cell_type": "code",
      "metadata": {
        "id": "IpES3y6LNN_k"
      },
      "source": [
        "# Applying Transforms to the Data\n",
        "image_transforms = { \n",
        "    'train': transforms.Compose([\n",
        "        transforms.Resize(size=(32,32)),\n",
        "        transforms.RandomRotation(degrees=15),\n",
        "        transforms.RandomHorizontalFlip(),\n",
        "        transforms.ToTensor(),\n",
        "    ]),\n",
        "    'valid': transforms.Compose([\n",
        "        transforms.Resize(size=(32,32)),\n",
        "        transforms.ToTensor(),\n",
        "    ]),\n",
        "    'test': transforms.Compose([\n",
        "        transforms.Resize(size=(32,32)),\n",
        "        transforms.ToTensor(),\n",
        "    ])\n",
        "}"
      ],
      "execution_count": 60,
      "outputs": []
    },
    {
      "cell_type": "code",
      "metadata": {
        "id": "hVj9U4pmNN_k",
        "colab": {
          "base_uri": "https://localhost:8080/"
        },
        "outputId": "e0644cca-58a6-4267-d53c-4ef9f5d7e13a"
      },
      "source": [
        "# Load the Data\n",
        "\n",
        "# Set train and valid directory paths\n",
        "\n",
        "dataset = '/content/drive/My Drive/Dataset'\n",
        "\n",
        "train_directory = os.path.join(dataset, 'training')\n",
        "valid_directory = os.path.join(dataset, 'testing')\n",
        "test_directory = os.path.join(dataset, 'testing')\n",
        "\n",
        "# Batch size\n",
        "batchSize = 32\n",
        "\n",
        "# Number of classes\n",
        "# num_classes = len(os.listdir(valid_directory))-1  \n",
        "num_classes = len(os.listdir(valid_directory))\n",
        "print(num_classes)\n",
        "\n",
        "# Load Data from folders\n",
        "data = {\n",
        "    'train': datasets.ImageFolder(root=train_directory, transform=image_transforms['train']),\n",
        "    'valid': datasets.ImageFolder(root=valid_directory, transform=image_transforms['valid']),\n",
        "    'test': datasets.ImageFolder(root=test_directory, transform=image_transforms['test'])\n",
        "}\n",
        "\n",
        "# Get a mapping of the indices to the class names, in order to see the output classes of the test images.\n",
        "idx_to_class = {v: k for k, v in data['train'].class_to_idx.items()}\n",
        "print(idx_to_class)"
      ],
      "execution_count": 61,
      "outputs": [
        {
          "output_type": "stream",
          "text": [
            "5\n",
            "{0: 'bracelet', 1: 'earring', 2: 'necklace', 3: 'nose ring', 4: 'ring'}\n"
          ],
          "name": "stdout"
        }
      ]
    },
    {
      "cell_type": "code",
      "metadata": {
        "id": "CzOZJ5-_NN_l",
        "colab": {
          "base_uri": "https://localhost:8080/"
        },
        "outputId": "3631cbcf-41c6-41d3-8c5d-86aa2da62827"
      },
      "source": [
        "data['train']"
      ],
      "execution_count": 62,
      "outputs": [
        {
          "output_type": "execute_result",
          "data": {
            "text/plain": [
              "Dataset ImageFolder\n",
              "    Number of datapoints: 3150\n",
              "    Root location: /content/drive/My Drive/Dataset/training\n",
              "    StandardTransform\n",
              "Transform: Compose(\n",
              "               Resize(size=(32, 32), interpolation=PIL.Image.BILINEAR)\n",
              "               RandomRotation(degrees=[-15.0, 15.0], resample=False, expand=False)\n",
              "               RandomHorizontalFlip(p=0.5)\n",
              "               ToTensor()\n",
              "           )"
            ]
          },
          "metadata": {
            "tags": []
          },
          "execution_count": 62
        }
      ]
    },
    {
      "cell_type": "code",
      "metadata": {
        "id": "I1DGlNG4NN_m"
      },
      "source": [
        "# Size of Data, to be used for calculating Average Loss and Accuracy\n",
        "train_data_size = len(data['train'])\n",
        "valid_data_size = len(data['valid'])\n",
        "test_data_size = len(data['test'])\n",
        "\n",
        "# Create iterators for the Data loaded using DataLoader module\n",
        "train_data_loader = DataLoader(data['train'], batch_size=batchSize, shuffle=True)\n",
        "valid_data_loader = DataLoader(data['valid'], batch_size=batchSize, shuffle=True)\n",
        "test_data_loader = DataLoader(data['test'], batch_size=batchSize, shuffle=True)"
      ],
      "execution_count": 63,
      "outputs": []
    },
    {
      "cell_type": "code",
      "metadata": {
        "id": "4tEVlKdGNN_m",
        "colab": {
          "base_uri": "https://localhost:8080/"
        },
        "outputId": "f30c7a88-1523-4b3d-87f1-57d82967691f"
      },
      "source": [
        "train_data_size, valid_data_size, test_data_size"
      ],
      "execution_count": 64,
      "outputs": [
        {
          "output_type": "execute_result",
          "data": {
            "text/plain": [
              "(3150, 1350, 1350)"
            ]
          },
          "metadata": {
            "tags": []
          },
          "execution_count": 64
        }
      ]
    },
    {
      "cell_type": "code",
      "metadata": {
        "id": "KvztzPBgNN_m"
      },
      "source": [
        "input_size = 32*32*3   #3072 neurons"
      ],
      "execution_count": 65,
      "outputs": []
    },
    {
      "cell_type": "code",
      "metadata": {
        "id": "vNZV26FVNN_m"
      },
      "source": [
        "class ourModel(nn.Module):\n",
        "    def __init__(self, input_size, num_classes):\n",
        "        super().__init__()\n",
        "        self.linear1 = nn.Linear(input_size, 2000)\n",
        "        # hidden layers\n",
        "        self.linear2 = nn.Linear(2000, 1000)\n",
        "        self.linear3 = nn.Linear(1000, 200)\n",
        "        # output layer\n",
        "        self.linear4 = nn.Linear(200, num_classes)\n",
        "        # Define proportion or neurons to dropout\n",
        "        self.dropout = nn.Dropout(0.3)\n",
        "        \n",
        "    def forward(self, xb):\n",
        "        # Flatten images into vectors\n",
        "        out = xb.view(xb.size(0), -1)\n",
        "        # Apply layers & activation functions\n",
        "        out = self.linear1(out)\n",
        "        # Apply activation function\n",
        "        out = torch.sigmoid(out)\n",
        "        # Apply dropout\n",
        "        out = self.dropout(out)\n",
        "        # Get intermediate outputs using hidden layer 2\n",
        "        out = self.linear2(out)\n",
        "        # Apply activation function\n",
        "        out = torch.sigmoid(out)\n",
        "        # Apply dropout\n",
        "        out = self.dropout(out)\n",
        "        # Get predictions using output layer\n",
        "        out = self.linear3(out)\n",
        "        # Apply activation function\n",
        "        out = torch.sigmoid(out)\n",
        "        # Apply dropout\n",
        "        out = self.dropout(out)\n",
        "        # Get predictions using output layer\n",
        "        out = self.linear4(out)\n",
        "        # Apply activation function\n",
        "        out = torch.sigmoid(out)\n",
        "        return out"
      ],
      "execution_count": 95,
      "outputs": []
    },
    {
      "cell_type": "code",
      "metadata": {
        "id": "FVunKpa9NN_m"
      },
      "source": [
        "model = ourModel(input_size, num_classes)\n",
        "\n",
        "model = model.to('cuda:0')"
      ],
      "execution_count": 96,
      "outputs": []
    },
    {
      "cell_type": "code",
      "metadata": {
        "id": "IaLvOO3INN_m",
        "colab": {
          "base_uri": "https://localhost:8080/"
        },
        "outputId": "bd36ccee-9600-45a3-fa7f-83b2714a4478"
      },
      "source": [
        "model"
      ],
      "execution_count": 97,
      "outputs": [
        {
          "output_type": "execute_result",
          "data": {
            "text/plain": [
              "ourModel(\n",
              "  (linear1): Linear(in_features=3072, out_features=2000, bias=True)\n",
              "  (linear2): Linear(in_features=2000, out_features=1000, bias=True)\n",
              "  (linear3): Linear(in_features=1000, out_features=200, bias=True)\n",
              "  (linear4): Linear(in_features=200, out_features=5, bias=True)\n",
              "  (dropout): Dropout(p=0.3, inplace=False)\n",
              ")"
            ]
          },
          "metadata": {
            "tags": []
          },
          "execution_count": 97
        }
      ]
    },
    {
      "cell_type": "code",
      "metadata": {
        "id": "nm05EqW6NN_n"
      },
      "source": [
        "# Define Optimizer and Loss Function\n",
        "learning_rate = 0.1 # 0.0000001\n",
        "loss_func = nn.CrossEntropyLoss()\n",
        "# optimizer = optim.SGD(model.parameters(), lr=0.01, momentum=0.9)\n",
        "optimizer = optim.Adam(model.parameters(), lr = learning_rate)"
      ],
      "execution_count": 98,
      "outputs": []
    },
    {
      "cell_type": "code",
      "metadata": {
        "id": "XmvqX1lTNN_n"
      },
      "source": [
        "def train_and_validate(model, loss_criterion, optimizer, epochs=25):\n",
        "    '''\n",
        "    Function to train and validate\n",
        "    Parameters\n",
        "        :param model: Model to train and validate\n",
        "        :param loss_criterion: Loss Criterion to minimize\n",
        "        :param optimizer: Optimizer for computing gradients\n",
        "        :param epochs: Number of epochs (default=25)\n",
        "  \n",
        "    Returns\n",
        "        model: Trained Model with best validation accuracy\n",
        "        history: (dict object): Having training loss, accuracy and validation loss, accuracy\n",
        "    '''\n",
        "    \n",
        "    start = time.time()\n",
        "    history = []\n",
        "    best_acc = 0.0\n",
        "\n",
        "    for epoch in range(epochs):\n",
        "        epoch_start = time.time()\n",
        "        print(\"Epoch: {}/{}\".format(epoch+1, epochs))\n",
        "        \n",
        "        # Set to training mode\n",
        "        model.train()\n",
        "        \n",
        "        # Loss and Accuracy within the epoch\n",
        "        train_loss = 0.0\n",
        "        train_acc = 0.0\n",
        "        \n",
        "        valid_loss = 0.0\n",
        "        valid_acc = 0.0\n",
        "        \n",
        "        for i, (inputs, labels) in enumerate(train_data_loader):\n",
        "\n",
        "            inputs = inputs.to(device)\n",
        "            labels = labels.to(device)\n",
        "            \n",
        "            # Clean existing gradients\n",
        "            optimizer.zero_grad()\n",
        "            \n",
        "            # Forward pass - compute outputs on input data using the model\n",
        "            outputs = model(inputs)\n",
        "            \n",
        "            # Compute loss\n",
        "            loss = loss_criterion(outputs, labels)\n",
        "            \n",
        "            # Backpropagate the gradients\n",
        "            loss.backward()\n",
        "            \n",
        "            # Update the parameters\n",
        "            optimizer.step()\n",
        "            \n",
        "            # Compute the total loss for the batch and add it to train_loss\n",
        "            train_loss += loss.item() * inputs.size(0)\n",
        "            \n",
        "            # Compute the accuracy\n",
        "            ret, predictions = torch.max(outputs.data, 1)\n",
        "            correct_counts = predictions.eq(labels.data.view_as(predictions))\n",
        "            \n",
        "            # Convert correct_counts to float and then compute the mean\n",
        "            acc = torch.mean(correct_counts.type(torch.FloatTensor))\n",
        "            \n",
        "            # Compute total accuracy in the whole batch and add to train_acc\n",
        "            train_acc += acc.item() * inputs.size(0)\n",
        "            \n",
        "            #print(\"Batch number: {:03d}, Training: Loss: {:.4f}, Accuracy: {:.4f}\".format(i, loss.item(), acc.item()))\n",
        "\n",
        "            \n",
        "        # Validation - No gradient tracking needed\n",
        "        with torch.no_grad():\n",
        "\n",
        "            # Set to evaluation mode\n",
        "            model.eval()\n",
        "\n",
        "            # Validation loop\n",
        "            for j, (inputs, labels) in enumerate(valid_data_loader):\n",
        "                inputs = inputs.to(device)\n",
        "                labels = labels.to(device)\n",
        "\n",
        "                # Forward pass - compute outputs on input data using the model\n",
        "                outputs = model(inputs)\n",
        "\n",
        "                # Compute loss\n",
        "                loss = loss_criterion(outputs, labels)\n",
        "\n",
        "                # Compute the total loss for the batch and add it to valid_loss\n",
        "                valid_loss += loss.item() * inputs.size(0)\n",
        "\n",
        "                # Calculate validation accuracy\n",
        "                ret, predictions = torch.max(outputs.data, 1)\n",
        "                correct_counts = predictions.eq(labels.data.view_as(predictions))\n",
        "\n",
        "                # Convert correct_counts to float and then compute the mean\n",
        "                acc = torch.mean(correct_counts.type(torch.FloatTensor))\n",
        "\n",
        "                # Compute total accuracy in the whole batch and add to valid_acc\n",
        "                valid_acc += acc.item() * inputs.size(0)\n",
        "\n",
        "                #print(\"Validation Batch number: {:03d}, Validation: Loss: {:.4f}, Accuracy: {:.4f}\".format(j, loss.item(), acc.item()))\n",
        "            \n",
        "        # Find average training loss and training accuracy\n",
        "        avg_train_loss = train_loss/train_data_size \n",
        "        avg_train_acc = train_acc/train_data_size\n",
        "\n",
        "        # Find average training loss and training accuracy\n",
        "        avg_valid_loss = valid_loss/valid_data_size \n",
        "        avg_valid_acc = valid_acc/valid_data_size\n",
        "\n",
        "        history.append([avg_train_loss, avg_valid_loss, avg_train_acc, avg_valid_acc])\n",
        "                \n",
        "        epoch_end = time.time()\n",
        "    \n",
        "        print(\"Epoch : {:03d}, Training: Loss: {:.4f}, Accuracy: {:.4f}%, \\n\\t\\tValidation : Loss : {:.4f}, Accuracy: {:.4f}%, Time: {:.4f}s\".format(epoch, avg_train_loss, avg_train_acc*100, avg_valid_loss, avg_valid_acc*100, epoch_end-epoch_start))\n",
        "        \n",
        "        # Save if the model has best accuracy till now\n",
        "       # torch.save(model, dataset+'_model_'+str(epoch)+'.pt')\n",
        "            \n",
        "    return model, history\n",
        "    "
      ],
      "execution_count": 99,
      "outputs": []
    },
    {
      "cell_type": "code",
      "metadata": {
        "id": "ltOovmKDVAgK"
      },
      "source": [
        "device = torch.device(\"cuda:0\" if torch.cuda.is_available() else \"cpu\")"
      ],
      "execution_count": 100,
      "outputs": []
    },
    {
      "cell_type": "code",
      "metadata": {
        "id": "OZFVuiIQVCdP",
        "colab": {
          "base_uri": "https://localhost:8080/"
        },
        "outputId": "1b5706ae-4cc5-4bec-b42c-fc5b0f3c2c5b"
      },
      "source": [
        "device"
      ],
      "execution_count": 101,
      "outputs": [
        {
          "output_type": "execute_result",
          "data": {
            "text/plain": [
              "device(type='cuda', index=0)"
            ]
          },
          "metadata": {
            "tags": []
          },
          "execution_count": 101
        }
      ]
    },
    {
      "cell_type": "code",
      "metadata": {
        "id": "sykDVtWQNN_n",
        "colab": {
          "base_uri": "https://localhost:8080/"
        },
        "outputId": "46e37c8b-177b-4089-d551-298d14aad186"
      },
      "source": [
        "# Train the model for 25 epochs\n",
        "num_epochs = 50\n",
        "trained_model, history = train_and_validate(model, loss_func, optimizer, num_epochs)\n",
        "\n",
        "#torch.save(history, dataset+'_history.pt')"
      ],
      "execution_count": 102,
      "outputs": [
        {
          "output_type": "stream",
          "text": [
            "Epoch: 1/50\n"
          ],
          "name": "stdout"
        },
        {
          "output_type": "stream",
          "text": [
            "/usr/local/lib/python3.6/dist-packages/PIL/Image.py:932: UserWarning: Palette images with Transparency expressed in bytes should be converted to RGBA images\n",
            "  \"Palette images with Transparency expressed in bytes should be \"\n"
          ],
          "name": "stderr"
        },
        {
          "output_type": "stream",
          "text": [
            "Epoch : 000, Training: Loss: 1.7338, Accuracy: 19.6825%, \n",
            "\t\tValidation : Loss : 1.7326, Accuracy: 20.0000%, Time: 10.7531s\n",
            "Epoch: 2/50\n",
            "Epoch : 001, Training: Loss: 1.7326, Accuracy: 20.0635%, \n",
            "\t\tValidation : Loss : 1.7326, Accuracy: 20.0000%, Time: 10.9155s\n",
            "Epoch: 3/50\n",
            "Epoch : 002, Training: Loss: 1.7326, Accuracy: 20.9206%, \n",
            "\t\tValidation : Loss : 1.7326, Accuracy: 20.0000%, Time: 10.7101s\n",
            "Epoch: 4/50\n",
            "Epoch : 003, Training: Loss: 1.7326, Accuracy: 20.4762%, \n",
            "\t\tValidation : Loss : 1.7326, Accuracy: 20.0000%, Time: 10.7437s\n",
            "Epoch: 5/50\n",
            "Epoch : 004, Training: Loss: 1.7326, Accuracy: 20.2857%, \n",
            "\t\tValidation : Loss : 1.7326, Accuracy: 20.0000%, Time: 10.8248s\n",
            "Epoch: 6/50\n",
            "Epoch : 005, Training: Loss: 1.7326, Accuracy: 19.6190%, \n",
            "\t\tValidation : Loss : 1.7326, Accuracy: 20.0000%, Time: 10.8187s\n",
            "Epoch: 7/50\n",
            "Epoch : 006, Training: Loss: 1.7326, Accuracy: 20.9206%, \n",
            "\t\tValidation : Loss : 1.7326, Accuracy: 20.0000%, Time: 10.8332s\n",
            "Epoch: 8/50\n",
            "Epoch : 007, Training: Loss: 1.7326, Accuracy: 19.6508%, \n",
            "\t\tValidation : Loss : 1.7326, Accuracy: 20.0000%, Time: 11.6172s\n",
            "Epoch: 9/50\n",
            "Epoch : 008, Training: Loss: 1.7326, Accuracy: 19.4286%, \n",
            "\t\tValidation : Loss : 1.7326, Accuracy: 20.0000%, Time: 11.5764s\n",
            "Epoch: 10/50\n",
            "Epoch : 009, Training: Loss: 1.7323, Accuracy: 20.1270%, \n",
            "\t\tValidation : Loss : 1.7326, Accuracy: 20.0000%, Time: 10.8813s\n",
            "Epoch: 11/50\n",
            "Epoch : 010, Training: Loss: 1.7326, Accuracy: 20.0000%, \n",
            "\t\tValidation : Loss : 1.7326, Accuracy: 20.0000%, Time: 10.7978s\n",
            "Epoch: 12/50\n",
            "Epoch : 011, Training: Loss: 1.7326, Accuracy: 20.0000%, \n",
            "\t\tValidation : Loss : 1.7326, Accuracy: 20.0000%, Time: 10.7980s\n",
            "Epoch: 13/50\n",
            "Epoch : 012, Training: Loss: 1.7326, Accuracy: 20.0000%, \n",
            "\t\tValidation : Loss : 1.7326, Accuracy: 20.0000%, Time: 10.8638s\n",
            "Epoch: 14/50\n",
            "Epoch : 013, Training: Loss: 1.7326, Accuracy: 20.0000%, \n",
            "\t\tValidation : Loss : 1.7326, Accuracy: 20.0000%, Time: 10.8707s\n",
            "Epoch: 15/50\n",
            "Epoch : 014, Training: Loss: 1.7326, Accuracy: 20.0000%, \n",
            "\t\tValidation : Loss : 1.7326, Accuracy: 20.0000%, Time: 10.8504s\n",
            "Epoch: 16/50\n",
            "Epoch : 015, Training: Loss: 1.7326, Accuracy: 20.0000%, \n",
            "\t\tValidation : Loss : 1.7326, Accuracy: 20.0000%, Time: 10.9129s\n",
            "Epoch: 17/50\n",
            "Epoch : 016, Training: Loss: 1.7326, Accuracy: 20.0000%, \n",
            "\t\tValidation : Loss : 1.7326, Accuracy: 20.0000%, Time: 10.9247s\n",
            "Epoch: 18/50\n",
            "Epoch : 017, Training: Loss: 1.7326, Accuracy: 20.0000%, \n",
            "\t\tValidation : Loss : 1.7326, Accuracy: 20.0000%, Time: 10.8363s\n",
            "Epoch: 19/50\n",
            "Epoch : 018, Training: Loss: 1.7326, Accuracy: 20.0000%, \n",
            "\t\tValidation : Loss : 1.7326, Accuracy: 20.0000%, Time: 10.9721s\n",
            "Epoch: 20/50\n",
            "Epoch : 019, Training: Loss: 1.7326, Accuracy: 20.0000%, \n",
            "\t\tValidation : Loss : 1.7326, Accuracy: 20.0000%, Time: 10.8817s\n",
            "Epoch: 21/50\n",
            "Epoch : 020, Training: Loss: 1.7326, Accuracy: 20.0000%, \n",
            "\t\tValidation : Loss : 1.7326, Accuracy: 20.0000%, Time: 10.8764s\n",
            "Epoch: 22/50\n",
            "Epoch : 021, Training: Loss: 1.7326, Accuracy: 20.0000%, \n",
            "\t\tValidation : Loss : 1.7326, Accuracy: 20.0000%, Time: 10.9314s\n",
            "Epoch: 23/50\n",
            "Epoch : 022, Training: Loss: 1.7326, Accuracy: 20.0000%, \n",
            "\t\tValidation : Loss : 1.7326, Accuracy: 20.0000%, Time: 10.8753s\n",
            "Epoch: 24/50\n",
            "Epoch : 023, Training: Loss: 1.7326, Accuracy: 20.0000%, \n",
            "\t\tValidation : Loss : 1.7326, Accuracy: 20.0000%, Time: 11.0338s\n",
            "Epoch: 25/50\n",
            "Epoch : 024, Training: Loss: 1.7326, Accuracy: 20.0000%, \n",
            "\t\tValidation : Loss : 1.7326, Accuracy: 20.0000%, Time: 10.8909s\n",
            "Epoch: 26/50\n",
            "Epoch : 025, Training: Loss: 1.7326, Accuracy: 20.0000%, \n",
            "\t\tValidation : Loss : 1.7326, Accuracy: 20.0000%, Time: 10.8673s\n",
            "Epoch: 27/50\n",
            "Epoch : 026, Training: Loss: 1.7326, Accuracy: 20.0000%, \n",
            "\t\tValidation : Loss : 1.7326, Accuracy: 20.0000%, Time: 10.8758s\n",
            "Epoch: 28/50\n",
            "Epoch : 027, Training: Loss: 1.7326, Accuracy: 20.0000%, \n",
            "\t\tValidation : Loss : 1.7326, Accuracy: 20.0000%, Time: 11.2571s\n",
            "Epoch: 29/50\n",
            "Epoch : 028, Training: Loss: 1.7326, Accuracy: 20.0000%, \n",
            "\t\tValidation : Loss : 1.7326, Accuracy: 20.0000%, Time: 10.8933s\n",
            "Epoch: 30/50\n",
            "Epoch : 029, Training: Loss: 1.7326, Accuracy: 20.0000%, \n",
            "\t\tValidation : Loss : 1.7326, Accuracy: 20.0000%, Time: 10.8518s\n",
            "Epoch: 31/50\n",
            "Epoch : 030, Training: Loss: 1.7326, Accuracy: 20.0000%, \n",
            "\t\tValidation : Loss : 1.7326, Accuracy: 20.0000%, Time: 10.9728s\n",
            "Epoch: 32/50\n",
            "Epoch : 031, Training: Loss: 1.7326, Accuracy: 20.0000%, \n",
            "\t\tValidation : Loss : 1.7326, Accuracy: 20.0000%, Time: 10.9964s\n",
            "Epoch: 33/50\n",
            "Epoch : 032, Training: Loss: 1.7326, Accuracy: 20.0000%, \n",
            "\t\tValidation : Loss : 1.7326, Accuracy: 20.0000%, Time: 10.9320s\n",
            "Epoch: 34/50\n",
            "Epoch : 033, Training: Loss: 1.7326, Accuracy: 20.0000%, \n",
            "\t\tValidation : Loss : 1.7326, Accuracy: 20.0000%, Time: 10.9951s\n",
            "Epoch: 35/50\n",
            "Epoch : 034, Training: Loss: 1.7326, Accuracy: 20.0000%, \n",
            "\t\tValidation : Loss : 1.7326, Accuracy: 20.0000%, Time: 10.9467s\n",
            "Epoch: 36/50\n",
            "Epoch : 035, Training: Loss: 1.7326, Accuracy: 20.0000%, \n",
            "\t\tValidation : Loss : 1.7326, Accuracy: 20.0000%, Time: 11.1416s\n",
            "Epoch: 37/50\n",
            "Epoch : 036, Training: Loss: 1.7326, Accuracy: 20.0000%, \n",
            "\t\tValidation : Loss : 1.7326, Accuracy: 20.0000%, Time: 12.1501s\n",
            "Epoch: 38/50\n",
            "Epoch : 037, Training: Loss: 1.7326, Accuracy: 20.0000%, \n",
            "\t\tValidation : Loss : 1.7326, Accuracy: 20.0000%, Time: 11.0459s\n",
            "Epoch: 39/50\n",
            "Epoch : 038, Training: Loss: 1.7326, Accuracy: 20.0000%, \n",
            "\t\tValidation : Loss : 1.7326, Accuracy: 20.0000%, Time: 11.1250s\n",
            "Epoch: 40/50\n",
            "Epoch : 039, Training: Loss: 1.7326, Accuracy: 20.0000%, \n",
            "\t\tValidation : Loss : 1.7326, Accuracy: 20.0000%, Time: 10.9403s\n",
            "Epoch: 41/50\n",
            "Epoch : 040, Training: Loss: 1.7326, Accuracy: 20.0000%, \n",
            "\t\tValidation : Loss : 1.7326, Accuracy: 20.0000%, Time: 10.9938s\n",
            "Epoch: 42/50\n",
            "Epoch : 041, Training: Loss: 1.7326, Accuracy: 20.0000%, \n",
            "\t\tValidation : Loss : 1.7326, Accuracy: 20.0000%, Time: 10.9999s\n",
            "Epoch: 43/50\n",
            "Epoch : 042, Training: Loss: 1.7326, Accuracy: 20.0000%, \n",
            "\t\tValidation : Loss : 1.7326, Accuracy: 20.0000%, Time: 10.9837s\n",
            "Epoch: 44/50\n",
            "Epoch : 043, Training: Loss: 1.7326, Accuracy: 20.0000%, \n",
            "\t\tValidation : Loss : 1.7326, Accuracy: 20.0000%, Time: 10.9386s\n",
            "Epoch: 45/50\n",
            "Epoch : 044, Training: Loss: 1.7326, Accuracy: 20.0000%, \n",
            "\t\tValidation : Loss : 1.7326, Accuracy: 20.0000%, Time: 10.9916s\n",
            "Epoch: 46/50\n",
            "Epoch : 045, Training: Loss: 1.7326, Accuracy: 20.0000%, \n",
            "\t\tValidation : Loss : 1.7326, Accuracy: 20.0000%, Time: 11.0948s\n",
            "Epoch: 47/50\n",
            "Epoch : 046, Training: Loss: 1.7326, Accuracy: 20.0000%, \n",
            "\t\tValidation : Loss : 1.7326, Accuracy: 20.0000%, Time: 10.9162s\n",
            "Epoch: 48/50\n",
            "Epoch : 047, Training: Loss: 1.7326, Accuracy: 20.0000%, \n",
            "\t\tValidation : Loss : 1.7326, Accuracy: 20.0000%, Time: 10.9321s\n",
            "Epoch: 49/50\n",
            "Epoch : 048, Training: Loss: 1.7326, Accuracy: 20.0000%, \n",
            "\t\tValidation : Loss : 1.7326, Accuracy: 20.0000%, Time: 10.8881s\n",
            "Epoch: 50/50\n",
            "Epoch : 049, Training: Loss: 1.7326, Accuracy: 20.0000%, \n",
            "\t\tValidation : Loss : 1.7326, Accuracy: 20.0000%, Time: 11.0233s\n"
          ],
          "name": "stdout"
        }
      ]
    },
    {
      "cell_type": "code",
      "metadata": {
        "id": "e7utM_mzNN_n",
        "colab": {
          "base_uri": "https://localhost:8080/",
          "height": 283
        },
        "outputId": "782c86ef-465c-4c6a-d153-9469749bfe18"
      },
      "source": [
        "history = np.array(history)\n",
        "plt.plot(history[:,0:2])\n",
        "plt.legend(['Tr Loss', 'Val Loss'])\n",
        "plt.xlabel('Epoch Number')\n",
        "plt.ylabel('Loss')\n",
        "plt.ylim(0,1)\n",
        "plt.savefig(dataset+'_loss_curve.png')\n",
        "plt.show()\n"
      ],
      "execution_count": 103,
      "outputs": [
        {
          "output_type": "display_data",
          "data": {
            "image/png": "[encoded data removed]",
            "text/plain": [
              "<Figure size 432x288 with 1 Axes>"
            ]
          },
          "metadata": {
            "tags": [],
            "needs_background": "light"
          }
        }
      ]
    },
    {
      "cell_type": "code",
      "metadata": {
        "id": "maoqBTW8NN_n",
        "colab": {
          "base_uri": "https://localhost:8080/",
          "height": 283
        },
        "outputId": "c4eb2959-fc56-435e-8dca-459175827f3e"
      },
      "source": [
        "plt.plot(history[:,2:4])\n",
        "plt.legend(['Tr Accuracy', 'Val Accuracy'])\n",
        "plt.xlabel('Epoch Number')\n",
        "plt.ylabel('Accuracy')\n",
        "plt.ylim(0,1)\n",
        "plt.savefig(dataset+'_accuracy_curve.png')\n",
        "plt.show()"
      ],
      "execution_count": 104,
      "outputs": [
        {
          "output_type": "display_data",
          "data": {
            "image/png": "[encoded data removed]",
            "text/plain": [
              "<Figure size 432x288 with 1 Axes>"
            ]
          },
          "metadata": {
            "tags": [],
            "needs_background": "light"
          }
        }
      ]
    },
    {
      "cell_type": "code",
      "metadata": {
        "id": "HN9wnQiKNN_n"
      },
      "source": [
        " def computeTestSetAccuracy(model, loss_criterion):\n",
        "    '''\n",
        "    Function to compute the accuracy on the test set\n",
        "    Parameters\n",
        "        :param model: Model to test\n",
        "        :param loss_criterion: Loss Criterion to minimize\n",
        "    '''\n",
        "\n",
        "    device = torch.device(\"cuda:0\" if torch.cuda.is_available() else \"cpu\")\n",
        "\n",
        "    test_acc = 0.0\n",
        "    test_loss = 0.0\n",
        "\n",
        "    # Validation - No gradient tracking needed\n",
        "    with torch.no_grad():\n",
        "\n",
        "        # Set to evaluation mode\n",
        "        model.eval()\n",
        "\n",
        "        # Validation loop\n",
        "        for j, (inputs, labels) in enumerate(test_data_loader):\n",
        "            inputs = inputs.to(device)\n",
        "            labels = labels.to(device)\n",
        "\n",
        "            # Forward pass - compute outputs on input data using the model\n",
        "            outputs = model(inputs)\n",
        "\n",
        "            # Compute loss\n",
        "            loss = loss_criterion(outputs, labels)\n",
        "\n",
        "            # Compute the total loss for the batch and add it to valid_loss\n",
        "            test_loss += loss.item() * inputs.size(0)\n",
        "\n",
        "            # Calculate validation accuracy\n",
        "            ret, predictions = torch.max(outputs.data, 1)\n",
        "            correct_counts = predictions.eq(labels.data.view_as(predictions))\n",
        "\n",
        "            # Convert correct_counts to float and then compute the mean\n",
        "            acc = torch.mean(correct_counts.type(torch.FloatTensor))\n",
        "\n",
        "            # Compute total accuracy in the whole batch and add to valid_acc\n",
        "            test_acc += acc.item() * inputs.size(0)\n",
        "\n",
        "            print(\"Test Batch number: {:03d}, Test: Loss: {:.4f}, Accuracy: {:.4f}\".format(j, loss.item(), acc.item()))\n",
        "\n",
        "    # Find average test loss and test accuracy\n",
        "    avg_test_loss = test_loss/test_data_size \n",
        "    avg_test_acc = test_acc/test_data_size\n",
        "\n",
        "    print(\"Test accuracy : \" + str(avg_test_acc))\n"
      ],
      "execution_count": 105,
      "outputs": []
    },
    {
      "cell_type": "code",
      "metadata": {
        "id": "whODQA0WNN_n"
      },
      "source": [
        "def predict(model, test_image_name):\n",
        "    '''\n",
        "    Function to predict the class of a single test image\n",
        "    Parameters\n",
        "        :param model: Model to test\n",
        "        :param test_image_name: Test image\n",
        "\n",
        "    '''\n",
        "    \n",
        "    transform = image_transforms['test']\n",
        "\n",
        "    test_image = Image.open(test_image_name)\n",
        "    plt.imshow(test_image)\n",
        "    \n",
        "    test_image_tensor = transform(test_image)\n",
        "\n",
        "    if torch.cuda.is_available():\n",
        "        test_image_tensor = test_image_tensor.view(1, 3, 32, 32).cuda()\n",
        "    else:\n",
        "        test_image_tensor = test_image_tensor.view(1, 3, 32, 32)\n",
        "    \n",
        "    with torch.no_grad():\n",
        "        model.eval()\n",
        "        # Model outputs log probabilities\n",
        "        out = model(test_image_tensor)\n",
        "        ps = torch.exp(out)\n",
        "        topk, topclass = ps.topk(3, dim=1)\n",
        "        for i in range(3):\n",
        "            print(\"Prediction\", i+1, \":\", idx_to_class[topclass.cpu().numpy()[0][i]], \", Score: \", topk.cpu().numpy()[0][i])\n",
        "\n",
        "\n"
      ],
      "execution_count": 106,
      "outputs": []
    },
    {
      "cell_type": "code",
      "metadata": {
        "id": "evwaF0q5NN_n"
      },
      "source": [
        "# Test a particular model on a test image\n",
        "\n",
        "#dataset = '/content/drive/My Drive/test/'\n",
        "#model = torch.load('/content/drive/My Drive/01. TEACHING/MACHINE_VISION/code/fruit_dataset_model_49.pt')\n",
        "#predict(model, dataset+'pumpkin/0a53555962a12877a40280e6d38cc4019bd4050f.jpg')           \n",
        "        "
      ],
      "execution_count": 108,
      "outputs": []
    },
    {
      "cell_type": "code",
      "metadata": {
        "id": "aHLaJfJjY8LT"
      },
      "source": [
        "# Load Data from folders\n",
        "#computeTestSetAccuracy(model, loss_func)"
      ],
      "execution_count": 110,
      "outputs": []
    },
    {
      "cell_type": "code",
      "metadata": {
        "id": "mlhaibb2ZMi-"
      },
      "source": [
        ""
      ],
      "execution_count": null,
      "outputs": []
    }
  ]
}