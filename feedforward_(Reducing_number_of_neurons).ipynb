{
  "nbformat": 4,
  "nbformat_minor": 0,
  "metadata": {
    "kernelspec": {
      "display_name": "Python 3",
      "language": "python",
      "name": "python3"
    },
    "language_info": {
      "codemirror_mode": {
        "name": "ipython",
        "version": 3
      },
      "file_extension": ".py",
      "mimetype": "text/x-python",
      "name": "python",
      "nbconvert_exporter": "python",
      "pygments_lexer": "ipython3",
      "version": "3.6.12"
    },
    "colab": {
      "name": "feedforward (Reducing number of neurons).ipynb",
      "provenance": [],
      "collapsed_sections": [],
      "include_colab_link": true
    },
    "accelerator": "GPU"
  },
  "cells": [
    {
      "cell_type": "markdown",
      "metadata": {
        "id": "view-in-github",
        "colab_type": "text"
      },
      "source": [
        "<a href=\"https://colab.research.google.com/github/AhmedAsaad272/Final-Project/blob/main/feedforward_(Reducing_number_of_neurons).ipynb\" target=\"_parent\"><img src=\"https://colab.research.google.com/assets/colab-badge.svg\" alt=\"Open In Colab\"/></a>"
      ]
    },
    {
      "cell_type": "code",
      "metadata": {
        "id": "qmiTggRzNN_k"
      },
      "source": [
        "import torch, torchvision\n",
        "from torchvision import datasets, models, transforms\n",
        "import torch.nn as nn\n",
        "import torch.nn.functional as F\n",
        "import torch.optim as optim\n",
        "from torch.utils.data import DataLoader\n",
        "import time\n",
        "from torchsummary import summary\n",
        "\n",
        "import numpy as np\n",
        "import matplotlib.pyplot as plt\n",
        "import os\n",
        "\n",
        "from PIL import Image"
      ],
      "execution_count": 57,
      "outputs": []
    },
    {
      "cell_type": "code",
      "metadata": {
        "id": "tPhGMJD_OjzW",
        "colab": {
          "base_uri": "https://localhost:8080/"
        },
        "outputId": "e5740a2b-21ab-49a2-bfb9-a46f74698713"
      },
      "source": [
        "\n",
        "# mount drive so that we can use the dataset from google drive\n",
        "\n",
        "from google.colab import drive\n",
        "drive.mount(\"/content/drive\")"
      ],
      "execution_count": 58,
      "outputs": [
        {
          "output_type": "stream",
          "text": [
            "Drive already mounted at /content/drive; to attempt to forcibly remount, call drive.mount(\"/content/drive\", force_remount=True).\n"
          ],
          "name": "stdout"
        }
      ]
    },
    {
      "cell_type": "code",
      "metadata": {
        "id": "VlVAfq2USRIR",
        "colab": {
          "base_uri": "https://localhost:8080/"
        },
        "outputId": "f667f296-9366-49c5-83bf-091bc8a713c5"
      },
      "source": [
        "!ls \"/content/drive/My Drive/Dataset\""
      ],
      "execution_count": 59,
      "outputs": [
        {
          "output_type": "stream",
          "text": [
            "testing  training\n"
          ],
          "name": "stdout"
        }
      ]
    },
    {
      "cell_type": "code",
      "metadata": {
        "id": "IpES3y6LNN_k"
      },
      "source": [
        "# Applying Transforms to the Data\n",
        "image_transforms = { \n",
        "    'train': transforms.Compose([\n",
        "        transforms.Resize(size=(32,32)),\n",
        "        transforms.RandomRotation(degrees=15),\n",
        "        transforms.RandomHorizontalFlip(),\n",
        "        transforms.ToTensor(),\n",
        "    ]),\n",
        "    'valid': transforms.Compose([\n",
        "        transforms.Resize(size=(32,32)),\n",
        "        transforms.ToTensor(),\n",
        "    ]),\n",
        "    'test': transforms.Compose([\n",
        "        transforms.Resize(size=(32,32)),\n",
        "        transforms.ToTensor(),\n",
        "    ])\n",
        "}"
      ],
      "execution_count": 60,
      "outputs": []
    },
    {
      "cell_type": "code",
      "metadata": {
        "id": "hVj9U4pmNN_k",
        "colab": {
          "base_uri": "https://localhost:8080/"
        },
        "outputId": "4e6a096f-a3b1-4e6a-82f5-c0a252321a9d"
      },
      "source": [
        "# Load the Data\n",
        "\n",
        "# Set train and valid directory paths\n",
        "\n",
        "dataset = '/content/drive/My Drive/Dataset'\n",
        "\n",
        "train_directory = os.path.join(dataset, 'training')\n",
        "valid_directory = os.path.join(dataset, 'testing')\n",
        "test_directory = os.path.join(dataset, 'testing')\n",
        "\n",
        "# Batch size\n",
        "batchSize = 32\n",
        "\n",
        "# Number of classes\n",
        "# num_classes = len(os.listdir(valid_directory))-1  \n",
        "num_classes = len(os.listdir(valid_directory))\n",
        "print(num_classes)\n",
        "\n",
        "# Load Data from folders\n",
        "data = {\n",
        "    'train': datasets.ImageFolder(root=train_directory, transform=image_transforms['train']),\n",
        "    'valid': datasets.ImageFolder(root=valid_directory, transform=image_transforms['valid']),\n",
        "    'test': datasets.ImageFolder(root=test_directory, transform=image_transforms['test'])\n",
        "}\n",
        "\n",
        "# Get a mapping of the indices to the class names, in order to see the output classes of the test images.\n",
        "idx_to_class = {v: k for k, v in data['train'].class_to_idx.items()}\n",
        "print(idx_to_class)"
      ],
      "execution_count": 145,
      "outputs": [
        {
          "output_type": "stream",
          "text": [
            "5\n",
            "{0: 'bracelet', 1: 'earring', 2: 'necklace', 3: 'nose ring', 4: 'ring'}\n"
          ],
          "name": "stdout"
        }
      ]
    },
    {
      "cell_type": "code",
      "metadata": {
        "id": "CzOZJ5-_NN_l",
        "colab": {
          "base_uri": "https://localhost:8080/"
        },
        "outputId": "3631cbcf-41c6-41d3-8c5d-86aa2da62827"
      },
      "source": [
        "data['train']"
      ],
      "execution_count": 62,
      "outputs": [
        {
          "output_type": "execute_result",
          "data": {
            "text/plain": [
              "Dataset ImageFolder\n",
              "    Number of datapoints: 3150\n",
              "    Root location: /content/drive/My Drive/Dataset/training\n",
              "    StandardTransform\n",
              "Transform: Compose(\n",
              "               Resize(size=(32, 32), interpolation=PIL.Image.BILINEAR)\n",
              "               RandomRotation(degrees=[-15.0, 15.0], resample=False, expand=False)\n",
              "               RandomHorizontalFlip(p=0.5)\n",
              "               ToTensor()\n",
              "           )"
            ]
          },
          "metadata": {
            "tags": []
          },
          "execution_count": 62
        }
      ]
    },
    {
      "cell_type": "code",
      "metadata": {
        "id": "I1DGlNG4NN_m"
      },
      "source": [
        "# Size of Data, to be used for calculating Average Loss and Accuracy\n",
        "train_data_size = len(data['train'])\n",
        "valid_data_size = len(data['valid'])\n",
        "test_data_size = len(data['test'])\n",
        "\n",
        "# Create iterators for the Data loaded using DataLoader module\n",
        "train_data_loader = DataLoader(data['train'], batch_size=batchSize, shuffle=True)\n",
        "valid_data_loader = DataLoader(data['valid'], batch_size=batchSize, shuffle=True)\n",
        "test_data_loader = DataLoader(data['test'], batch_size=batchSize, shuffle=True)"
      ],
      "execution_count": 63,
      "outputs": []
    },
    {
      "cell_type": "code",
      "metadata": {
        "id": "4tEVlKdGNN_m",
        "colab": {
          "base_uri": "https://localhost:8080/"
        },
        "outputId": "f30c7a88-1523-4b3d-87f1-57d82967691f"
      },
      "source": [
        "train_data_size, valid_data_size, test_data_size"
      ],
      "execution_count": 64,
      "outputs": [
        {
          "output_type": "execute_result",
          "data": {
            "text/plain": [
              "(3150, 1350, 1350)"
            ]
          },
          "metadata": {
            "tags": []
          },
          "execution_count": 64
        }
      ]
    },
    {
      "cell_type": "code",
      "metadata": {
        "id": "KvztzPBgNN_m"
      },
      "source": [
        "input_size = 32*32*3   #3072 neurons"
      ],
      "execution_count": 65,
      "outputs": []
    },
    {
      "cell_type": "code",
      "metadata": {
        "id": "vNZV26FVNN_m"
      },
      "source": [
        "class ourModel(nn.Module):\n",
        "    def __init__(self, input_size, num_classes):\n",
        "        super().__init__()\n",
        "        self.linear1 = nn.Linear(input_size, 100)\n",
        "        # hidden layers\n",
        "        self.linear2 = nn.Linear(100, 50)\n",
        "        self.linear3 = nn.Linear(50, 20)\n",
        "        # output layer\n",
        "        self.linear4 = nn.Linear(20, num_classes)\n",
        "        # Define proportion or neurons to dropout\n",
        "        self.dropout = nn.Dropout(0.3)\n",
        "        \n",
        "    def forward(self, xb):\n",
        "        # Flatten images into vectors\n",
        "        out = xb.view(xb.size(0), -1)\n",
        "        # Apply layers & activation functions\n",
        "        out = self.linear1(out)\n",
        "        # Apply activation function\n",
        "        out = torch.sigmoid(out)\n",
        "        # Apply dropout\n",
        "        #out = self.dropout(out)\n",
        "        # Get intermediate outputs using hidden layer 2\n",
        "        out = self.linear2(out)\n",
        "        # Apply activation function\n",
        "        out = torch.sigmoid(out)\n",
        "        # Apply dropout\n",
        "        #out = self.dropout(out)\n",
        "        # Get predictions using output layer\n",
        "        out = self.linear3(out)\n",
        "        # Apply activation function\n",
        "        out = torch.sigmoid(out)\n",
        "        # Apply dropout\n",
        "        #out = self.dropout(out)\n",
        "        # Get predictions using output layer\n",
        "        out = self.linear4(out)\n",
        "        # Apply activation function\n",
        "        out = torch.sigmoid(out)\n",
        "        return out"
      ],
      "execution_count": 129,
      "outputs": []
    },
    {
      "cell_type": "code",
      "metadata": {
        "id": "FVunKpa9NN_m"
      },
      "source": [
        "model = ourModel(input_size, num_classes)\n",
        "\n",
        "model = model.to('cuda:0')"
      ],
      "execution_count": 130,
      "outputs": []
    },
    {
      "cell_type": "code",
      "metadata": {
        "id": "IaLvOO3INN_m",
        "colab": {
          "base_uri": "https://localhost:8080/"
        },
        "outputId": "bfef427e-bdcd-40f4-b12d-cac3faa70813"
      },
      "source": [
        "model"
      ],
      "execution_count": 131,
      "outputs": [
        {
          "output_type": "execute_result",
          "data": {
            "text/plain": [
              "ourModel(\n",
              "  (linear1): Linear(in_features=3072, out_features=100, bias=True)\n",
              "  (linear2): Linear(in_features=100, out_features=50, bias=True)\n",
              "  (linear3): Linear(in_features=50, out_features=20, bias=True)\n",
              "  (linear4): Linear(in_features=20, out_features=5, bias=True)\n",
              "  (dropout): Dropout(p=0.3, inplace=False)\n",
              ")"
            ]
          },
          "metadata": {
            "tags": []
          },
          "execution_count": 131
        }
      ]
    },
    {
      "cell_type": "code",
      "metadata": {
        "id": "nm05EqW6NN_n"
      },
      "source": [
        "# Define Optimizer and Loss Function\n",
        "learning_rate = 0.01 # 0.0000001\n",
        "loss_func = nn.CrossEntropyLoss()\n",
        "#optimizer = optim.SGD(model.parameters(), lr=0.01, momentum=0.9)\n",
        "optimizer = optim.Adam(model.parameters(), lr = learning_rate)"
      ],
      "execution_count": 133,
      "outputs": []
    },
    {
      "cell_type": "code",
      "metadata": {
        "id": "XmvqX1lTNN_n"
      },
      "source": [
        "def train_and_validate(model, loss_criterion, optimizer, epochs=25):\n",
        "    '''\n",
        "    Function to train and validate\n",
        "    Parameters\n",
        "        :param model: Model to train and validate\n",
        "        :param loss_criterion: Loss Criterion to minimize\n",
        "        :param optimizer: Optimizer for computing gradients\n",
        "        :param epochs: Number of epochs (default=25)\n",
        "  \n",
        "    Returns\n",
        "        model: Trained Model with best validation accuracy\n",
        "        history: (dict object): Having training loss, accuracy and validation loss, accuracy\n",
        "    '''\n",
        "    \n",
        "    start = time.time()\n",
        "    history = []\n",
        "    best_acc = 0.0\n",
        "\n",
        "    for epoch in range(epochs):\n",
        "        epoch_start = time.time()\n",
        "        print(\"Epoch: {}/{}\".format(epoch+1, epochs))\n",
        "        \n",
        "        # Set to training mode\n",
        "        model.train()\n",
        "        \n",
        "        # Loss and Accuracy within the epoch\n",
        "        train_loss = 0.0\n",
        "        train_acc = 0.0\n",
        "        \n",
        "        valid_loss = 0.0\n",
        "        valid_acc = 0.0\n",
        "        \n",
        "        for i, (inputs, labels) in enumerate(train_data_loader):\n",
        "\n",
        "            inputs = inputs.to(device)\n",
        "            labels = labels.to(device)\n",
        "            \n",
        "            # Clean existing gradients\n",
        "            optimizer.zero_grad()\n",
        "            \n",
        "            # Forward pass - compute outputs on input data using the model\n",
        "            outputs = model(inputs)\n",
        "            \n",
        "            # Compute loss\n",
        "            loss = loss_criterion(outputs, labels)\n",
        "            \n",
        "            # Backpropagate the gradients\n",
        "            loss.backward()\n",
        "            \n",
        "            # Update the parameters\n",
        "            optimizer.step()\n",
        "            \n",
        "            # Compute the total loss for the batch and add it to train_loss\n",
        "            train_loss += loss.item() * inputs.size(0)\n",
        "            \n",
        "            # Compute the accuracy\n",
        "            ret, predictions = torch.max(outputs.data, 1)\n",
        "            correct_counts = predictions.eq(labels.data.view_as(predictions))\n",
        "            \n",
        "            # Convert correct_counts to float and then compute the mean\n",
        "            acc = torch.mean(correct_counts.type(torch.FloatTensor))\n",
        "            \n",
        "            # Compute total accuracy in the whole batch and add to train_acc\n",
        "            train_acc += acc.item() * inputs.size(0)\n",
        "            \n",
        "            #print(\"Batch number: {:03d}, Training: Loss: {:.4f}, Accuracy: {:.4f}\".format(i, loss.item(), acc.item()))\n",
        "\n",
        "            \n",
        "        # Validation - No gradient tracking needed\n",
        "        with torch.no_grad():\n",
        "\n",
        "            # Set to evaluation mode\n",
        "            model.eval()\n",
        "\n",
        "            # Validation loop\n",
        "            for j, (inputs, labels) in enumerate(valid_data_loader):\n",
        "                inputs = inputs.to(device)\n",
        "                labels = labels.to(device)\n",
        "\n",
        "                # Forward pass - compute outputs on input data using the model\n",
        "                outputs = model(inputs)\n",
        "\n",
        "                # Compute loss\n",
        "                loss = loss_criterion(outputs, labels)\n",
        "\n",
        "                # Compute the total loss for the batch and add it to valid_loss\n",
        "                valid_loss += loss.item() * inputs.size(0)\n",
        "\n",
        "                # Calculate validation accuracy\n",
        "                ret, predictions = torch.max(outputs.data, 1)\n",
        "                correct_counts = predictions.eq(labels.data.view_as(predictions))\n",
        "\n",
        "                # Convert correct_counts to float and then compute the mean\n",
        "                acc = torch.mean(correct_counts.type(torch.FloatTensor))\n",
        "\n",
        "                # Compute total accuracy in the whole batch and add to valid_acc\n",
        "                valid_acc += acc.item() * inputs.size(0)\n",
        "\n",
        "                #print(\"Validation Batch number: {:03d}, Validation: Loss: {:.4f}, Accuracy: {:.4f}\".format(j, loss.item(), acc.item()))\n",
        "            \n",
        "        # Find average training loss and training accuracy\n",
        "        avg_train_loss = train_loss/train_data_size \n",
        "        avg_train_acc = train_acc/train_data_size\n",
        "\n",
        "        # Find average training loss and training accuracy\n",
        "        avg_valid_loss = valid_loss/valid_data_size \n",
        "        avg_valid_acc = valid_acc/valid_data_size\n",
        "\n",
        "        history.append([avg_train_loss, avg_valid_loss, avg_train_acc, avg_valid_acc])\n",
        "                \n",
        "        epoch_end = time.time()\n",
        "    \n",
        "        print(\"Epoch : {:03d}, Training: Loss: {:.4f}, Accuracy: {:.4f}%, \\n\\t\\tValidation : Loss : {:.4f}, Accuracy: {:.4f}%, Time: {:.4f}s\".format(epoch, avg_train_loss, avg_train_acc*100, avg_valid_loss, avg_valid_acc*100, epoch_end-epoch_start))\n",
        "        \n",
        "        # Save if the model has best accuracy till now\n",
        "       # torch.save(model, dataset+'_model_'+str(epoch)+'.pt')\n",
        "            \n",
        "    return model, history\n",
        "    "
      ],
      "execution_count": 134,
      "outputs": []
    },
    {
      "cell_type": "code",
      "metadata": {
        "id": "ltOovmKDVAgK"
      },
      "source": [
        "device = torch.device(\"cuda:0\" if torch.cuda.is_available() else \"cpu\")"
      ],
      "execution_count": 135,
      "outputs": []
    },
    {
      "cell_type": "code",
      "metadata": {
        "id": "OZFVuiIQVCdP",
        "colab": {
          "base_uri": "https://localhost:8080/"
        },
        "outputId": "77abe874-8446-4614-e0ee-5111d9ef1896"
      },
      "source": [
        "device"
      ],
      "execution_count": 136,
      "outputs": [
        {
          "output_type": "execute_result",
          "data": {
            "text/plain": [
              "device(type='cuda', index=0)"
            ]
          },
          "metadata": {
            "tags": []
          },
          "execution_count": 136
        }
      ]
    },
    {
      "cell_type": "code",
      "metadata": {
        "id": "sykDVtWQNN_n",
        "colab": {
          "base_uri": "https://localhost:8080/"
        },
        "outputId": "a2bfb214-dfb9-48ab-edfe-8483ed9af70c"
      },
      "source": [
        "# Train the model for 25 epochs\n",
        "num_epochs = 50\n",
        "trained_model, history = train_and_validate(model, loss_func, optimizer, num_epochs)\n",
        "\n",
        "#torch.save(history, dataset+'_history.pt')"
      ],
      "execution_count": 137,
      "outputs": [
        {
          "output_type": "stream",
          "text": [
            "Epoch: 1/50\n"
          ],
          "name": "stdout"
        },
        {
          "output_type": "stream",
          "text": [
            "/usr/local/lib/python3.6/dist-packages/PIL/Image.py:932: UserWarning: Palette images with Transparency expressed in bytes should be converted to RGBA images\n",
            "  \"Palette images with Transparency expressed in bytes should be \"\n"
          ],
          "name": "stderr"
        },
        {
          "output_type": "stream",
          "text": [
            "Epoch : 000, Training: Loss: 1.6122, Accuracy: 19.5873%, \n",
            "\t\tValidation : Loss : 1.6097, Accuracy: 20.0000%, Time: 10.5379s\n",
            "Epoch: 2/50\n",
            "Epoch : 001, Training: Loss: 1.6106, Accuracy: 18.9524%, \n",
            "\t\tValidation : Loss : 1.6096, Accuracy: 20.0000%, Time: 11.4523s\n",
            "Epoch: 3/50\n",
            "Epoch : 002, Training: Loss: 1.6100, Accuracy: 18.8889%, \n",
            "\t\tValidation : Loss : 1.6095, Accuracy: 20.0000%, Time: 11.0426s\n",
            "Epoch: 4/50\n",
            "Epoch : 003, Training: Loss: 1.6101, Accuracy: 18.9524%, \n",
            "\t\tValidation : Loss : 1.6095, Accuracy: 20.0000%, Time: 10.5765s\n",
            "Epoch: 5/50\n",
            "Epoch : 004, Training: Loss: 1.6098, Accuracy: 19.3333%, \n",
            "\t\tValidation : Loss : 1.6094, Accuracy: 20.0741%, Time: 10.4939s\n",
            "Epoch: 6/50\n",
            "Epoch : 005, Training: Loss: 1.6098, Accuracy: 20.1905%, \n",
            "\t\tValidation : Loss : 1.6096, Accuracy: 20.0000%, Time: 10.5078s\n",
            "Epoch: 7/50\n",
            "Epoch : 006, Training: Loss: 1.6102, Accuracy: 18.5397%, \n",
            "\t\tValidation : Loss : 1.6095, Accuracy: 19.7778%, Time: 10.5261s\n",
            "Epoch: 8/50\n",
            "Epoch : 007, Training: Loss: 1.6100, Accuracy: 19.8730%, \n",
            "\t\tValidation : Loss : 1.6095, Accuracy: 20.0000%, Time: 10.5767s\n",
            "Epoch: 9/50\n",
            "Epoch : 008, Training: Loss: 1.6098, Accuracy: 18.8889%, \n",
            "\t\tValidation : Loss : 1.6095, Accuracy: 20.0000%, Time: 10.5109s\n",
            "Epoch: 10/50\n",
            "Epoch : 009, Training: Loss: 1.6098, Accuracy: 18.4762%, \n",
            "\t\tValidation : Loss : 1.6095, Accuracy: 20.0000%, Time: 10.5509s\n",
            "Epoch: 11/50\n",
            "Epoch : 010, Training: Loss: 1.6097, Accuracy: 19.2698%, \n",
            "\t\tValidation : Loss : 1.6094, Accuracy: 20.0000%, Time: 10.6608s\n",
            "Epoch: 12/50\n",
            "Epoch : 011, Training: Loss: 1.6098, Accuracy: 19.3333%, \n",
            "\t\tValidation : Loss : 1.6094, Accuracy: 20.0000%, Time: 10.5782s\n",
            "Epoch: 13/50\n",
            "Epoch : 012, Training: Loss: 1.6098, Accuracy: 18.5714%, \n",
            "\t\tValidation : Loss : 1.6094, Accuracy: 20.0000%, Time: 10.5624s\n",
            "Epoch: 14/50\n",
            "Epoch : 013, Training: Loss: 1.6098, Accuracy: 18.6667%, \n",
            "\t\tValidation : Loss : 1.6093, Accuracy: 20.0741%, Time: 10.5960s\n",
            "Epoch: 15/50\n",
            "Epoch : 014, Training: Loss: 1.6099, Accuracy: 18.8889%, \n",
            "\t\tValidation : Loss : 1.6095, Accuracy: 20.0000%, Time: 10.5772s\n",
            "Epoch: 16/50\n",
            "Epoch : 015, Training: Loss: 1.6098, Accuracy: 19.6190%, \n",
            "\t\tValidation : Loss : 1.6094, Accuracy: 20.1481%, Time: 10.6579s\n",
            "Epoch: 17/50\n",
            "Epoch : 016, Training: Loss: 1.6100, Accuracy: 19.1746%, \n",
            "\t\tValidation : Loss : 1.6095, Accuracy: 20.0000%, Time: 10.5780s\n",
            "Epoch: 18/50\n",
            "Epoch : 017, Training: Loss: 1.6097, Accuracy: 19.4603%, \n",
            "\t\tValidation : Loss : 1.6094, Accuracy: 20.0000%, Time: 10.7056s\n",
            "Epoch: 19/50\n",
            "Epoch : 018, Training: Loss: 1.6098, Accuracy: 19.2381%, \n",
            "\t\tValidation : Loss : 1.6094, Accuracy: 20.0741%, Time: 10.8465s\n",
            "Epoch: 20/50\n",
            "Epoch : 019, Training: Loss: 1.6097, Accuracy: 18.9841%, \n",
            "\t\tValidation : Loss : 1.6094, Accuracy: 20.0000%, Time: 10.7451s\n",
            "Epoch: 21/50\n",
            "Epoch : 020, Training: Loss: 1.6098, Accuracy: 19.0159%, \n",
            "\t\tValidation : Loss : 1.6094, Accuracy: 20.0000%, Time: 10.7661s\n",
            "Epoch: 22/50\n",
            "Epoch : 021, Training: Loss: 1.6098, Accuracy: 19.8730%, \n",
            "\t\tValidation : Loss : 1.6099, Accuracy: 20.0000%, Time: 10.7933s\n",
            "Epoch: 23/50\n",
            "Epoch : 022, Training: Loss: 1.6100, Accuracy: 18.3175%, \n",
            "\t\tValidation : Loss : 1.6094, Accuracy: 20.0000%, Time: 10.7501s\n",
            "Epoch: 24/50\n",
            "Epoch : 023, Training: Loss: 1.6098, Accuracy: 19.5873%, \n",
            "\t\tValidation : Loss : 1.6094, Accuracy: 20.0000%, Time: 11.1304s\n",
            "Epoch: 25/50\n",
            "Epoch : 024, Training: Loss: 1.6098, Accuracy: 18.8254%, \n",
            "\t\tValidation : Loss : 1.6094, Accuracy: 20.0000%, Time: 10.7407s\n",
            "Epoch: 26/50\n",
            "Epoch : 025, Training: Loss: 1.6097, Accuracy: 19.1111%, \n",
            "\t\tValidation : Loss : 1.6095, Accuracy: 20.0000%, Time: 10.8571s\n",
            "Epoch: 27/50\n",
            "Epoch : 026, Training: Loss: 1.6098, Accuracy: 18.4762%, \n",
            "\t\tValidation : Loss : 1.6094, Accuracy: 20.0000%, Time: 10.8227s\n",
            "Epoch: 28/50\n",
            "Epoch : 027, Training: Loss: 1.6098, Accuracy: 19.4286%, \n",
            "\t\tValidation : Loss : 1.6095, Accuracy: 20.0000%, Time: 10.6921s\n",
            "Epoch: 29/50\n",
            "Epoch : 028, Training: Loss: 1.6098, Accuracy: 18.2222%, \n",
            "\t\tValidation : Loss : 1.6094, Accuracy: 20.0000%, Time: 10.7828s\n",
            "Epoch: 30/50\n",
            "Epoch : 029, Training: Loss: 1.6097, Accuracy: 19.0159%, \n",
            "\t\tValidation : Loss : 1.6094, Accuracy: 20.0000%, Time: 10.8059s\n",
            "Epoch: 31/50\n",
            "Epoch : 030, Training: Loss: 1.6099, Accuracy: 19.2381%, \n",
            "\t\tValidation : Loss : 1.6095, Accuracy: 20.0000%, Time: 11.8379s\n",
            "Epoch: 32/50\n",
            "Epoch : 031, Training: Loss: 1.6098, Accuracy: 19.0476%, \n",
            "\t\tValidation : Loss : 1.6094, Accuracy: 20.0000%, Time: 11.1958s\n",
            "Epoch: 33/50\n",
            "Epoch : 032, Training: Loss: 1.6097, Accuracy: 19.9683%, \n",
            "\t\tValidation : Loss : 1.6094, Accuracy: 20.0000%, Time: 10.8635s\n",
            "Epoch: 34/50\n",
            "Epoch : 033, Training: Loss: 1.6097, Accuracy: 17.1429%, \n",
            "\t\tValidation : Loss : 1.6094, Accuracy: 20.0000%, Time: 10.8405s\n",
            "Epoch: 35/50\n",
            "Epoch : 034, Training: Loss: 1.6097, Accuracy: 18.6667%, \n",
            "\t\tValidation : Loss : 1.6094, Accuracy: 20.0000%, Time: 10.7993s\n",
            "Epoch: 36/50\n",
            "Epoch : 035, Training: Loss: 1.6097, Accuracy: 18.9524%, \n",
            "\t\tValidation : Loss : 1.6094, Accuracy: 20.0000%, Time: 10.8110s\n",
            "Epoch: 37/50\n",
            "Epoch : 036, Training: Loss: 1.6098, Accuracy: 17.9048%, \n",
            "\t\tValidation : Loss : 1.6095, Accuracy: 20.0000%, Time: 10.7280s\n",
            "Epoch: 38/50\n",
            "Epoch : 037, Training: Loss: 1.6098, Accuracy: 18.7937%, \n",
            "\t\tValidation : Loss : 1.6095, Accuracy: 20.0000%, Time: 10.7503s\n",
            "Epoch: 39/50\n",
            "Epoch : 038, Training: Loss: 1.6098, Accuracy: 18.8571%, \n",
            "\t\tValidation : Loss : 1.6095, Accuracy: 20.0000%, Time: 10.7917s\n",
            "Epoch: 40/50\n",
            "Epoch : 039, Training: Loss: 1.6098, Accuracy: 18.7619%, \n",
            "\t\tValidation : Loss : 1.6094, Accuracy: 20.0000%, Time: 10.7618s\n",
            "Epoch: 41/50\n",
            "Epoch : 040, Training: Loss: 1.6098, Accuracy: 19.2063%, \n",
            "\t\tValidation : Loss : 1.6094, Accuracy: 20.0000%, Time: 10.8825s\n",
            "Epoch: 42/50\n",
            "Epoch : 041, Training: Loss: 1.6097, Accuracy: 19.5873%, \n",
            "\t\tValidation : Loss : 1.6095, Accuracy: 20.0000%, Time: 10.8212s\n",
            "Epoch: 43/50\n",
            "Epoch : 042, Training: Loss: 1.6098, Accuracy: 18.6667%, \n",
            "\t\tValidation : Loss : 1.6094, Accuracy: 20.0000%, Time: 10.7159s\n",
            "Epoch: 44/50\n",
            "Epoch : 043, Training: Loss: 1.6097, Accuracy: 19.1429%, \n",
            "\t\tValidation : Loss : 1.6094, Accuracy: 20.0000%, Time: 10.7952s\n",
            "Epoch: 45/50\n",
            "Epoch : 044, Training: Loss: 1.6098, Accuracy: 18.6667%, \n",
            "\t\tValidation : Loss : 1.6094, Accuracy: 20.0000%, Time: 10.7518s\n",
            "Epoch: 46/50\n",
            "Epoch : 045, Training: Loss: 1.6097, Accuracy: 19.0159%, \n",
            "\t\tValidation : Loss : 1.6095, Accuracy: 20.0000%, Time: 10.7205s\n",
            "Epoch: 47/50\n",
            "Epoch : 046, Training: Loss: 1.6098, Accuracy: 19.2698%, \n",
            "\t\tValidation : Loss : 1.6094, Accuracy: 20.0000%, Time: 10.7646s\n",
            "Epoch: 48/50\n",
            "Epoch : 047, Training: Loss: 1.6099, Accuracy: 18.7619%, \n",
            "\t\tValidation : Loss : 1.6094, Accuracy: 20.0000%, Time: 10.8021s\n",
            "Epoch: 49/50\n",
            "Epoch : 048, Training: Loss: 1.6098, Accuracy: 19.5238%, \n",
            "\t\tValidation : Loss : 1.6094, Accuracy: 20.0000%, Time: 10.8340s\n",
            "Epoch: 50/50\n",
            "Epoch : 049, Training: Loss: 1.6099, Accuracy: 19.3016%, \n",
            "\t\tValidation : Loss : 1.6094, Accuracy: 20.0000%, Time: 10.7807s\n"
          ],
          "name": "stdout"
        }
      ]
    },
    {
      "cell_type": "code",
      "metadata": {
        "id": "e7utM_mzNN_n",
        "colab": {
          "base_uri": "https://localhost:8080/",
          "height": 283
        },
        "outputId": "fc0c6148-8d0c-4ffa-c6f4-23c9641934db"
      },
      "source": [
        "history = np.array(history)\n",
        "plt.plot(history[:,0:2])\n",
        "plt.legend(['Tr Loss', 'Val Loss'])\n",
        "plt.xlabel('Epoch Number')\n",
        "plt.ylabel('Loss')\n",
        "plt.ylim(0,1)\n",
        "plt.savefig(dataset+'_loss_curve.png')\n",
        "plt.show()\n"
      ],
      "execution_count": 146,
      "outputs": [
        {
          "output_type": "display_data",
          "data": {
            "image/png": "[encoded data removed]",
            "text/plain": [
              "<Figure size 432x288 with 1 Axes>"
            ]
          },
          "metadata": {
            "tags": [],
            "needs_background": "light"
          }
        }
      ]
    },
    {
      "cell_type": "code",
      "metadata": {
        "id": "maoqBTW8NN_n",
        "colab": {
          "base_uri": "https://localhost:8080/",
          "height": 283
        },
        "outputId": "8312a037-3bfd-491b-f97a-7a4799e126a8"
      },
      "source": [
        "plt.plot(history[:,2:4])\n",
        "plt.legend(['Tr Accuracy', 'Val Accuracy'])\n",
        "plt.xlabel('Epoch Number')\n",
        "plt.ylabel('Accuracy')\n",
        "plt.ylim(0,1)\n",
        "plt.savefig(dataset+'_accuracy_curve.png')\n",
        "plt.show()"
      ],
      "execution_count": 147,
      "outputs": [
        {
          "output_type": "display_data",
          "data": {
            "image/png": "[encoded data removed]",
            "text/plain": [
              "<Figure size 432x288 with 1 Axes>"
            ]
          },
          "metadata": {
            "tags": [],
            "needs_background": "light"
          }
        }
      ]
    },
    {
      "cell_type": "code",
      "metadata": {
        "id": "HN9wnQiKNN_n"
      },
      "source": [
        " def computeTestSetAccuracy(model, loss_criterion):\n",
        "    '''\n",
        "    Function to compute the accuracy on the test set\n",
        "    Parameters\n",
        "        :param model: Model to test\n",
        "        :param loss_criterion: Loss Criterion to minimize\n",
        "    '''\n",
        "\n",
        "    device = torch.device(\"cuda:0\" if torch.cuda.is_available() else \"cpu\")\n",
        "\n",
        "    test_acc = 0.0\n",
        "    test_loss = 0.0\n",
        "\n",
        "    # Validation - No gradient tracking needed\n",
        "    with torch.no_grad():\n",
        "\n",
        "        # Set to evaluation mode\n",
        "        model.eval()\n",
        "\n",
        "        # Validation loop\n",
        "        for j, (inputs, labels) in enumerate(test_data_loader):\n",
        "            inputs = inputs.to(device)\n",
        "            labels = labels.to(device)\n",
        "\n",
        "            # Forward pass - compute outputs on input data using the model\n",
        "            outputs = model(inputs)\n",
        "\n",
        "            # Compute loss\n",
        "            loss = loss_criterion(outputs, labels)\n",
        "\n",
        "            # Compute the total loss for the batch and add it to valid_loss\n",
        "            test_loss += loss.item() * inputs.size(0)\n",
        "\n",
        "            # Calculate validation accuracy\n",
        "            ret, predictions = torch.max(outputs.data, 1)\n",
        "            correct_counts = predictions.eq(labels.data.view_as(predictions))\n",
        "\n",
        "            # Convert correct_counts to float and then compute the mean\n",
        "            acc = torch.mean(correct_counts.type(torch.FloatTensor))\n",
        "\n",
        "            # Compute total accuracy in the whole batch and add to valid_acc\n",
        "            test_acc += acc.item() * inputs.size(0)\n",
        "\n",
        "            print(\"Test Batch number: {:03d}, Test: Loss: {:.4f}, Accuracy: {:.4f}\".format(j, loss.item(), acc.item()))\n",
        "\n",
        "    # Find average test loss and test accuracy\n",
        "    avg_test_loss = test_loss/test_data_size \n",
        "    avg_test_acc = test_acc/test_data_size\n",
        "\n",
        "    print(\"Test accuracy : \" + str(avg_test_acc))\n"
      ],
      "execution_count": 141,
      "outputs": []
    },
    {
      "cell_type": "code",
      "metadata": {
        "id": "whODQA0WNN_n"
      },
      "source": [
        "def predict(model, test_image_name):\n",
        "    '''\n",
        "    Function to predict the class of a single test image\n",
        "    Parameters\n",
        "        :param model: Model to test\n",
        "        :param test_image_name: Test image\n",
        "\n",
        "    '''\n",
        "    \n",
        "    transform = image_transforms['test']\n",
        "\n",
        "    test_image = Image.open(test_image_name)\n",
        "    plt.imshow(test_image)\n",
        "    \n",
        "    test_image_tensor = transform(test_image)\n",
        "\n",
        "    if torch.cuda.is_available():\n",
        "        test_image_tensor = test_image_tensor.view(1, 3, 32, 32).cuda()\n",
        "    else:\n",
        "        test_image_tensor = test_image_tensor.view(1, 3, 32, 32)\n",
        "    \n",
        "    with torch.no_grad():\n",
        "        model.eval()\n",
        "        # Model outputs log probabilities\n",
        "        out = model(test_image_tensor)\n",
        "        ps = torch.exp(out)\n",
        "        topk, topclass = ps.topk(3, dim=1)\n",
        "        for i in range(3):\n",
        "            print(\"Prediction\", i+1, \":\", idx_to_class[topclass.cpu().numpy()[0][i]], \", Score: \", topk.cpu().numpy()[0][i])\n",
        "\n",
        "\n"
      ],
      "execution_count": 142,
      "outputs": []
    },
    {
      "cell_type": "code",
      "metadata": {
        "id": "evwaF0q5NN_n"
      },
      "source": [
        "# Test a particular model on a test image\n",
        "\n",
        "#dataset = '/content/drive/My Drive/test/'\n",
        "#model = torch.load('/content/drive/My Drive/01. TEACHING/MACHINE_VISION/code/fruit_dataset_model_49.pt')\n",
        "#predict(model, dataset+'pumpkin/0a53555962a12877a40280e6d38cc4019bd4050f.jpg')           \n",
        "        "
      ],
      "execution_count": 143,
      "outputs": []
    },
    {
      "cell_type": "code",
      "metadata": {
        "id": "aHLaJfJjY8LT"
      },
      "source": [
        "# Load Data from folders\n",
        "#computeTestSetAccuracy(model, loss_func)"
      ],
      "execution_count": 144,
      "outputs": []
    },
    {
      "cell_type": "code",
      "metadata": {
        "id": "mlhaibb2ZMi-"
      },
      "source": [
        ""
      ],
      "execution_count": 144,
      "outputs": []
    }
  ]
}