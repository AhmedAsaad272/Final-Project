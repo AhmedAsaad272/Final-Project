{
  "nbformat": 4,
  "nbformat_minor": 0,
  "metadata": {
    "kernelspec": {
      "display_name": "Python 3",
      "language": "python",
      "name": "python3"
    },
    "language_info": {
      "codemirror_mode": {
        "name": "ipython",
        "version": 3
      },
      "file_extension": ".py",
      "mimetype": "text/x-python",
      "name": "python",
      "nbconvert_exporter": "python",
      "pygments_lexer": "ipython3",
      "version": "3.6.12"
    },
    "colab": {
      "name": "Classification with CNN (Defult model)",
      "provenance": [],
      "collapsed_sections": [],
      "include_colab_link": true
    },
    "accelerator": "GPU"
  },
  "cells": [
    {
      "cell_type": "markdown",
      "metadata": {
        "id": "view-in-github",
        "colab_type": "text"
      },
      "source": [
        "<a href=\"https://colab.research.google.com/github/AhmedAsaad272/Final-Project/blob/main/Classification_with_CNN_(Defult_model).ipynb\" target=\"_parent\"><img src=\"https://colab.research.google.com/assets/colab-badge.svg\" alt=\"Open In Colab\"/></a>"
      ]
    },
    {
      "cell_type": "code",
      "metadata": {
        "id": "qoUGF9McjItg"
      },
      "source": [
        "#%env CUDA_VISIBLE_DEVICES=2\n",
        "\n",
        "import torch, torchvision\n",
        "from torchvision import datasets, models, transforms\n",
        "import torch.nn as nn\n",
        "import torch.nn.functional as F\n",
        "import torch.optim as optim\n",
        "from torch.utils.data import DataLoader\n",
        "import time\n",
        "from torchsummary import summary\n",
        "\n",
        "import numpy as np\n",
        "import matplotlib.pyplot as plt\n",
        "import os\n",
        "\n",
        "from PIL import Image"
      ],
      "execution_count": 1,
      "outputs": []
    },
    {
      "cell_type": "code",
      "metadata": {
        "colab": {
          "base_uri": "https://localhost:8080/"
        },
        "id": "i5stc52OkeD7",
        "outputId": "387a38cb-3a8d-445c-9d29-de7342ff939f"
      },
      "source": [
        "# mount drive so that we can use the dataset from google drive\n",
        "\n",
        "from google.colab import drive\n",
        "drive.mount(\"/content/drive\")"
      ],
      "execution_count": 2,
      "outputs": [
        {
          "output_type": "stream",
          "text": [
            "Drive already mounted at /content/drive; to attempt to forcibly remount, call drive.mount(\"/content/drive\", force_remount=True).\n"
          ],
          "name": "stdout"
        }
      ]
    },
    {
      "cell_type": "code",
      "metadata": {
        "colab": {
          "base_uri": "https://localhost:8080/"
        },
        "id": "O2BtKIedkew-",
        "outputId": "accd192a-5522-4a3a-a6c5-19da5c804729"
      },
      "source": [
        "!ls \"/content/drive/My Drive/Dataset\""
      ],
      "execution_count": 3,
      "outputs": [
        {
          "output_type": "stream",
          "text": [
            "testing  training\n"
          ],
          "name": "stdout"
        }
      ]
    },
    {
      "cell_type": "code",
      "metadata": {
        "id": "LPm4ropxjItg"
      },
      "source": [
        "# Applying Transforms to the Data\n",
        "image_transforms = { \n",
        "    'train': transforms.Compose([\n",
        "        transforms.Resize(size=(32,32)),\n",
        "        transforms.RandomRotation(degrees=15),\n",
        "        transforms.RandomHorizontalFlip(),\n",
        "        transforms.ToTensor(),\n",
        "    ]),\n",
        "    'valid': transforms.Compose([\n",
        "        transforms.Resize(size=(32,32)),\n",
        "        transforms.ToTensor(),\n",
        "    ]),\n",
        "    'test': transforms.Compose([\n",
        "        transforms.Resize(size=(32,32)),\n",
        "        transforms.ToTensor(),\n",
        "    ])\n",
        "}"
      ],
      "execution_count": 4,
      "outputs": []
    },
    {
      "cell_type": "code",
      "metadata": {
        "colab": {
          "base_uri": "https://localhost:8080/"
        },
        "id": "tDyoLt2MjItg",
        "outputId": "a47bc90e-cf36-429d-ff3c-1abf27d5f439"
      },
      "source": [
        "# Load the Data\n",
        "\n",
        "# Set train and valid directory paths\n",
        "\n",
        "dataset = '/content/drive/My Drive/Dataset'\n",
        "\n",
        "train_directory = os.path.join(dataset, 'training')\n",
        "valid_directory = os.path.join(dataset, 'testing')\n",
        "test_directory = os.path.join(dataset, 'testing')\n",
        "\n",
        "# Batch size\n",
        "batchSize = 32\n",
        "\n",
        "# Number of classes\n",
        "# num_classes = len(os.listdir(valid_directory))-1  \n",
        "num_classes = len(os.listdir(valid_directory))\n",
        "print(num_classes)\n",
        "\n",
        "# Load Data from folders\n",
        "data = {\n",
        "    'train': datasets.ImageFolder(root=train_directory, transform=image_transforms['train']),\n",
        "    'valid': datasets.ImageFolder(root=valid_directory, transform=image_transforms['valid']),\n",
        "    'test': datasets.ImageFolder(root=test_directory, transform=image_transforms['test'])\n",
        "}\n",
        "\n",
        "# Get a mapping of the indices to the class names, in order to see the output classes of the test images.\n",
        "idx_to_class = {v: k for k, v in data['train'].class_to_idx.items()}\n",
        "print(idx_to_class)"
      ],
      "execution_count": 5,
      "outputs": [
        {
          "output_type": "stream",
          "text": [
            "5\n",
            "{0: 'bracelet', 1: 'earring', 2: 'necklace', 3: 'nose ring', 4: 'ring'}\n"
          ],
          "name": "stdout"
        }
      ]
    },
    {
      "cell_type": "code",
      "metadata": {
        "id": "CCbdBOBMjIth",
        "colab": {
          "base_uri": "https://localhost:8080/"
        },
        "outputId": "2294ce87-c7ee-4518-c4a4-2edc8d95d0d3"
      },
      "source": [
        "data['train']"
      ],
      "execution_count": 6,
      "outputs": [
        {
          "output_type": "execute_result",
          "data": {
            "text/plain": [
              "Dataset ImageFolder\n",
              "    Number of datapoints: 3150\n",
              "    Root location: /content/drive/My Drive/Dataset/training\n",
              "    StandardTransform\n",
              "Transform: Compose(\n",
              "               Resize(size=(32, 32), interpolation=PIL.Image.BILINEAR)\n",
              "               RandomRotation(degrees=[-15.0, 15.0], resample=False, expand=False)\n",
              "               RandomHorizontalFlip(p=0.5)\n",
              "               ToTensor()\n",
              "           )"
            ]
          },
          "metadata": {
            "tags": []
          },
          "execution_count": 6
        }
      ]
    },
    {
      "cell_type": "code",
      "metadata": {
        "id": "WpB4zbkTjIth"
      },
      "source": [
        "# Size of Data, to be used for calculating Average Loss and Accuracy\n",
        "train_data_size = len(data['train'])\n",
        "valid_data_size = len(data['valid'])\n",
        "test_data_size = len(data['test'])\n",
        "\n",
        "# Create iterators for the Data loaded using DataLoader module\n",
        "train_data_loader = DataLoader(data['train'], batch_size=batchSize, shuffle=True)\n",
        "valid_data_loader = DataLoader(data['valid'], batch_size=batchSize, shuffle=True)\n",
        "test_data_loader = DataLoader(data['test'], batch_size=batchSize, shuffle=True)"
      ],
      "execution_count": 7,
      "outputs": []
    },
    {
      "cell_type": "code",
      "metadata": {
        "id": "nBS7f-DJjIth",
        "colab": {
          "base_uri": "https://localhost:8080/"
        },
        "outputId": "2f24daf2-f7a5-425d-fd8c-046dba758fc1"
      },
      "source": [
        "train_data_size, valid_data_size, test_data_size"
      ],
      "execution_count": 8,
      "outputs": [
        {
          "output_type": "execute_result",
          "data": {
            "text/plain": [
              "(3150, 1350, 1350)"
            ]
          },
          "metadata": {
            "tags": []
          },
          "execution_count": 8
        }
      ]
    },
    {
      "cell_type": "code",
      "metadata": {
        "id": "cwlr4cCslXX7"
      },
      "source": [
        "input_size = (3,32,32)"
      ],
      "execution_count": 9,
      "outputs": []
    },
    {
      "cell_type": "code",
      "metadata": {
        "id": "7_S4WB-QjIti"
      },
      "source": [
        "# define our convolutional neural networks\n",
        "class Net(nn.Module):\n",
        "    def __init__(self, input_size, num_classes):\n",
        "        super(Net, self).__init__()\n",
        "\n",
        "        self.conv1 = nn.Conv2d(3, 32, 3)\n",
        "        self.conv2 = nn.Conv2d(32, 64, 3)\n",
        "        self.conv3 = nn.Conv2d(64, 128, 3)\n",
        "\n",
        "        self.pool = nn.MaxPool2d(2,2) # kernel size 2x2, stride = 2\n",
        "\n",
        "        n_size = self._get_conv_output(input_size)\n",
        "\n",
        "        self.fc1 = nn.Linear(n_size, 512)\n",
        "        self.fc2 = nn.Linear(512, num_classes)\n",
        "\n",
        "        self.dropout = nn.Dropout(0.5)\n",
        "\n",
        "    def _get_conv_output(self, shape):\n",
        "        batch_size = 1\n",
        "        input = torch.autograd.Variable(torch.rand(batch_size, *shape))\n",
        "        output_feat = self._forward_features(input)\n",
        "        n_size = output_feat.data.view(batch_size, -1).size(1)\n",
        "        return n_size\n",
        "\n",
        "    def _forward_features(self, x):\n",
        "        x = self.pool(F.relu(self.conv1(x)))\n",
        "        x = self.pool(F.relu(self.conv2(x)))\n",
        "        x = self.pool(F.relu(self.conv3(x)))\n",
        "        return x\n",
        "      \n",
        "    def forward(self, x):\n",
        "        x = self._forward_features(x)\n",
        "        x = x.view(x.size(0), -1) # flattening\n",
        "        x = F.relu(self.fc1(x))\n",
        "        x = self.dropout(x)\n",
        "        x = self.fc2(x)\n",
        "        return x"
      ],
      "execution_count": 10,
      "outputs": []
    },
    {
      "cell_type": "code",
      "metadata": {
        "id": "HGpMYwzkjIti"
      },
      "source": [
        "model = Net(input_size, num_classes)\n",
        "model = model.to('cuda:0')"
      ],
      "execution_count": 11,
      "outputs": []
    },
    {
      "cell_type": "code",
      "metadata": {
        "id": "TQjBPRAujIti",
        "colab": {
          "base_uri": "https://localhost:8080/"
        },
        "outputId": "91156e6c-0e61-4ee5-e691-68736597a69d"
      },
      "source": [
        "model"
      ],
      "execution_count": 12,
      "outputs": [
        {
          "output_type": "execute_result",
          "data": {
            "text/plain": [
              "Net(\n",
              "  (conv1): Conv2d(3, 32, kernel_size=(3, 3), stride=(1, 1))\n",
              "  (conv2): Conv2d(32, 64, kernel_size=(3, 3), stride=(1, 1))\n",
              "  (conv3): Conv2d(64, 128, kernel_size=(3, 3), stride=(1, 1))\n",
              "  (pool): MaxPool2d(kernel_size=2, stride=2, padding=0, dilation=1, ceil_mode=False)\n",
              "  (fc1): Linear(in_features=512, out_features=512, bias=True)\n",
              "  (fc2): Linear(in_features=512, out_features=5, bias=True)\n",
              "  (dropout): Dropout(p=0.5, inplace=False)\n",
              ")"
            ]
          },
          "metadata": {
            "tags": []
          },
          "execution_count": 12
        }
      ]
    },
    {
      "cell_type": "code",
      "metadata": {
        "id": "ilZ09L8ZjIti"
      },
      "source": [
        "# Define Optimizer and Loss Function\n",
        "learning_rate = 0.001\n",
        "loss_func = nn.CrossEntropyLoss()\n",
        "# optimizer = optim.SGD(model.parameters(), lr=0.01, momentum=0.9)\n",
        "optimizer = optim.Adam(model.parameters(), lr = learning_rate)"
      ],
      "execution_count": 13,
      "outputs": []
    },
    {
      "cell_type": "code",
      "metadata": {
        "id": "QiwcZ18EjIti"
      },
      "source": [
        "def train_and_validate(model, loss_criterion, optimizer, epochs=25):\n",
        "    '''\n",
        "    Function to train and validate\n",
        "    Parameters\n",
        "        :param model: Model to train and validate\n",
        "        :param loss_criterion: Loss Criterion to minimize\n",
        "        :param optimizer: Optimizer for computing gradients\n",
        "        :param epochs: Number of epochs (default=25)\n",
        "  \n",
        "    Returns\n",
        "        model: Trained Model with best validation accuracy\n",
        "        history: (dict object): Having training loss, accuracy and validation loss, accuracy\n",
        "    '''\n",
        "    \n",
        "    start = time.time()\n",
        "    history = []\n",
        "    best_acc = 0.0\n",
        "\n",
        "    for epoch in range(epochs):\n",
        "        epoch_start = time.time()\n",
        "        print(\"Epoch: {}/{}\".format(epoch+1, epochs))\n",
        "        \n",
        "        # Set to training mode\n",
        "        model.train()\n",
        "        \n",
        "        # Loss and Accuracy within the epoch\n",
        "        train_loss = 0.0\n",
        "        train_acc = 0.0\n",
        "        \n",
        "        valid_loss = 0.0\n",
        "        valid_acc = 0.0\n",
        "        \n",
        "        for i, (inputs, labels) in enumerate(train_data_loader):\n",
        "\n",
        "            inputs = inputs.to(device)\n",
        "            labels = labels.to(device)\n",
        "            \n",
        "            # Clean existing gradients\n",
        "            optimizer.zero_grad()\n",
        "            \n",
        "            # Forward pass - compute outputs on input data using the model\n",
        "            outputs = model(inputs)\n",
        "            \n",
        "            # Compute loss\n",
        "            loss = loss_criterion(outputs, labels)\n",
        "            \n",
        "            # Backpropagate the gradients\n",
        "            loss.backward()\n",
        "            \n",
        "            # Update the parameters\n",
        "            optimizer.step()\n",
        "            \n",
        "            # Compute the total loss for the batch and add it to train_loss\n",
        "            train_loss += loss.item() * inputs.size(0)\n",
        "            \n",
        "            # Compute the accuracy\n",
        "            ret, predictions = torch.max(outputs.data, 1)\n",
        "            correct_counts = predictions.eq(labels.data.view_as(predictions))\n",
        "            \n",
        "            # Convert correct_counts to float and then compute the mean\n",
        "            acc = torch.mean(correct_counts.type(torch.FloatTensor))\n",
        "            \n",
        "            # Compute total accuracy in the whole batch and add to train_acc\n",
        "            train_acc += acc.item() * inputs.size(0)\n",
        "            \n",
        "            #print(\"Batch number: {:03d}, Training: Loss: {:.4f}, Accuracy: {:.4f}\".format(i, loss.item(), acc.item()))\n",
        "\n",
        "            \n",
        "        # Validation - No gradient tracking needed\n",
        "        with torch.no_grad():\n",
        "\n",
        "            # Set to evaluation mode\n",
        "            model.eval()\n",
        "\n",
        "            # Validation loop\n",
        "            for j, (inputs, labels) in enumerate(valid_data_loader):\n",
        "                inputs = inputs.to(device)\n",
        "                labels = labels.to(device)\n",
        "\n",
        "                # Forward pass - compute outputs on input data using the model\n",
        "                outputs = model(inputs)\n",
        "\n",
        "                # Compute loss\n",
        "                loss = loss_criterion(outputs, labels)\n",
        "\n",
        "                # Compute the total loss for the batch and add it to valid_loss\n",
        "                valid_loss += loss.item() * inputs.size(0)\n",
        "\n",
        "                # Calculate validation accuracy\n",
        "                ret, predictions = torch.max(outputs.data, 1)\n",
        "                correct_counts = predictions.eq(labels.data.view_as(predictions))\n",
        "\n",
        "                # Convert correct_counts to float and then compute the mean\n",
        "                acc = torch.mean(correct_counts.type(torch.FloatTensor))\n",
        "\n",
        "                # Compute total accuracy in the whole batch and add to valid_acc\n",
        "                valid_acc += acc.item() * inputs.size(0)\n",
        "\n",
        "                #print(\"Validation Batch number: {:03d}, Validation: Loss: {:.4f}, Accuracy: {:.4f}\".format(j, loss.item(), acc.item()))\n",
        "            \n",
        "        # Find average training loss and training accuracy\n",
        "        avg_train_loss = train_loss/train_data_size \n",
        "        avg_train_acc = train_acc/train_data_size\n",
        "\n",
        "        # Find average training loss and training accuracy\n",
        "        avg_valid_loss = valid_loss/valid_data_size \n",
        "        avg_valid_acc = valid_acc/valid_data_size\n",
        "\n",
        "        history.append([avg_train_loss, avg_valid_loss, avg_train_acc, avg_valid_acc])\n",
        "                \n",
        "        epoch_end = time.time()\n",
        "    \n",
        "        print(\"Epoch : {:03d}, Training: Loss: {:.4f}, Accuracy: {:.4f}%, \\n\\t\\tValidation : Loss : {:.4f}, Accuracy: {:.4f}%, Time: {:.4f}s\".format(epoch, avg_train_loss, avg_train_acc*100, avg_valid_loss, avg_valid_acc*100, epoch_end-epoch_start))\n",
        "        \n",
        "        # Save if the model has best accuracy till now\n",
        "        torch.save(model, dataset+'_model_'+str(epoch)+'.pt')\n",
        "            \n",
        "    return model, history\n",
        "    "
      ],
      "execution_count": 14,
      "outputs": []
    },
    {
      "cell_type": "code",
      "metadata": {
        "id": "aFMWCMAwjIti",
        "colab": {
          "base_uri": "https://localhost:8080/"
        },
        "outputId": "6988094f-a7a3-40e2-ad20-b770b830a697"
      },
      "source": [
        "device = torch.device(\"cuda:0\" if torch.cuda.is_available() else \"cpu\")\n",
        "\n",
        "# Print the model to be trained\n",
        "#summary(resnet50, input_size=(3, 224, 224), batch_size=bs, device='cuda')\n",
        "\n",
        "# Train the model for 25 epochs\n",
        "num_epochs = 50\n",
        "trained_model, history = train_and_validate(model, loss_func, optimizer, num_epochs)\n",
        "\n",
        "torch.save(history, dataset+'_history.pt')"
      ],
      "execution_count": 15,
      "outputs": [
        {
          "output_type": "stream",
          "text": [
            "Epoch: 1/50\n"
          ],
          "name": "stdout"
        },
        {
          "output_type": "stream",
          "text": [
            "/usr/local/lib/python3.6/dist-packages/PIL/Image.py:932: UserWarning: Palette images with Transparency expressed in bytes should be converted to RGBA images\n",
            "  \"Palette images with Transparency expressed in bytes should be \"\n"
          ],
          "name": "stderr"
        },
        {
          "output_type": "stream",
          "text": [
            "Epoch : 000, Training: Loss: 1.5885, Accuracy: 23.6508%, \n",
            "\t\tValidation : Loss : 1.6778, Accuracy: 24.3704%, Time: 80.0591s\n",
            "Epoch: 2/50\n",
            "Epoch : 001, Training: Loss: 1.4906, Accuracy: 33.1746%, \n",
            "\t\tValidation : Loss : 1.5248, Accuracy: 31.6296%, Time: 9.9604s\n",
            "Epoch: 3/50\n",
            "Epoch : 002, Training: Loss: 1.4157, Accuracy: 37.1111%, \n",
            "\t\tValidation : Loss : 1.4773, Accuracy: 36.8148%, Time: 10.0676s\n",
            "Epoch: 4/50\n",
            "Epoch : 003, Training: Loss: 1.3727, Accuracy: 40.3810%, \n",
            "\t\tValidation : Loss : 1.4749, Accuracy: 34.0000%, Time: 9.9740s\n",
            "Epoch: 5/50\n",
            "Epoch : 004, Training: Loss: 1.3509, Accuracy: 41.8730%, \n",
            "\t\tValidation : Loss : 1.4760, Accuracy: 36.0000%, Time: 9.9430s\n",
            "Epoch: 6/50\n",
            "Epoch : 005, Training: Loss: 1.3000, Accuracy: 44.7619%, \n",
            "\t\tValidation : Loss : 1.4849, Accuracy: 36.6667%, Time: 9.8041s\n",
            "Epoch: 7/50\n",
            "Epoch : 006, Training: Loss: 1.2920, Accuracy: 45.4286%, \n",
            "\t\tValidation : Loss : 1.4110, Accuracy: 43.0370%, Time: 9.9135s\n",
            "Epoch: 8/50\n",
            "Epoch : 007, Training: Loss: 1.2143, Accuracy: 51.3651%, \n",
            "\t\tValidation : Loss : 1.4218, Accuracy: 39.6296%, Time: 9.8508s\n",
            "Epoch: 9/50\n",
            "Epoch : 008, Training: Loss: 1.1580, Accuracy: 52.2222%, \n",
            "\t\tValidation : Loss : 1.4021, Accuracy: 45.2593%, Time: 9.7772s\n",
            "Epoch: 10/50\n",
            "Epoch : 009, Training: Loss: 1.1203, Accuracy: 54.9524%, \n",
            "\t\tValidation : Loss : 1.3862, Accuracy: 42.3704%, Time: 9.9492s\n",
            "Epoch: 11/50\n",
            "Epoch : 010, Training: Loss: 1.0743, Accuracy: 57.8730%, \n",
            "\t\tValidation : Loss : 1.3956, Accuracy: 46.0741%, Time: 10.5651s\n",
            "Epoch: 12/50\n",
            "Epoch : 011, Training: Loss: 1.0429, Accuracy: 58.1905%, \n",
            "\t\tValidation : Loss : 1.3549, Accuracy: 47.5556%, Time: 10.0863s\n",
            "Epoch: 13/50\n",
            "Epoch : 012, Training: Loss: 0.9837, Accuracy: 61.2381%, \n",
            "\t\tValidation : Loss : 1.3468, Accuracy: 50.8148%, Time: 9.8970s\n",
            "Epoch: 14/50\n",
            "Epoch : 013, Training: Loss: 0.9501, Accuracy: 63.6825%, \n",
            "\t\tValidation : Loss : 1.3722, Accuracy: 49.1852%, Time: 9.9627s\n",
            "Epoch: 15/50\n",
            "Epoch : 014, Training: Loss: 0.9080, Accuracy: 64.2857%, \n",
            "\t\tValidation : Loss : 1.3206, Accuracy: 48.8889%, Time: 9.8425s\n",
            "Epoch: 16/50\n",
            "Epoch : 015, Training: Loss: 0.8453, Accuracy: 67.6508%, \n",
            "\t\tValidation : Loss : 1.3199, Accuracy: 49.1852%, Time: 10.0384s\n",
            "Epoch: 17/50\n",
            "Epoch : 016, Training: Loss: 0.8437, Accuracy: 67.5873%, \n",
            "\t\tValidation : Loss : 1.4442, Accuracy: 48.5185%, Time: 9.8607s\n",
            "Epoch: 18/50\n",
            "Epoch : 017, Training: Loss: 0.8333, Accuracy: 67.6825%, \n",
            "\t\tValidation : Loss : 1.3939, Accuracy: 50.4444%, Time: 10.1417s\n",
            "Epoch: 19/50\n",
            "Epoch : 018, Training: Loss: 0.7814, Accuracy: 70.0952%, \n",
            "\t\tValidation : Loss : 1.3808, Accuracy: 52.5185%, Time: 10.0615s\n",
            "Epoch: 20/50\n",
            "Epoch : 019, Training: Loss: 0.7427, Accuracy: 71.6825%, \n",
            "\t\tValidation : Loss : 1.4583, Accuracy: 53.5556%, Time: 10.3496s\n",
            "Epoch: 21/50\n",
            "Epoch : 020, Training: Loss: 0.7087, Accuracy: 73.4921%, \n",
            "\t\tValidation : Loss : 1.3697, Accuracy: 54.9630%, Time: 9.9808s\n",
            "Epoch: 22/50\n",
            "Epoch : 021, Training: Loss: 0.6876, Accuracy: 73.7460%, \n",
            "\t\tValidation : Loss : 1.4879, Accuracy: 54.3704%, Time: 10.0359s\n",
            "Epoch: 23/50\n",
            "Epoch : 022, Training: Loss: 0.6519, Accuracy: 75.8413%, \n",
            "\t\tValidation : Loss : 1.4042, Accuracy: 54.5926%, Time: 10.1475s\n",
            "Epoch: 24/50\n",
            "Epoch : 023, Training: Loss: 0.6362, Accuracy: 76.7619%, \n",
            "\t\tValidation : Loss : 1.5448, Accuracy: 54.6667%, Time: 10.1904s\n",
            "Epoch: 25/50\n",
            "Epoch : 024, Training: Loss: 0.6344, Accuracy: 76.2540%, \n",
            "\t\tValidation : Loss : 1.4648, Accuracy: 54.9630%, Time: 10.0194s\n",
            "Epoch: 26/50\n",
            "Epoch : 025, Training: Loss: 0.6028, Accuracy: 77.2698%, \n",
            "\t\tValidation : Loss : 1.5048, Accuracy: 53.5556%, Time: 9.9772s\n",
            "Epoch: 27/50\n",
            "Epoch : 026, Training: Loss: 0.5732, Accuracy: 78.7302%, \n",
            "\t\tValidation : Loss : 1.5072, Accuracy: 54.4444%, Time: 9.9245s\n",
            "Epoch: 28/50\n",
            "Epoch : 027, Training: Loss: 0.5524, Accuracy: 79.9683%, \n",
            "\t\tValidation : Loss : 1.5928, Accuracy: 55.2593%, Time: 9.8513s\n",
            "Epoch: 29/50\n",
            "Epoch : 028, Training: Loss: 0.5327, Accuracy: 80.2222%, \n",
            "\t\tValidation : Loss : 1.4805, Accuracy: 56.3704%, Time: 9.9263s\n",
            "Epoch: 30/50\n",
            "Epoch : 029, Training: Loss: 0.5387, Accuracy: 79.9048%, \n",
            "\t\tValidation : Loss : 1.4956, Accuracy: 57.0370%, Time: 10.0274s\n",
            "Epoch: 31/50\n",
            "Epoch : 030, Training: Loss: 0.5587, Accuracy: 79.1429%, \n",
            "\t\tValidation : Loss : 1.5688, Accuracy: 56.1481%, Time: 10.0720s\n",
            "Epoch: 32/50\n",
            "Epoch : 031, Training: Loss: 0.4970, Accuracy: 80.9841%, \n",
            "\t\tValidation : Loss : 1.4978, Accuracy: 57.1111%, Time: 10.0774s\n",
            "Epoch: 33/50\n",
            "Epoch : 032, Training: Loss: 0.4596, Accuracy: 83.0159%, \n",
            "\t\tValidation : Loss : 1.7002, Accuracy: 54.6667%, Time: 9.9417s\n",
            "Epoch: 34/50\n",
            "Epoch : 033, Training: Loss: 0.4509, Accuracy: 83.5873%, \n",
            "\t\tValidation : Loss : 1.6893, Accuracy: 56.6667%, Time: 10.1923s\n",
            "Epoch: 35/50\n",
            "Epoch : 034, Training: Loss: 0.4615, Accuracy: 82.7937%, \n",
            "\t\tValidation : Loss : 1.7542, Accuracy: 56.8889%, Time: 10.0867s\n",
            "Epoch: 36/50\n",
            "Epoch : 035, Training: Loss: 0.4353, Accuracy: 83.6508%, \n",
            "\t\tValidation : Loss : 1.7147, Accuracy: 57.4074%, Time: 10.1807s\n",
            "Epoch: 37/50\n",
            "Epoch : 036, Training: Loss: 0.4505, Accuracy: 83.3016%, \n",
            "\t\tValidation : Loss : 1.6495, Accuracy: 58.3704%, Time: 10.1202s\n",
            "Epoch: 38/50\n",
            "Epoch : 037, Training: Loss: 0.4098, Accuracy: 85.0476%, \n",
            "\t\tValidation : Loss : 1.6673, Accuracy: 56.5185%, Time: 10.1563s\n",
            "Epoch: 39/50\n",
            "Epoch : 038, Training: Loss: 0.4023, Accuracy: 85.5238%, \n",
            "\t\tValidation : Loss : 1.7235, Accuracy: 56.4444%, Time: 10.0692s\n",
            "Epoch: 40/50\n",
            "Epoch : 039, Training: Loss: 0.4000, Accuracy: 84.9841%, \n",
            "\t\tValidation : Loss : 1.6381, Accuracy: 56.0000%, Time: 9.9962s\n",
            "Epoch: 41/50\n",
            "Epoch : 040, Training: Loss: 0.3816, Accuracy: 86.1270%, \n",
            "\t\tValidation : Loss : 1.8235, Accuracy: 57.0370%, Time: 10.0269s\n",
            "Epoch: 42/50\n",
            "Epoch : 041, Training: Loss: 0.3626, Accuracy: 86.3492%, \n",
            "\t\tValidation : Loss : 1.8373, Accuracy: 56.8148%, Time: 10.7477s\n",
            "Epoch: 43/50\n",
            "Epoch : 042, Training: Loss: 0.3534, Accuracy: 86.9524%, \n",
            "\t\tValidation : Loss : 1.7263, Accuracy: 57.9259%, Time: 10.1554s\n",
            "Epoch: 44/50\n",
            "Epoch : 043, Training: Loss: 0.3750, Accuracy: 86.1905%, \n",
            "\t\tValidation : Loss : 1.7863, Accuracy: 56.7407%, Time: 10.1250s\n",
            "Epoch: 45/50\n",
            "Epoch : 044, Training: Loss: 0.3464, Accuracy: 87.3968%, \n",
            "\t\tValidation : Loss : 1.9688, Accuracy: 56.5185%, Time: 9.9144s\n",
            "Epoch: 46/50\n",
            "Epoch : 045, Training: Loss: 0.3372, Accuracy: 87.4921%, \n",
            "\t\tValidation : Loss : 1.8046, Accuracy: 58.0000%, Time: 9.9390s\n",
            "Epoch: 47/50\n",
            "Epoch : 046, Training: Loss: 0.3441, Accuracy: 87.0159%, \n",
            "\t\tValidation : Loss : 1.7891, Accuracy: 56.5926%, Time: 9.9377s\n",
            "Epoch: 48/50\n",
            "Epoch : 047, Training: Loss: 0.3161, Accuracy: 88.3810%, \n",
            "\t\tValidation : Loss : 1.8907, Accuracy: 57.1852%, Time: 10.0236s\n",
            "Epoch: 49/50\n",
            "Epoch : 048, Training: Loss: 0.2947, Accuracy: 89.4921%, \n",
            "\t\tValidation : Loss : 2.0017, Accuracy: 53.9259%, Time: 9.9288s\n",
            "Epoch: 50/50\n",
            "Epoch : 049, Training: Loss: 0.3022, Accuracy: 88.4762%, \n",
            "\t\tValidation : Loss : 2.1115, Accuracy: 56.2963%, Time: 10.1458s\n"
          ],
          "name": "stdout"
        }
      ]
    },
    {
      "cell_type": "code",
      "metadata": {
        "id": "_O6wzhwxjIti",
        "colab": {
          "base_uri": "https://localhost:8080/",
          "height": 283
        },
        "outputId": "de76e765-235d-40fb-cd19-62dc9416f647"
      },
      "source": [
        "history = np.array(history)\n",
        "plt.plot(history[:,0:2])\n",
        "plt.legend(['Tr Loss', 'Val Loss'])\n",
        "plt.xlabel('Epoch Number')\n",
        "plt.ylabel('Loss')\n",
        "plt.ylim(0,1)\n",
        "plt.savefig(dataset+'_loss_curve.png')\n",
        "plt.show()\n"
      ],
      "execution_count": 16,
      "outputs": [
        {
          "output_type": "display_data",
          "data": {
            "image/png": "[encoded data removed]",
            "text/plain": [
              "<Figure size 432x288 with 1 Axes>"
            ]
          },
          "metadata": {
            "tags": [],
            "needs_background": "light"
          }
        }
      ]
    },
    {
      "cell_type": "code",
      "metadata": {
        "id": "x1EVfcQqjItj",
        "colab": {
          "base_uri": "https://localhost:8080/",
          "height": 283
        },
        "outputId": "2567f5b2-5c5b-48c9-b82d-288178e5a8bc"
      },
      "source": [
        "plt.plot(history[:,2:4])\n",
        "plt.legend(['Tr Accuracy', 'Val Accuracy'])\n",
        "plt.xlabel('Epoch Number')\n",
        "plt.ylabel('Accuracy')\n",
        "plt.ylim(0,1)\n",
        "plt.savefig(dataset+'_accuracy_curve.png')\n",
        "plt.show()"
      ],
      "execution_count": 17,
      "outputs": [
        {
          "output_type": "display_data",
          "data": {
            "image/png": "[encoded data removed]",
            "text/plain": [
              "<Figure size 432x288 with 1 Axes>"
            ]
          },
          "metadata": {
            "tags": [],
            "needs_background": "light"
          }
        }
      ]
    },
    {
      "cell_type": "code",
      "metadata": {
        "id": "ev1IVwk7jItj"
      },
      "source": [
        " def computeTestSetAccuracy(model, loss_criterion):\n",
        "    '''\n",
        "    Function to compute the accuracy on the test set\n",
        "    Parameters\n",
        "        :param model: Model to test\n",
        "        :param loss_criterion: Loss Criterion to minimize\n",
        "    '''\n",
        "\n",
        "    device = torch.device(\"cuda:0\" if torch.cuda.is_available() else \"cpu\")\n",
        "\n",
        "    test_acc = 0.0\n",
        "    test_loss = 0.0\n",
        "\n",
        "    # Validation - No gradient tracking needed\n",
        "    with torch.no_grad():\n",
        "\n",
        "        # Set to evaluation mode\n",
        "        model.eval()\n",
        "\n",
        "        # Validation loop\n",
        "        for j, (inputs, labels) in enumerate(test_data_loader):\n",
        "            inputs = inputs.to(device)\n",
        "            labels = labels.to(device)\n",
        "\n",
        "            # Forward pass - compute outputs on input data using the model\n",
        "            outputs = model(inputs)\n",
        "\n",
        "            # Compute loss\n",
        "            loss = loss_criterion(outputs, labels)\n",
        "\n",
        "            # Compute the total loss for the batch and add it to valid_loss\n",
        "            test_loss += loss.item() * inputs.size(0)\n",
        "\n",
        "            # Calculate validation accuracy\n",
        "            ret, predictions = torch.max(outputs.data, 1)\n",
        "            correct_counts = predictions.eq(labels.data.view_as(predictions))\n",
        "\n",
        "            # Convert correct_counts to float and then compute the mean\n",
        "            acc = torch.mean(correct_counts.type(torch.FloatTensor))\n",
        "\n",
        "            # Compute total accuracy in the whole batch and add to valid_acc\n",
        "            test_acc += acc.item() * inputs.size(0)\n",
        "\n",
        "            print(\"Test Batch number: {:03d}, Test: Loss: {:.4f}, Accuracy: {:.4f}\".format(j, loss.item(), acc.item()))\n",
        "\n",
        "    # Find average test loss and test accuracy\n",
        "    avg_test_loss = test_loss/test_data_size \n",
        "    avg_test_acc = test_acc/test_data_size\n",
        "\n",
        "    print(\"Test accuracy : \" + str(avg_test_acc))\n"
      ],
      "execution_count": 18,
      "outputs": []
    },
    {
      "cell_type": "code",
      "metadata": {
        "id": "SnvfrioVjItj"
      },
      "source": [
        "def predict(model, test_image_name):\n",
        "    '''\n",
        "    Function to predict the class of a single test image\n",
        "    Parameters\n",
        "        :param model: Model to test\n",
        "        :param test_image_name: Test image\n",
        "\n",
        "    '''\n",
        "    \n",
        "    transform = image_transforms['test']\n",
        "\n",
        "    test_image = Image.open(test_image_name)\n",
        "    plt.imshow(test_image)\n",
        "    \n",
        "    test_image_tensor = transform(test_image)\n",
        "\n",
        "    if torch.cuda.is_available():\n",
        "        test_image_tensor = test_image_tensor.view(1, 3, 32, 32).cuda()\n",
        "    else:\n",
        "        test_image_tensor = test_image_tensor.view(1, 3, 32, 32)\n",
        "        \n",
        "    \n",
        "    with torch.no_grad():\n",
        "        model.eval()\n",
        "        # Model outputs log probabilities\n",
        "        out = model(test_image_tensor)\n",
        "        ps = torch.exp(out)\n",
        "        topk, topclass = ps.topk(3, dim=1)\n",
        "        for i in range(3):\n",
        "            print(\"Prediction\", i+1, \":\", idx_to_class[topclass.cpu().numpy()[0][i]], \", Score: \", topk.cpu().numpy()[0][i])\n",
        "\n",
        "\n"
      ],
      "execution_count": 19,
      "outputs": []
    },
    {
      "cell_type": "code",
      "metadata": {
        "id": "lbQ8BROrjItj",
        "colab": {
          "base_uri": "https://localhost:8080/",
          "height": 320
        },
        "outputId": "7881ea32-8255-44fe-a5c6-2656540ffc51"
      },
      "source": [
        "# Test a particular model on a test image\n",
        "\n",
        "dataset = '/content/drive/My Drive/test/'\n",
        "model = torch.load('/content/drive/My Drive/Dataset_model_49.pt')\n",
        "predict(model, dataset+'test4.jpg')           "
      ],
      "execution_count": 21,
      "outputs": [
        {
          "output_type": "stream",
          "text": [
            "Prediction 1 : nose ring , Score:  20.231403\n",
            "Prediction 2 : necklace , Score:  0.69880205\n",
            "Prediction 3 : earring , Score:  0.5848188\n"
          ],
          "name": "stdout"
        },
        {
          "output_type": "display_data",
          "data": {
            "image/png": "[encoded data removed]",
            "text/plain": [
              "<Figure size 432x288 with 1 Axes>"
            ]
          },
          "metadata": {
            "tags": [],
            "needs_background": "light"
          }
        }
      ]
    },
    {
      "cell_type": "code",
      "metadata": {
        "id": "-jCGN-MhjItj",
        "colab": {
          "base_uri": "https://localhost:8080/"
        },
        "outputId": "bf4e1cb5-b818-4fe0-acd1-45513ed0b4f4"
      },
      "source": [
        "# Load Data from folders\n",
        "computeTestSetAccuracy(model, loss_func)"
      ],
      "execution_count": 22,
      "outputs": [
        {
          "output_type": "stream",
          "text": [
            "Test Batch number: 000, Test: Loss: 2.4850, Accuracy: 0.6562\n",
            "Test Batch number: 001, Test: Loss: 1.6041, Accuracy: 0.5312\n",
            "Test Batch number: 002, Test: Loss: 2.7880, Accuracy: 0.6250\n",
            "Test Batch number: 003, Test: Loss: 2.0526, Accuracy: 0.5625\n",
            "Test Batch number: 004, Test: Loss: 1.8481, Accuracy: 0.5938\n",
            "Test Batch number: 005, Test: Loss: 2.1302, Accuracy: 0.6875\n",
            "Test Batch number: 006, Test: Loss: 1.1405, Accuracy: 0.6562\n",
            "Test Batch number: 007, Test: Loss: 1.2847, Accuracy: 0.7812\n",
            "Test Batch number: 008, Test: Loss: 3.5311, Accuracy: 0.4375\n",
            "Test Batch number: 009, Test: Loss: 1.9867, Accuracy: 0.5312\n",
            "Test Batch number: 010, Test: Loss: 2.4936, Accuracy: 0.4375\n",
            "Test Batch number: 011, Test: Loss: 2.6152, Accuracy: 0.5312\n",
            "Test Batch number: 012, Test: Loss: 2.3956, Accuracy: 0.4688\n",
            "Test Batch number: 013, Test: Loss: 2.3243, Accuracy: 0.5625\n",
            "Test Batch number: 014, Test: Loss: 2.6820, Accuracy: 0.4375\n",
            "Test Batch number: 015, Test: Loss: 1.9551, Accuracy: 0.6562\n",
            "Test Batch number: 016, Test: Loss: 1.4992, Accuracy: 0.5312\n",
            "Test Batch number: 017, Test: Loss: 1.6045, Accuracy: 0.6250\n",
            "Test Batch number: 018, Test: Loss: 1.2032, Accuracy: 0.7188\n",
            "Test Batch number: 019, Test: Loss: 2.8893, Accuracy: 0.4688\n",
            "Test Batch number: 020, Test: Loss: 2.0566, Accuracy: 0.5938\n",
            "Test Batch number: 021, Test: Loss: 1.7428, Accuracy: 0.4688\n",
            "Test Batch number: 022, Test: Loss: 2.4417, Accuracy: 0.5000\n",
            "Test Batch number: 023, Test: Loss: 2.0576, Accuracy: 0.5625\n",
            "Test Batch number: 024, Test: Loss: 2.0265, Accuracy: 0.4375\n",
            "Test Batch number: 025, Test: Loss: 2.4566, Accuracy: 0.3750\n",
            "Test Batch number: 026, Test: Loss: 1.3392, Accuracy: 0.7500\n",
            "Test Batch number: 027, Test: Loss: 1.7512, Accuracy: 0.7500\n",
            "Test Batch number: 028, Test: Loss: 2.3584, Accuracy: 0.5000\n",
            "Test Batch number: 029, Test: Loss: 1.5041, Accuracy: 0.6250\n",
            "Test Batch number: 030, Test: Loss: 3.0547, Accuracy: 0.4062\n",
            "Test Batch number: 031, Test: Loss: 1.5569, Accuracy: 0.6250\n",
            "Test Batch number: 032, Test: Loss: 2.4682, Accuracy: 0.4375\n",
            "Test Batch number: 033, Test: Loss: 1.6489, Accuracy: 0.6250\n",
            "Test Batch number: 034, Test: Loss: 2.7728, Accuracy: 0.4062\n",
            "Test Batch number: 035, Test: Loss: 2.4585, Accuracy: 0.5312\n",
            "Test Batch number: 036, Test: Loss: 1.8261, Accuracy: 0.6250\n",
            "Test Batch number: 037, Test: Loss: 1.6683, Accuracy: 0.5312\n",
            "Test Batch number: 038, Test: Loss: 1.9633, Accuracy: 0.6250\n",
            "Test Batch number: 039, Test: Loss: 2.1467, Accuracy: 0.5625\n",
            "Test Batch number: 040, Test: Loss: 3.6690, Accuracy: 0.5312\n",
            "Test Batch number: 041, Test: Loss: 1.4407, Accuracy: 0.6250\n",
            "Test Batch number: 042, Test: Loss: 0.8301, Accuracy: 0.8333\n",
            "Test accuracy : 0.5629629628746597\n"
          ],
          "name": "stdout"
        }
      ]
    },
    {
      "cell_type": "code",
      "metadata": {
        "id": "mCYMTOQRjItj"
      },
      "source": [
        ""
      ],
      "execution_count": null,
      "outputs": []
    }
  ]
}
