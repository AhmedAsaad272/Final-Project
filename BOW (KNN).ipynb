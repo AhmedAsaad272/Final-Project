{
 "cells": [
  {
   "cell_type": "code",
   "execution_count": 17,
   "metadata": {},
   "outputs": [],
   "source": [
    "import cv2\n",
    "import numpy as np\n",
    "import os\n"
   ]
  },
  {
   "cell_type": "code",
   "execution_count": 18,
   "metadata": {},
   "outputs": [],
   "source": [
    "# Get the training classes names and store them in a list\n",
    "#Here we use folder names for class names\n",
    "\n",
    "#train_path = 'dataset/train'  # Names are Aeroplane, Bicycle, Car\n",
    "train_path = r'C:\\My Fieles\\Sem1 2020-2021\\Machine Vision\\Assignment\\3\\Dataset\\training'  # Folder Names are Parasitized and Uninfected\n",
    "training_names = os.listdir(train_path)\n",
    "\n",
    "# Get path to all images and save them in a list\n",
    "# image_paths and the corresponding label in image_paths\n",
    "image_paths = []\n",
    "image_classes = []\n",
    "class_id = 0\n",
    "\n",
    "#To make it easy to list all file names in a directory let us define a function\n",
    "#\n",
    "def imglist(path):    \n",
    "    return [os.path.join(path, f) for f in os.listdir(path)]\n",
    "\n",
    "#Fill the placeholder empty lists with image path, classes, and add class ID number\n",
    "#\n",
    "    \n",
    "for training_name in training_names:\n",
    "    dir = os.path.join(train_path, training_name)\n",
    "    class_path = imglist(dir)\n",
    "    image_paths+=class_path\n",
    "    image_classes+=[class_id]*len(class_path)\n",
    "    class_id+=1\n",
    "\n",
    "# Create feature extraction and keypoint detector objects\n",
    "    #SIFT is not available anymore in openCV    \n",
    "# Create List where all the descriptors will be stored\n",
    "des_list = []\n",
    "\n",
    "#BRISK is a good replacement to SIFT. ORB also works but didn;t work well for this example\n",
    "brisk = cv2.BRISK_create(30)\n",
    "\n",
    "for image_path in image_paths:\n",
    "    im = cv2.imread(image_path)\n",
    "    kpts, des = brisk.detectAndCompute(im, None)\n",
    "    des_list.append((image_path, des))   \n",
    "    \n",
    "# Stack all the descriptors vertically in a numpy array\n",
    "descriptors = des_list[0][1]\n",
    "for image_path, descriptor in des_list[1:]:\n",
    "    descriptors = np.vstack((descriptors, descriptor))  \n",
    "\n",
    "#kmeans works only on float, so convert integers to float\n",
    "descriptors_float = descriptors.astype(float)  \n",
    "\n",
    "# Perform k-means clustering and vector quantization\n",
    "from scipy.cluster.vq import kmeans, vq\n",
    "\n",
    "k = 300  #k means with 100 clusters gives lower accuracy for the aeroplane example\n",
    "voc, variance = kmeans(descriptors_float, k, 1) \n"
   ]
  },
  {
   "cell_type": "code",
   "execution_count": 19,
   "metadata": {},
   "outputs": [],
   "source": [
    "# Calculate the histogram of features and represent them as vector\n",
    "#vq Assigns codes from a code book to observations.\n",
    "im_features = np.zeros((len(image_paths), k), \"float32\")\n",
    "for i in range(len(image_paths)):\n",
    "    words, distance = vq(des_list[i][1],voc)\n",
    "    for w in words:\n",
    "        im_features[i][w] += 1\n"
   ]
  },
  {
   "cell_type": "code",
   "execution_count": 20,
   "metadata": {},
   "outputs": [],
   "source": [
    "# Perform Tf-Idf vectorization\n",
    "nbr_occurences = np.sum( (im_features > 0) * 1, axis = 0)\n",
    "idf = np.array(np.log((1.0*len(image_paths)+1) / (1.0*nbr_occurences + 1)), 'float32')\n",
    "\n",
    "# Scaling the words\n",
    "#Standardize features by removing the mean and scaling to unit variance\n",
    "#In a way normalization\n",
    "from sklearn.preprocessing import StandardScaler\n",
    "stdSlr = StandardScaler().fit(im_features)\n",
    "im_features = stdSlr.transform(im_features)"
   ]
  },
  {
   "cell_type": "code",
   "execution_count": 21,
   "metadata": {},
   "outputs": [
    {
     "data": {
      "text/plain": [
       "['bovw.pkl']"
      ]
     },
     "execution_count": 21,
     "metadata": {},
     "output_type": "execute_result"
    }
   ],
   "source": [
    "#Train an algorithm to discriminate vectors corresponding to positive and negative training images\n",
    "# Train the KNN\n",
    "from sklearn.neighbors import KNeighborsClassifier\n",
    "clf = KNeighborsClassifier(n_neighbors=5)  #Default of 100 is not converging\n",
    "clf.fit(im_features, np.array(image_classes))\n",
    "\n",
    "#Train Random forest to compare how it does against SVM\n",
    "#from sklearn.ensemble import RandomForestClassifier\n",
    "#clf = RandomForestClassifier(n_estimators = 100, random_state=30)\n",
    "#clf.fit(im_features, np.array(image_classes))\n",
    "\n",
    "# Save the SVM\n",
    "#Joblib dumps Python object into one file\n",
    "import joblib\n",
    "joblib.dump((clf, training_names, stdSlr, k, voc), \"bovw.pkl\", compress=3)    \n"
   ]
  },
  {
   "cell_type": "code",
   "execution_count": null,
   "metadata": {},
   "outputs": [],
   "source": []
  },
  {
   "cell_type": "code",
   "execution_count": 22,
   "metadata": {},
   "outputs": [],
   "source": [
    "import cv2\n",
    "import numpy as np\n",
    "import os\n",
    "import pylab as pl\n",
    "from sklearn.metrics import confusion_matrix, accuracy_score #sreeni\n",
    "import joblib"
   ]
  },
  {
   "cell_type": "code",
   "execution_count": 23,
   "metadata": {},
   "outputs": [],
   "source": [
    "# Load the classifier, class names, scaler, number of clusters and vocabulary \n",
    "#from stored pickle file (generated during training)\n",
    "clf, classes_names, stdSlr, k, voc = joblib.load(\"bovw.pkl\")"
   ]
  },
  {
   "cell_type": "code",
   "execution_count": 24,
   "metadata": {},
   "outputs": [],
   "source": [
    "# Get the path of the testing image(s) and store them in a list\n",
    "#test_path = 'dataset/test' # Names are Aeroplane, Bicycle, Car\n",
    "test_path = r'C:\\My Fieles\\Sem1 2020-2021\\Machine Vision\\Assignment\\3\\Dataset\\testing'  # Folder Names are Parasitized and Uninfected\n",
    "#instead of test if you use train then we get great accuracy\n",
    "\n",
    "testing_names = os.listdir(test_path)\n",
    "\n",
    "# Get path to all images and save them in a list\n",
    "# image_paths and the corresponding label in image_paths\n",
    "image_paths = []\n",
    "image_classes = []\n",
    "class_id = 0\n",
    "\n",
    "#To make it easy to list all file names in a directory let us define a function\n",
    "#\n",
    "def imglist(path):\n",
    "    return [os.path.join(path, f) for f in os.listdir(path)]\n",
    "\n",
    "#Fill the placeholder empty lists with image path, classes, and add class ID number\n",
    "\n",
    "for testing_name in testing_names:\n",
    "    dir = os.path.join(test_path, testing_name)\n",
    "    class_path = imglist(dir)\n",
    "    image_paths+=class_path\n",
    "    image_classes+=[class_id]*len(class_path)\n",
    "    class_id+=1"
   ]
  },
  {
   "cell_type": "code",
   "execution_count": 25,
   "metadata": {},
   "outputs": [],
   "source": [
    "# Create feature extraction and keypoint detector objects\n",
    "    #SIFT is not available anymore in openCV    \n",
    "# Create List where all the descriptors will be stored\n",
    "des_list = []\n",
    "\n",
    "#BRISK is a good replacement to SIFT. ORB also works but didn;t work well for this example\n",
    "brisk = cv2.BRISK_create(30)\n",
    "\n",
    "for image_path in image_paths:\n",
    "    im = cv2.imread(image_path)\n",
    "    kpts, des = brisk.detectAndCompute(im, None)\n",
    "    des_list.append((image_path, des))   \n",
    "    \n",
    "# Stack all the descriptors vertically in a numpy array\n",
    "descriptors = des_list[0][1]\n",
    "for image_path, descriptor in des_list[0:]:\n",
    "    descriptors = np.vstack((descriptors, descriptor)) "
   ]
  },
  {
   "cell_type": "code",
   "execution_count": 26,
   "metadata": {},
   "outputs": [],
   "source": [
    "# Calculate the histogram of features\n",
    "#vq Assigns codes from a code book to observations.\n",
    "from scipy.cluster.vq import vq    \n",
    "test_features = np.zeros((len(image_paths), k), \"float32\")\n",
    "for i in range(len(image_paths)):\n",
    "    words, distance = vq(des_list[i][1],voc)\n",
    "    for w in words:\n",
    "        test_features[i][w] += 1"
   ]
  },
  {
   "cell_type": "code",
   "execution_count": 27,
   "metadata": {},
   "outputs": [],
   "source": [
    "# Perform Tf-Idf vectorization\n",
    "nbr_occurences = np.sum( (test_features > 0) * 1, axis = 0)\n",
    "idf = np.array(np.log((1.0*len(image_paths)+1) / (1.0*nbr_occurences + 1)), 'float32')\n",
    "\n",
    "# Scale the features\n",
    "#Standardize features by removing the mean and scaling to unit variance\n",
    "#Scaler (stdSlr comes from the pickled file we imported)\n",
    "test_features = stdSlr.transform(test_features)"
   ]
  },
  {
   "cell_type": "code",
   "execution_count": 28,
   "metadata": {},
   "outputs": [
    {
     "name": "stdout",
     "output_type": "stream",
     "text": [
      "true_class =['bracelet', 'bracelet', 'bracelet', 'bracelet', 'bracelet', 'bracelet', 'bracelet', 'bracelet', 'bracelet', 'bracelet', 'bracelet', 'bracelet', 'bracelet', 'bracelet', 'bracelet', 'bracelet', 'bracelet', 'bracelet', 'bracelet', 'bracelet', 'bracelet', 'bracelet', 'bracelet', 'bracelet', 'bracelet', 'bracelet', 'bracelet', 'bracelet', 'bracelet', 'bracelet', 'bracelet', 'bracelet', 'bracelet', 'bracelet', 'bracelet', 'bracelet', 'bracelet', 'bracelet', 'bracelet', 'bracelet', 'bracelet', 'bracelet', 'bracelet', 'bracelet', 'bracelet', 'bracelet', 'bracelet', 'bracelet', 'bracelet', 'bracelet', 'bracelet', 'bracelet', 'bracelet', 'bracelet', 'bracelet', 'bracelet', 'bracelet', 'bracelet', 'bracelet', 'bracelet', 'bracelet', 'bracelet', 'bracelet', 'bracelet', 'bracelet', 'bracelet', 'bracelet', 'bracelet', 'bracelet', 'bracelet', 'bracelet', 'bracelet', 'bracelet', 'bracelet', 'bracelet', 'bracelet', 'bracelet', 'bracelet', 'bracelet', 'bracelet', 'bracelet', 'bracelet', 'bracelet', 'bracelet', 'bracelet', 'bracelet', 'bracelet', 'bracelet', 'bracelet', 'bracelet', 'bracelet', 'bracelet', 'bracelet', 'bracelet', 'bracelet', 'bracelet', 'bracelet', 'bracelet', 'bracelet', 'bracelet', 'bracelet', 'bracelet', 'bracelet', 'bracelet', 'bracelet', 'bracelet', 'bracelet', 'bracelet', 'bracelet', 'bracelet', 'bracelet', 'bracelet', 'bracelet', 'bracelet', 'bracelet', 'bracelet', 'bracelet', 'bracelet', 'bracelet', 'bracelet', 'bracelet', 'bracelet', 'bracelet', 'bracelet', 'bracelet', 'bracelet', 'bracelet', 'bracelet', 'bracelet', 'bracelet', 'bracelet', 'bracelet', 'bracelet', 'bracelet', 'bracelet', 'bracelet', 'bracelet', 'bracelet', 'bracelet', 'bracelet', 'bracelet', 'bracelet', 'bracelet', 'bracelet', 'bracelet', 'bracelet', 'bracelet', 'bracelet', 'bracelet', 'bracelet', 'bracelet', 'bracelet', 'bracelet', 'bracelet', 'bracelet', 'bracelet', 'bracelet', 'bracelet', 'bracelet', 'bracelet', 'bracelet', 'bracelet', 'bracelet', 'bracelet', 'bracelet', 'bracelet', 'bracelet', 'bracelet', 'bracelet', 'bracelet', 'bracelet', 'bracelet', 'bracelet', 'bracelet', 'bracelet', 'bracelet', 'bracelet', 'bracelet', 'bracelet', 'bracelet', 'bracelet', 'bracelet', 'bracelet', 'bracelet', 'bracelet', 'bracelet', 'bracelet', 'bracelet', 'bracelet', 'bracelet', 'bracelet', 'bracelet', 'bracelet', 'bracelet', 'bracelet', 'bracelet', 'bracelet', 'bracelet', 'bracelet', 'bracelet', 'bracelet', 'bracelet', 'bracelet', 'bracelet', 'bracelet', 'bracelet', 'bracelet', 'bracelet', 'bracelet', 'bracelet', 'bracelet', 'bracelet', 'bracelet', 'bracelet', 'bracelet', 'bracelet', 'bracelet', 'bracelet', 'bracelet', 'bracelet', 'bracelet', 'bracelet', 'bracelet', 'bracelet', 'bracelet', 'bracelet', 'bracelet', 'bracelet', 'bracelet', 'bracelet', 'bracelet', 'bracelet', 'bracelet', 'bracelet', 'bracelet', 'bracelet', 'bracelet', 'bracelet', 'bracelet', 'bracelet', 'bracelet', 'bracelet', 'bracelet', 'bracelet', 'bracelet', 'bracelet', 'bracelet', 'bracelet', 'bracelet', 'bracelet', 'bracelet', 'bracelet', 'bracelet', 'bracelet', 'bracelet', 'bracelet', 'bracelet', 'bracelet', 'bracelet', 'bracelet', 'bracelet', 'bracelet', 'bracelet', 'bracelet', 'bracelet', 'bracelet', 'bracelet', 'bracelet', 'bracelet', 'bracelet', 'earring', 'earring', 'earring', 'earring', 'earring', 'earring', 'earring', 'earring', 'earring', 'earring', 'earring', 'earring', 'earring', 'earring', 'earring', 'earring', 'earring', 'earring', 'earring', 'earring', 'earring', 'earring', 'earring', 'earring', 'earring', 'earring', 'earring', 'earring', 'earring', 'earring', 'earring', 'earring', 'earring', 'earring', 'earring', 'earring', 'earring', 'earring', 'earring', 'earring', 'earring', 'earring', 'earring', 'earring', 'earring', 'earring', 'earring', 'earring', 'earring', 'earring', 'earring', 'earring', 'earring', 'earring', 'earring', 'earring', 'earring', 'earring', 'earring', 'earring', 'earring', 'earring', 'earring', 'earring', 'earring', 'earring', 'earring', 'earring', 'earring', 'earring', 'earring', 'earring', 'earring', 'earring', 'earring', 'earring', 'earring', 'earring', 'earring', 'earring', 'earring', 'earring', 'earring', 'earring', 'earring', 'earring', 'earring', 'earring', 'earring', 'earring', 'earring', 'earring', 'earring', 'earring', 'earring', 'earring', 'earring', 'earring', 'earring', 'earring', 'earring', 'earring', 'earring', 'earring', 'earring', 'earring', 'earring', 'earring', 'earring', 'earring', 'earring', 'earring', 'earring', 'earring', 'earring', 'earring', 'earring', 'earring', 'earring', 'earring', 'earring', 'earring', 'earring', 'earring', 'earring', 'earring', 'earring', 'earring', 'earring', 'earring', 'earring', 'earring', 'earring', 'earring', 'earring', 'earring', 'earring', 'earring', 'earring', 'earring', 'earring', 'earring', 'earring', 'earring', 'earring', 'earring', 'earring', 'earring', 'earring', 'earring', 'earring', 'earring', 'earring', 'earring', 'earring', 'earring', 'earring', 'earring', 'earring', 'earring', 'earring', 'earring', 'earring', 'earring', 'earring', 'earring', 'earring', 'earring', 'earring', 'earring', 'earring', 'earring', 'earring', 'earring', 'earring', 'earring', 'earring', 'earring', 'earring', 'earring', 'earring', 'earring', 'earring', 'earring', 'earring', 'earring', 'earring', 'earring', 'earring', 'earring', 'earring', 'earring', 'earring', 'earring', 'earring', 'earring', 'earring', 'earring', 'earring', 'earring', 'earring', 'earring', 'earring', 'earring', 'earring', 'earring', 'earring', 'earring', 'earring', 'earring', 'earring', 'earring', 'earring', 'earring', 'earring', 'earring', 'earring', 'earring', 'earring', 'earring', 'earring', 'earring', 'earring', 'earring', 'earring', 'earring', 'earring', 'earring', 'earring', 'earring', 'earring', 'earring', 'earring', 'earring', 'earring', 'earring', 'earring', 'earring', 'earring', 'earring', 'earring', 'earring', 'earring', 'earring', 'earring', 'earring', 'earring', 'earring', 'earring', 'earring', 'earring', 'earring', 'earring', 'earring', 'earring', 'earring', 'earring', 'earring', 'earring', 'earring', 'earring', 'earring', 'earring', 'earring', 'earring', 'earring', 'earring', 'earring', 'earring', 'earring', 'necklace', 'necklace', 'necklace', 'necklace', 'necklace', 'necklace', 'necklace', 'necklace', 'necklace', 'necklace', 'necklace', 'necklace', 'necklace', 'necklace', 'necklace', 'necklace', 'necklace', 'necklace', 'necklace', 'necklace', 'necklace', 'necklace', 'necklace', 'necklace', 'necklace', 'necklace', 'necklace', 'necklace', 'necklace', 'necklace', 'necklace', 'necklace', 'necklace', 'necklace', 'necklace', 'necklace', 'necklace', 'necklace', 'necklace', 'necklace', 'necklace', 'necklace', 'necklace', 'necklace', 'necklace', 'necklace', 'necklace', 'necklace', 'necklace', 'necklace', 'necklace', 'necklace', 'necklace', 'necklace', 'necklace', 'necklace', 'necklace', 'necklace', 'necklace', 'necklace', 'necklace', 'necklace', 'necklace', 'necklace', 'necklace', 'necklace', 'necklace', 'necklace', 'necklace', 'necklace', 'necklace', 'necklace', 'necklace', 'necklace', 'necklace', 'necklace', 'necklace', 'necklace', 'necklace', 'necklace', 'necklace', 'necklace', 'necklace', 'necklace', 'necklace', 'necklace', 'necklace', 'necklace', 'necklace', 'necklace', 'necklace', 'necklace', 'necklace', 'necklace', 'necklace', 'necklace', 'necklace', 'necklace', 'necklace', 'necklace', 'necklace', 'necklace', 'necklace', 'necklace', 'necklace', 'necklace', 'necklace', 'necklace', 'necklace', 'necklace', 'necklace', 'necklace', 'necklace', 'necklace', 'necklace', 'necklace', 'necklace', 'necklace', 'necklace', 'necklace', 'necklace', 'necklace', 'necklace', 'necklace', 'necklace', 'necklace', 'necklace', 'necklace', 'necklace', 'necklace', 'necklace', 'necklace', 'necklace', 'necklace', 'necklace', 'necklace', 'necklace', 'necklace', 'necklace', 'necklace', 'necklace', 'necklace', 'necklace', 'necklace', 'necklace', 'necklace', 'necklace', 'necklace', 'necklace', 'necklace', 'necklace', 'necklace', 'necklace', 'necklace', 'necklace', 'necklace', 'necklace', 'necklace', 'necklace', 'necklace', 'necklace', 'necklace', 'necklace', 'necklace', 'necklace', 'necklace', 'necklace', 'necklace', 'necklace', 'necklace', 'necklace', 'necklace', 'necklace', 'necklace', 'necklace', 'necklace', 'necklace', 'necklace', 'necklace', 'necklace', 'necklace', 'necklace', 'necklace', 'necklace', 'necklace', 'necklace', 'necklace', 'necklace', 'necklace', 'necklace', 'necklace', 'necklace', 'necklace', 'necklace', 'necklace', 'necklace', 'necklace', 'necklace', 'necklace', 'necklace', 'necklace', 'necklace', 'necklace', 'necklace', 'necklace', 'necklace', 'necklace', 'necklace', 'necklace', 'necklace', 'necklace', 'necklace', 'necklace', 'necklace', 'necklace', 'necklace', 'necklace', 'necklace', 'necklace', 'necklace', 'necklace', 'necklace', 'necklace', 'necklace', 'necklace', 'necklace', 'necklace', 'necklace', 'necklace', 'necklace', 'necklace', 'necklace', 'necklace', 'necklace', 'necklace', 'necklace', 'necklace', 'necklace', 'necklace', 'necklace', 'necklace', 'necklace', 'necklace', 'necklace', 'necklace', 'necklace', 'necklace', 'necklace', 'necklace', 'necklace', 'necklace', 'necklace', 'necklace', 'necklace', 'necklace', 'necklace', 'necklace', 'necklace', 'necklace', 'necklace', 'necklace', 'necklace', 'necklace', 'necklace', 'necklace', 'necklace', 'necklace', 'necklace', 'necklace', 'necklace', 'nose ring', 'nose ring', 'nose ring', 'nose ring', 'nose ring', 'nose ring', 'nose ring', 'nose ring', 'nose ring', 'nose ring', 'nose ring', 'nose ring', 'nose ring', 'nose ring', 'nose ring', 'nose ring', 'nose ring', 'nose ring', 'nose ring', 'nose ring', 'nose ring', 'nose ring', 'nose ring', 'nose ring', 'nose ring', 'nose ring', 'nose ring', 'nose ring', 'nose ring', 'nose ring', 'nose ring', 'nose ring', 'nose ring', 'nose ring', 'nose ring', 'nose ring', 'nose ring', 'nose ring', 'nose ring', 'nose ring', 'nose ring', 'nose ring', 'nose ring', 'nose ring', 'nose ring', 'nose ring', 'nose ring', 'nose ring', 'nose ring', 'nose ring', 'nose ring', 'nose ring', 'nose ring', 'nose ring', 'nose ring', 'nose ring', 'nose ring', 'nose ring', 'nose ring', 'nose ring', 'nose ring', 'nose ring', 'nose ring', 'nose ring', 'nose ring', 'nose ring', 'nose ring', 'nose ring', 'nose ring', 'nose ring', 'nose ring', 'nose ring', 'nose ring', 'nose ring', 'nose ring', 'nose ring', 'nose ring', 'nose ring', 'nose ring', 'nose ring', 'nose ring', 'nose ring', 'nose ring', 'nose ring', 'nose ring', 'nose ring', 'nose ring', 'nose ring', 'nose ring', 'nose ring', 'nose ring', 'nose ring', 'nose ring', 'nose ring', 'nose ring', 'nose ring', 'nose ring', 'nose ring', 'nose ring', 'nose ring', 'nose ring', 'nose ring', 'nose ring', 'nose ring', 'nose ring', 'nose ring', 'nose ring', 'nose ring', 'nose ring', 'nose ring', 'nose ring', 'nose ring', 'nose ring', 'nose ring', 'nose ring', 'nose ring', 'nose ring', 'nose ring', 'nose ring', 'nose ring', 'nose ring', 'nose ring', 'nose ring', 'nose ring', 'nose ring', 'nose ring', 'nose ring', 'nose ring', 'nose ring', 'nose ring', 'nose ring', 'nose ring', 'nose ring', 'nose ring', 'nose ring', 'nose ring', 'nose ring', 'nose ring', 'nose ring', 'nose ring', 'nose ring', 'nose ring', 'nose ring', 'nose ring', 'nose ring', 'nose ring', 'nose ring', 'nose ring', 'nose ring', 'nose ring', 'nose ring', 'nose ring', 'nose ring', 'nose ring', 'nose ring', 'nose ring', 'nose ring', 'nose ring', 'nose ring', 'nose ring', 'nose ring', 'nose ring', 'nose ring', 'nose ring', 'nose ring', 'nose ring', 'nose ring', 'nose ring', 'nose ring', 'nose ring', 'nose ring', 'nose ring', 'nose ring', 'nose ring', 'nose ring', 'nose ring', 'nose ring', 'nose ring', 'nose ring', 'nose ring', 'nose ring', 'nose ring', 'nose ring', 'nose ring', 'nose ring', 'nose ring', 'nose ring', 'nose ring', 'nose ring', 'nose ring', 'nose ring', 'nose ring', 'nose ring', 'nose ring', 'nose ring', 'nose ring', 'nose ring', 'nose ring', 'nose ring', 'nose ring', 'nose ring', 'nose ring', 'nose ring', 'nose ring', 'nose ring', 'nose ring', 'nose ring', 'nose ring', 'nose ring', 'nose ring', 'nose ring', 'nose ring', 'nose ring', 'nose ring', 'nose ring', 'nose ring', 'nose ring', 'nose ring', 'nose ring', 'nose ring', 'nose ring', 'nose ring', 'nose ring', 'nose ring', 'nose ring', 'nose ring', 'nose ring', 'nose ring', 'nose ring', 'nose ring', 'nose ring', 'nose ring', 'nose ring', 'nose ring', 'nose ring', 'nose ring', 'nose ring', 'nose ring', 'nose ring', 'nose ring', 'nose ring', 'nose ring', 'nose ring', 'nose ring', 'nose ring', 'nose ring', 'nose ring', 'nose ring', 'nose ring', 'nose ring', 'nose ring', 'nose ring', 'nose ring', 'nose ring', 'nose ring', 'nose ring', 'nose ring', 'nose ring', 'nose ring', 'nose ring', 'nose ring', 'nose ring', 'nose ring', 'nose ring', 'nose ring', 'nose ring', 'nose ring', 'nose ring', 'nose ring', 'nose ring', 'ring', 'ring', 'ring', 'ring', 'ring', 'ring', 'ring', 'ring', 'ring', 'ring', 'ring', 'ring', 'ring', 'ring', 'ring', 'ring', 'ring', 'ring', 'ring', 'ring', 'ring', 'ring', 'ring', 'ring', 'ring', 'ring', 'ring', 'ring', 'ring', 'ring', 'ring', 'ring', 'ring', 'ring', 'ring', 'ring', 'ring', 'ring', 'ring', 'ring', 'ring', 'ring', 'ring', 'ring', 'ring', 'ring', 'ring', 'ring', 'ring', 'ring', 'ring', 'ring', 'ring', 'ring', 'ring', 'ring', 'ring', 'ring', 'ring', 'ring', 'ring', 'ring', 'ring', 'ring', 'ring', 'ring', 'ring', 'ring', 'ring', 'ring', 'ring', 'ring', 'ring', 'ring', 'ring', 'ring', 'ring', 'ring', 'ring', 'ring', 'ring', 'ring', 'ring', 'ring', 'ring', 'ring', 'ring', 'ring', 'ring', 'ring', 'ring', 'ring', 'ring', 'ring', 'ring', 'ring', 'ring', 'ring', 'ring', 'ring', 'ring', 'ring', 'ring', 'ring', 'ring', 'ring', 'ring', 'ring', 'ring', 'ring', 'ring', 'ring', 'ring', 'ring', 'ring', 'ring', 'ring', 'ring', 'ring', 'ring', 'ring', 'ring', 'ring', 'ring', 'ring', 'ring', 'ring', 'ring', 'ring', 'ring', 'ring', 'ring', 'ring', 'ring', 'ring', 'ring', 'ring', 'ring', 'ring', 'ring', 'ring', 'ring', 'ring', 'ring', 'ring', 'ring', 'ring', 'ring', 'ring', 'ring', 'ring', 'ring', 'ring', 'ring', 'ring', 'ring', 'ring', 'ring', 'ring', 'ring', 'ring', 'ring', 'ring', 'ring', 'ring', 'ring', 'ring', 'ring', 'ring', 'ring', 'ring', 'ring', 'ring', 'ring', 'ring', 'ring', 'ring', 'ring', 'ring', 'ring', 'ring', 'ring', 'ring', 'ring', 'ring', 'ring', 'ring', 'ring', 'ring', 'ring', 'ring', 'ring', 'ring', 'ring', 'ring', 'ring', 'ring', 'ring', 'ring', 'ring', 'ring', 'ring', 'ring', 'ring', 'ring', 'ring', 'ring', 'ring', 'ring', 'ring', 'ring', 'ring', 'ring', 'ring', 'ring', 'ring', 'ring', 'ring', 'ring', 'ring', 'ring', 'ring', 'ring', 'ring', 'ring', 'ring', 'ring', 'ring', 'ring', 'ring', 'ring', 'ring', 'ring', 'ring', 'ring', 'ring', 'ring', 'ring', 'ring', 'ring', 'ring', 'ring', 'ring', 'ring', 'ring', 'ring', 'ring', 'ring', 'ring', 'ring', 'ring', 'ring', 'ring', 'ring', 'ring', 'ring', 'ring', 'ring', 'ring', 'ring', 'ring', 'ring', 'ring', 'ring', 'ring', 'ring', 'ring', 'ring', 'ring', 'ring']\n",
      "prediction =['bracelet', 'necklace', 'nose ring', 'necklace', 'bracelet', 'necklace', 'necklace', 'necklace', 'bracelet', 'necklace', 'bracelet', 'ring', 'earring', 'ring', 'nose ring', 'nose ring', 'bracelet', 'necklace', 'earring', 'earring', 'nose ring', 'necklace', 'necklace', 'bracelet', 'ring', 'earring', 'bracelet', 'bracelet', 'bracelet', 'necklace', 'ring', 'bracelet', 'bracelet', 'necklace', 'necklace', 'bracelet', 'earring', 'earring', 'nose ring', 'bracelet', 'ring', 'earring', 'necklace', 'nose ring', 'necklace', 'ring', 'ring', 'bracelet', 'ring', 'bracelet', 'nose ring', 'bracelet', 'bracelet', 'ring', 'ring', 'nose ring', 'necklace', 'necklace', 'nose ring', 'earring', 'earring', 'necklace', 'necklace', 'bracelet', 'ring', 'bracelet', 'earring', 'necklace', 'bracelet', 'bracelet', 'nose ring', 'necklace', 'necklace', 'necklace', 'bracelet', 'nose ring', 'bracelet', 'bracelet', 'earring', 'ring', 'ring', 'necklace', 'necklace', 'necklace', 'earring', 'earring', 'bracelet', 'necklace', 'bracelet', 'bracelet', 'bracelet', 'earring', 'bracelet', 'bracelet', 'bracelet', 'necklace', 'earring', 'bracelet', 'necklace', 'nose ring', 'necklace', 'nose ring', 'bracelet', 'bracelet', 'bracelet', 'bracelet', 'bracelet', 'earring', 'earring', 'bracelet', 'necklace', 'nose ring', 'ring', 'necklace', 'ring', 'bracelet', 'necklace', 'necklace', 'necklace', 'bracelet', 'necklace', 'bracelet', 'ring', 'earring', 'ring', 'nose ring', 'necklace', 'necklace', 'necklace', 'nose ring', 'earring', 'necklace', 'necklace', 'bracelet', 'ring', 'bracelet', 'earring', 'necklace', 'bracelet', 'bracelet', 'necklace', 'nose ring', 'bracelet', 'necklace', 'necklace', 'bracelet', 'nose ring', 'bracelet', 'bracelet', 'bracelet', 'necklace', 'ring', 'ring', 'nose ring', 'bracelet', 'necklace', 'earring', 'ring', 'bracelet', 'ring', 'necklace', 'bracelet', 'bracelet', 'bracelet', 'necklace', 'necklace', 'nose ring', 'nose ring', 'bracelet', 'nose ring', 'necklace', 'bracelet', 'nose ring', 'nose ring', 'bracelet', 'ring', 'earring', 'earring', 'necklace', 'nose ring', 'bracelet', 'earring', 'nose ring', 'bracelet', 'necklace', 'bracelet', 'bracelet', 'bracelet', 'bracelet', 'bracelet', 'bracelet', 'nose ring', 'necklace', 'necklace', 'bracelet', 'nose ring', 'necklace', 'necklace', 'necklace', 'bracelet', 'earring', 'nose ring', 'nose ring', 'bracelet', 'ring', 'necklace', 'bracelet', 'necklace', 'nose ring', 'ring', 'necklace', 'nose ring', 'nose ring', 'necklace', 'nose ring', 'necklace', 'bracelet', 'necklace', 'bracelet', 'bracelet', 'earring', 'earring', 'earring', 'nose ring', 'necklace', 'necklace', 'earring', 'earring', 'necklace', 'necklace', 'nose ring', 'ring', 'bracelet', 'earring', 'bracelet', 'bracelet', 'bracelet', 'necklace', 'nose ring', 'bracelet', 'necklace', 'necklace', 'necklace', 'nose ring', 'earring', 'earring', 'bracelet', 'earring', 'ring', 'bracelet', 'necklace', 'bracelet', 'necklace', 'bracelet', 'ring', 'necklace', 'nose ring', 'bracelet', 'earring', 'bracelet', 'nose ring', 'ring', 'earring', 'bracelet', 'necklace', 'necklace', 'bracelet', 'ring', 'necklace', 'nose ring', 'nose ring', 'earring', 'bracelet', 'nose ring', 'bracelet', 'earring', 'necklace', 'nose ring', 'nose ring', 'ring', 'ring', 'earring', 'nose ring', 'nose ring', 'earring', 'earring', 'nose ring', 'necklace', 'necklace', 'necklace', 'earring', 'ring', 'bracelet', 'nose ring', 'earring', 'ring', 'ring', 'necklace', 'ring', 'nose ring', 'nose ring', 'necklace', 'nose ring', 'necklace', 'earring', 'necklace', 'earring', 'earring', 'earring', 'necklace', 'nose ring', 'nose ring', 'nose ring', 'ring', 'nose ring', 'necklace', 'ring', 'necklace', 'bracelet', 'nose ring', 'ring', 'ring', 'nose ring', 'earring', 'nose ring', 'ring', 'necklace', 'necklace', 'bracelet', 'necklace', 'bracelet', 'bracelet', 'necklace', 'bracelet', 'nose ring', 'earring', 'earring', 'earring', 'earring', 'earring', 'nose ring', 'necklace', 'nose ring', 'nose ring', 'bracelet', 'ring', 'nose ring', 'earring', 'necklace', 'earring', 'necklace', 'nose ring', 'necklace', 'bracelet', 'ring', 'bracelet', 'necklace', 'ring', 'necklace', 'earring', 'bracelet', 'nose ring', 'necklace', 'bracelet', 'nose ring', 'ring', 'ring', 'earring', 'nose ring', 'nose ring', 'necklace', 'nose ring', 'necklace', 'necklace', 'nose ring', 'bracelet', 'nose ring', 'necklace', 'bracelet', 'nose ring', 'earring', 'ring', 'ring', 'necklace', 'nose ring', 'nose ring', 'necklace', 'nose ring', 'bracelet', 'necklace', 'nose ring', 'nose ring', 'earring', 'necklace', 'nose ring', 'nose ring', 'nose ring', 'necklace', 'bracelet', 'ring', 'earring', 'nose ring', 'ring', 'necklace', 'earring', 'nose ring', 'earring', 'necklace', 'nose ring', 'ring', 'bracelet', 'ring', 'necklace', 'earring', 'nose ring', 'earring', 'nose ring', 'necklace', 'necklace', 'ring', 'bracelet', 'nose ring', 'necklace', 'bracelet', 'bracelet', 'earring', 'ring', 'ring', 'necklace', 'ring', 'nose ring', 'ring', 'nose ring', 'nose ring', 'bracelet', 'earring', 'earring', 'earring', 'earring', 'nose ring', 'necklace', 'nose ring', 'necklace', 'necklace', 'ring', 'ring', 'necklace', 'ring', 'necklace', 'earring', 'earring', 'nose ring', 'necklace', 'bracelet', 'nose ring', 'bracelet', 'necklace', 'earring', 'bracelet', 'nose ring', 'bracelet', 'nose ring', 'necklace', 'necklace', 'earring', 'nose ring', 'necklace', 'necklace', 'bracelet', 'necklace', 'earring', 'earring', 'bracelet', 'necklace', 'nose ring', 'nose ring', 'bracelet', 'necklace', 'nose ring', 'bracelet', 'ring', 'necklace', 'nose ring', 'earring', 'nose ring', 'nose ring', 'necklace', 'necklace', 'necklace', 'ring', 'nose ring', 'nose ring', 'necklace', 'necklace', 'bracelet', 'earring', 'nose ring', 'bracelet', 'bracelet', 'bracelet', 'ring', 'ring', 'necklace', 'nose ring', 'nose ring', 'nose ring', 'nose ring', 'necklace', 'necklace', 'earring', 'necklace', 'nose ring', 'necklace', 'bracelet', 'nose ring', 'nose ring', 'earring', 'ring', 'necklace', 'ring', 'bracelet', 'ring', 'nose ring', 'nose ring', 'necklace', 'earring', 'bracelet', 'nose ring', 'earring', 'nose ring', 'necklace', 'nose ring', 'nose ring', 'bracelet', 'ring', 'bracelet', 'nose ring', 'ring', 'necklace', 'earring', 'necklace', 'necklace', 'bracelet', 'necklace', 'necklace', 'earring', 'earring', 'necklace', 'necklace', 'bracelet', 'nose ring', 'bracelet', 'necklace', 'bracelet', 'necklace', 'necklace', 'bracelet', 'bracelet', 'ring', 'necklace', 'earring', 'ring', 'bracelet', 'ring', 'necklace', 'nose ring', 'earring', 'necklace', 'earring', 'ring', 'necklace', 'bracelet', 'necklace', 'bracelet', 'necklace', 'necklace', 'necklace', 'necklace', 'nose ring', 'bracelet', 'necklace', 'nose ring', 'bracelet', 'ring', 'bracelet', 'necklace', 'bracelet', 'nose ring', 'bracelet', 'necklace', 'bracelet', 'nose ring', 'necklace', 'necklace', 'bracelet', 'necklace', 'necklace', 'bracelet', 'bracelet', 'ring', 'nose ring', 'earring', 'ring', 'necklace', 'ring', 'ring', 'nose ring', 'earring', 'necklace', 'earring', 'nose ring', 'bracelet', 'necklace', 'necklace', 'bracelet', 'bracelet', 'necklace', 'necklace', 'bracelet', 'bracelet', 'bracelet', 'bracelet', 'necklace', 'necklace', 'ring', 'bracelet', 'bracelet', 'bracelet', 'necklace', 'bracelet', 'necklace', 'nose ring', 'earring', 'necklace', 'bracelet', 'bracelet', 'nose ring', 'necklace', 'necklace', 'bracelet', 'necklace', 'necklace', 'bracelet', 'bracelet', 'ring', 'necklace', 'earring', 'ring', 'bracelet', 'bracelet', 'necklace', 'bracelet', 'earring', 'necklace', 'earring', 'necklace', 'bracelet', 'necklace', 'necklace', 'bracelet', 'necklace', 'necklace', 'necklace', 'nose ring', 'necklace', 'necklace', 'nose ring', 'earring', 'necklace', 'ring', 'bracelet', 'necklace', 'bracelet', 'necklace', 'necklace', 'necklace', 'necklace', 'bracelet', 'necklace', 'bracelet', 'bracelet', 'ring', 'necklace', 'necklace', 'bracelet', 'necklace', 'bracelet', 'bracelet', 'bracelet', 'ring', 'necklace', 'earring', 'ring', 'bracelet', 'bracelet', 'necklace', 'bracelet', 'earring', 'necklace', 'earring', 'ring', 'bracelet', 'ring', 'necklace', 'bracelet', 'necklace', 'necklace', 'necklace', 'necklace', 'necklace', 'nose ring', 'bracelet', 'necklace', 'necklace', 'nose ring', 'bracelet', 'necklace', 'bracelet', 'necklace', 'necklace', 'necklace', 'necklace', 'earring', 'necklace', 'bracelet', 'nose ring', 'bracelet', 'necklace', 'bracelet', 'nose ring', 'necklace', 'necklace', 'bracelet', 'bracelet', 'bracelet', 'necklace', 'ring', 'ring', 'necklace', 'ring', 'nose ring', 'necklace', 'earring', 'necklace', 'necklace', 'nose ring', 'necklace', 'ring', 'necklace', 'necklace', 'necklace', 'necklace', 'nose ring', 'necklace', 'necklace', 'necklace', 'bracelet', 'necklace', 'necklace', 'necklace', 'ring', 'necklace', 'bracelet', 'nose ring', 'nose ring', 'necklace', 'necklace', 'earring', 'necklace', 'necklace', 'bracelet', 'ring', 'necklace', 'necklace', 'bracelet', 'necklace', 'bracelet', 'bracelet', 'bracelet', 'nose ring', 'necklace', 'ring', 'ring', 'bracelet', 'bracelet', 'necklace', 'nose ring', 'earring', 'necklace', 'earring', 'necklace', 'bracelet', 'necklace', 'necklace', 'bracelet', 'necklace', 'necklace', 'necklace', 'necklace', 'necklace', 'necklace', 'bracelet', 'earring', 'necklace', 'necklace', 'bracelet', 'necklace', 'necklace', 'necklace', 'necklace', 'nose ring', 'nose ring', 'bracelet', 'nose ring', 'ring', 'necklace', 'nose ring', 'necklace', 'bracelet', 'earring', 'nose ring', 'necklace', 'bracelet', 'nose ring', 'necklace', 'bracelet', 'bracelet', 'nose ring', 'bracelet', 'nose ring', 'necklace', 'nose ring', 'bracelet', 'nose ring', 'necklace', 'earring', 'ring', 'bracelet', 'nose ring', 'nose ring', 'bracelet', 'nose ring', 'earring', 'necklace', 'necklace', 'nose ring', 'earring', 'necklace', 'necklace', 'necklace', 'nose ring', 'nose ring', 'necklace', 'nose ring', 'necklace', 'bracelet', 'earring', 'necklace', 'necklace', 'necklace', 'nose ring', 'bracelet', 'earring', 'nose ring', 'necklace', 'bracelet', 'nose ring', 'necklace', 'necklace', 'nose ring', 'necklace', 'bracelet', 'nose ring', 'bracelet', 'necklace', 'bracelet', 'earring', 'bracelet', 'bracelet', 'ring', 'nose ring', 'nose ring', 'nose ring', 'nose ring', 'necklace', 'earring', 'nose ring', 'necklace', 'earring', 'earring', 'nose ring', 'necklace', 'necklace', 'nose ring', 'nose ring', 'bracelet', 'bracelet', 'ring', 'nose ring', 'nose ring', 'nose ring', 'bracelet', 'earring', 'earring', 'necklace', 'nose ring', 'nose ring', 'bracelet', 'earring', 'nose ring', 'necklace', 'bracelet', 'bracelet', 'necklace', 'necklace', 'nose ring', 'nose ring', 'necklace', 'nose ring', 'bracelet', 'necklace', 'bracelet', 'nose ring', 'necklace', 'bracelet', 'ring', 'nose ring', 'necklace', 'earring', 'nose ring', 'nose ring', 'necklace', 'bracelet', 'necklace', 'earring', 'earring', 'nose ring', 'necklace', 'bracelet', 'nose ring', 'nose ring', 'necklace', 'bracelet', 'bracelet', 'nose ring', 'nose ring', 'bracelet', 'earring', 'ring', 'necklace', 'nose ring', 'nose ring', 'bracelet', 'earring', 'nose ring', 'necklace', 'bracelet', 'nose ring', 'necklace', 'necklace', 'necklace', 'nose ring', 'bracelet', 'nose ring', 'bracelet', 'nose ring', 'bracelet', 'nose ring', 'bracelet', 'earring', 'nose ring', 'bracelet', 'nose ring', 'necklace', 'necklace', 'nose ring', 'nose ring', 'nose ring', 'nose ring', 'nose ring', 'ring', 'necklace', 'necklace', 'earring', 'nose ring', 'nose ring', 'bracelet', 'nose ring', 'bracelet', 'ring', 'nose ring', 'nose ring', 'bracelet', 'nose ring', 'necklace', 'necklace', 'bracelet', 'nose ring', 'nose ring', 'earring', 'nose ring', 'necklace', 'necklace', 'nose ring', 'necklace', 'necklace', 'nose ring', 'nose ring', 'necklace', 'nose ring', 'necklace', 'necklace', 'bracelet', 'nose ring', 'necklace', 'nose ring', 'ring', 'ring', 'necklace', 'necklace', 'nose ring', 'necklace', 'necklace', 'bracelet', 'necklace', 'nose ring', 'earring', 'necklace', 'necklace', 'necklace', 'necklace', 'nose ring', 'necklace', 'bracelet', 'bracelet', 'nose ring', 'necklace', 'bracelet', 'nose ring', 'bracelet', 'necklace', 'bracelet', 'nose ring', 'bracelet', 'earring', 'necklace', 'necklace', 'bracelet', 'nose ring', 'necklace', 'bracelet', 'necklace', 'earring', 'bracelet', 'nose ring', 'bracelet', 'nose ring', 'bracelet', 'nose ring', 'necklace', 'earring', 'bracelet', 'bracelet', 'earring', 'nose ring', 'bracelet', 'nose ring', 'earring', 'nose ring', 'nose ring', 'earring', 'earring', 'necklace', 'necklace', 'necklace', 'bracelet', 'nose ring', 'necklace', 'bracelet', 'ring', 'necklace', 'necklace', 'ring', 'nose ring', 'necklace', 'earring', 'earring', 'ring', 'ring', 'bracelet', 'nose ring', 'bracelet', 'bracelet', 'nose ring', 'ring', 'ring', 'ring', 'bracelet', 'ring', 'earring', 'ring', 'necklace', 'necklace', 'necklace', 'ring', 'necklace', 'nose ring', 'earring', 'earring', 'ring', 'ring', 'bracelet', 'nose ring', 'bracelet', 'bracelet', 'nose ring', 'earring', 'nose ring', 'ring', 'necklace', 'ring', 'ring', 'earring', 'ring', 'nose ring', 'necklace', 'bracelet', 'necklace', 'ring', 'ring', 'ring', 'necklace', 'bracelet', 'nose ring', 'nose ring', 'bracelet', 'ring', 'nose ring', 'nose ring', 'bracelet', 'bracelet', 'ring', 'nose ring', 'ring', 'nose ring', 'necklace', 'ring', 'nose ring', 'necklace', 'nose ring', 'ring', 'ring', 'ring', 'ring', 'necklace', 'bracelet', 'nose ring', 'nose ring', 'bracelet', 'ring', 'ring', 'necklace', 'bracelet', 'earring', 'ring', 'nose ring', 'ring', 'nose ring', 'necklace', 'ring', 'necklace', 'bracelet', 'ring', 'nose ring', 'necklace', 'ring', 'ring', 'ring', 'ring', 'bracelet', 'nose ring', 'bracelet', 'bracelet', 'ring', 'ring', 'ring', 'ring', 'necklace', 'ring', 'nose ring', 'ring', 'ring', 'nose ring', 'bracelet', 'bracelet', 'ring', 'ring', 'ring', 'ring', 'necklace', 'bracelet', 'nose ring', 'nose ring', 'bracelet', 'ring', 'ring', 'necklace', 'bracelet', 'nose ring', 'ring', 'nose ring', 'ring', 'nose ring', 'necklace', 'ring', 'necklace', 'bracelet', 'ring', 'nose ring', 'necklace', 'nose ring', 'necklace', 'nose ring', 'ring', 'bracelet', 'bracelet', 'bracelet', 'bracelet', 'ring', 'earring', 'nose ring', 'bracelet', 'necklace', 'ring', 'necklace', 'earring', 'ring', 'bracelet', 'nose ring', 'bracelet', 'bracelet', 'ring', 'ring', 'ring', 'nose ring', 'bracelet', 'nose ring', 'nose ring', 'earring', 'bracelet', 'ring', 'bracelet', 'bracelet', 'bracelet', 'ring', 'nose ring', 'ring', 'nose ring', 'bracelet', 'ring', 'necklace', 'earring', 'ring', 'necklace', 'necklace', 'nose ring', 'ring', 'nose ring', 'bracelet', 'bracelet', 'earring', 'bracelet', 'bracelet', 'nose ring', 'nose ring', 'earring', 'nose ring', 'bracelet', 'ring', 'nose ring', 'earring', 'earring', 'nose ring', 'nose ring', 'earring', 'nose ring', 'ring', 'nose ring', 'ring', 'necklace', 'nose ring', 'nose ring', 'nose ring', 'necklace', 'ring', 'ring', 'necklace', 'necklace', 'bracelet', 'ring', 'ring', 'ring', 'nose ring', 'nose ring', 'ring', 'necklace', 'earring', 'ring', 'necklace', 'bracelet', 'ring', 'earring', 'bracelet', 'ring', 'bracelet', 'necklace', 'bracelet', 'bracelet', 'ring', 'ring', 'earring', 'nose ring', 'necklace', 'ring', 'nose ring', 'bracelet', 'earring', 'nose ring', 'necklace', 'nose ring', 'bracelet', 'ring', 'ring', 'ring', 'nose ring', 'bracelet', 'bracelet', 'nose ring', 'earring', 'ring', 'earring', 'nose ring', 'bracelet', 'bracelet', 'ring', 'nose ring', 'ring', 'ring', 'necklace', 'ring']\n"
     ]
    }
   ],
   "source": [
    "#######Until here most of the above code is similar to Train except for kmeans clustering####\n",
    "\n",
    "#Report true class names so they can be compared with predicted classes\n",
    "true_class =  [classes_names[i] for i in image_classes]\n",
    "# Perform the predictions and report predicted class names. \n",
    "predictions =  [classes_names[i] for i in clf.predict(test_features)]\n",
    "\n",
    "\n",
    "#Print the true class and Predictions \n",
    "print (\"true_class =\"  + str(true_class))\n",
    "print (\"prediction =\"  + str(predictions))"
   ]
  },
  {
   "cell_type": "code",
   "execution_count": 29,
   "metadata": {},
   "outputs": [],
   "source": [
    "###############################################\n",
    "#To make it easy to understand the accuracy let us print the confusion matrix\n",
    "\n",
    "def showconfusionmatrix(cm):\n",
    "    pl.matshow(cm)\n",
    "    pl.title('Confusion matrix')\n",
    "    pl.colorbar()\n",
    "    pl.show()\n",
    "\n"
   ]
  },
  {
   "cell_type": "code",
   "execution_count": 30,
   "metadata": {},
   "outputs": [
    {
     "name": "stdout",
     "output_type": "stream",
     "text": [
      "accuracy =  0.3237037037037037\n",
      "[[ 86  36  77  41  30]\n",
      " [ 39  46  67  79  39]\n",
      " [ 75  22 123  24  26]\n",
      " [ 60  29  77  93  11]\n",
      " [ 56  23  40  62  89]]\n"
     ]
    },
    {
     "data": {
      "image/png": "[encoded data removed]",
      "text/plain": [
       "<Figure size 288x288 with 2 Axes>"
      ]
     },
     "metadata": {
      "needs_background": "light"
     },
     "output_type": "display_data"
    }
   ],
   "source": [
    "accuracy = accuracy_score(true_class, predictions)\n",
    "print (\"accuracy = \", accuracy)\n",
    "cm = confusion_matrix(true_class, predictions)\n",
    "print (cm)\n",
    "\n",
    "showconfusionmatrix(cm)"
   ]
  },
  {
   "cell_type": "code",
   "execution_count": null,
   "metadata": {},
   "outputs": [],
   "source": []
  }
 ],
 "metadata": {
  "kernelspec": {
   "display_name": "Python 3",
   "language": "python",
   "name": "python3"
  },
  "language_info": {
   "codemirror_mode": {
    "name": "ipython",
    "version": 3
   },
   "file_extension": ".py",
   "mimetype": "text/x-python",
   "name": "python",
   "nbconvert_exporter": "python",
   "pygments_lexer": "ipython3",
   "version": "3.6.12"
  }
 },
 "nbformat": 4,
 "nbformat_minor": 4
}
