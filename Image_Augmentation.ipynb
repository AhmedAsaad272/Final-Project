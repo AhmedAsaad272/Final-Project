{
  "nbformat": 4,
  "nbformat_minor": 0,
  "metadata": {
    "kernelspec": {
      "display_name": "Python 3",
      "language": "python",
      "name": "python3"
    },
    "language_info": {
      "codemirror_mode": {
        "name": "ipython",
        "version": 3
      },
      "file_extension": ".py",
      "mimetype": "text/x-python",
      "name": "python",
      "nbconvert_exporter": "python",
      "pygments_lexer": "ipython3",
      "version": "3.6.12"
    },
    "colab": {
      "name": "Image Augmentation.ipynb",
      "provenance": [],
      "include_colab_link": true
    }
  },
  "cells": [
    {
      "cell_type": "markdown",
      "metadata": {
        "id": "view-in-github",
        "colab_type": "text"
      },
      "source": [
        "<a href=\"https://colab.research.google.com/github/AhmedAsaad272/Final-Project/blob/main/Image_Augmentation.ipynb\" target=\"_parent\"><img src=\"https://colab.research.google.com/assets/colab-badge.svg\" alt=\"Open In Colab\"/></a>"
      ]
    },
    {
      "cell_type": "code",
      "metadata": {
        "id": "Y7oyBhdy7LJF"
      },
      "source": [
        "import cv2 as cv\n",
        "from imutils import paths\n",
        "import numpy as np\n",
        "from PIL import Image\n",
        "import os\n",
        "import os.path\n",
        "import glob\n",
        "from PIL import Image as im \n",
        "from PIL import Image"
      ],
      "execution_count": null,
      "outputs": []
    },
    {
      "cell_type": "code",
      "metadata": {
        "id": "CpO3cuvN7LJV"
      },
      "source": [
        "Extension=\".jpg\"\n",
        "i=0"
      ],
      "execution_count": null,
      "outputs": []
    },
    {
      "cell_type": "code",
      "metadata": {
        "id": "zwKeI7OP7LJW"
      },
      "source": [
        "#Rotation\n",
        "path = r\"C:\\My Fieles\\Sem1 2020-2021\\Machine Vision\\Assignment\\3\\Dataset\\testing\\ring\"\n",
        "testpaths= sorted(list(paths.list_images(path)))\n",
        "for file in os.listdir(path): \n",
        "    f_img = path+\"/\"+file\n",
        "    a= cv.imread(f_img)\n",
        "    \n",
        "    # %%%%%%%%%%%%%%%%%%%%%\n",
        "    #conversion numpy array into rgb image to show\n",
        "    c = cv.cvtColor(a, cv.COLOR_RGB2RGBA)\n",
        "    h, w = c.shape[:2]\n",
        "    M = cv.getRotationMatrix2D((w/2.0,h/2.0),45,1)\n",
        "    rotated = cv.warpAffine(c,M,(w,h))\n",
        "    i= i+1\n",
        "    cv.imwrite(\"Transformation\" + \"/Rotate-\" + str(i) + Extension, rotated)\n",
        "cv.imshow('Result', rotated)\n",
        "cv.waitKey(0)\n",
        "cv.destroyAllWindows()"
      ],
      "execution_count": null,
      "outputs": []
    },
    {
      "cell_type": "code",
      "metadata": {
        "id": "ucGIjxD17LJX"
      },
      "source": [
        "#Translation\n",
        "for file in os.listdir(path): \n",
        "    f_img = path+\"/\"+file\n",
        "    a= cv.imread(f_img)  \n",
        "    #conversion numpy array into rgb image to show\n",
        "    c = cv.cvtColor(a, cv.COLOR_RGB2RGBA)\n",
        "    h, w = c.shape[:2]\n",
        "    M = np.float32([[1, 0, w/4], [0, 1, 0]])\n",
        "    image = cv.warpAffine(c, M, (w, h))\n",
        "    i= i+1\n",
        "    cv.imwrite(\"Transformation\" + \"/Translate-\" + str(i) + Extension, image)"
      ],
      "execution_count": null,
      "outputs": []
    },
    {
      "cell_type": "code",
      "metadata": {
        "id": "j7F6p9TH7LJY"
      },
      "source": [
        "#Transformation\n",
        "for file in os.listdir(path): \n",
        "    f_img = path+\"/\"+file\n",
        "    a= cv.imread(f_img)  \n",
        "    #conversion numpy array into rgb image to show\n",
        "    c = cv.cvtColor(a, cv.COLOR_RGB2RGBA)\n",
        "    h, w = c.shape[:2]\n",
        "    pts1 = np.float32([[50, 50], [200, 50], [50, 200]])\n",
        "    pts2 = np.float32([[100, 10], [200, 50], [70, 150]])\n",
        "    M = cv.getAffineTransform(pts1, pts2)\n",
        "    image = cv.warpAffine(c, M, (w, h))\n",
        "    i= i+1\n",
        "    cv.imwrite(\"Transformation\" + \"/Transform-\" + str(i) + Extension, image)"
      ],
      "execution_count": null,
      "outputs": []
    },
    {
      "cell_type": "code",
      "metadata": {
        "id": "Jmyk4TgO7LJZ"
      },
      "source": [
        "#flipping\n",
        "for file in os.listdir(path): \n",
        "    f_img = path+\"/\"+file\n",
        "    a= cv.imread(f_img)  \n",
        "    #conversion numpy array into rgb image to show\n",
        "    c = cv.cvtColor(a, cv.COLOR_RGB2RGBA)\n",
        "    image = cv.flip(c, 1)\n",
        "    i= i+1\n",
        "    cv.imwrite(\"Transformation\" + \"/Flip-\" + str(i) + Extension, image)"
      ],
      "execution_count": null,
      "outputs": []
    },
    {
      "cell_type": "code",
      "metadata": {
        "id": "mR-IjOsM7LJb"
      },
      "source": [
        ""
      ],
      "execution_count": null,
      "outputs": []
    }
  ]
}