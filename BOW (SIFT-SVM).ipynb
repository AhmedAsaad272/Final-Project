{
 "cells": [
  {
   "cell_type": "code",
   "execution_count": 1,
   "metadata": {},
   "outputs": [],
   "source": [
    "import cv2\n",
    "import numpy as np\n",
    "import os\n"
   ]
  },
  {
   "cell_type": "code",
   "execution_count": 16,
   "metadata": {},
   "outputs": [],
   "source": [
    "# Get the training classes names and store them in a list\n",
    "#Here we use folder names for class names\n",
    "\n",
    "#train_path = 'dataset/train'  # Names are Aeroplane, Bicycle, Car\n",
    "train_path = r'C:\\My Fieles\\Sem1 2020-2021\\Machine Vision\\Assignment\\3\\Dataset\\training'  # Folder Names are Parasitized and Uninfected\n",
    "training_names = os.listdir(train_path)\n",
    "\n",
    "# Get path to all images and save them in a list\n",
    "# image_paths and the corresponding label in image_paths\n",
    "image_paths = []\n",
    "image_classes = []\n",
    "class_id = 0\n",
    "\n",
    "#To make it easy to list all file names in a directory let us define a function\n",
    "#\n",
    "def imglist(path):    \n",
    "    return [os.path.join(path, f) for f in os.listdir(path)]\n",
    "\n",
    "#Fill the placeholder empty lists with image path, classes, and add class ID number\n",
    "#\n",
    "    \n",
    "for training_name in training_names:\n",
    "    dir = os.path.join(train_path, training_name)\n",
    "    class_path = imglist(dir)\n",
    "    image_paths+=class_path\n",
    "    image_classes+=[class_id]*len(class_path)\n",
    "    class_id+=1\n",
    "\n",
    "# Create feature extraction and keypoint detector objects\n",
    "    #SIFT is not available anymore in openCV    \n",
    "# Create List where all the descriptors will be stored\n",
    "des_list = []\n",
    "\n",
    "#SIFT feature extractor\n",
    "sift = cv2.SIFT_create()\n",
    "\n",
    "for image_path in image_paths:\n",
    "    im = cv2.imread(image_path)\n",
    "    kp, des = sift.detectAndCompute(im,None)\n",
    "    des_list.append((image_path, des))   \n",
    "    \n",
    "# Stack all the descriptors vertically in a numpy array\n",
    "descriptors = des_list[0][1]\n",
    "for image_path, descriptor in des_list[1:]:\n",
    "    descriptors = np.vstack((descriptors, descriptor))  \n",
    "\n",
    "#kmeans works only on float, so convert integers to float\n",
    "descriptors_float = descriptors.astype(float)  \n",
    "\n",
    "# Perform k-means clustering and vector quantization\n",
    "from scipy.cluster.vq import kmeans, vq\n",
    "\n",
    "k = 300  #k means with 100 clusters gives lower accuracy for the aeroplane example\n",
    "voc, variance = kmeans(descriptors_float, k, 1) \n"
   ]
  },
  {
   "cell_type": "code",
   "execution_count": 17,
   "metadata": {},
   "outputs": [],
   "source": [
    "# Calculate the histogram of features and represent them as vector\n",
    "#vq Assigns codes from a code book to observations.\n",
    "im_features = np.zeros((len(image_paths), k), \"float32\")\n",
    "for i in range(len(image_paths)):\n",
    "    words, distance = vq(des_list[i][1],voc)\n",
    "    for w in words:\n",
    "        im_features[i][w] += 1\n"
   ]
  },
  {
   "cell_type": "code",
   "execution_count": 18,
   "metadata": {},
   "outputs": [],
   "source": [
    "# Perform Tf-Idf vectorization\n",
    "nbr_occurences = np.sum( (im_features > 0) * 1, axis = 0)\n",
    "idf = np.array(np.log((1.0*len(image_paths)+1) / (1.0*nbr_occurences + 1)), 'float32')\n",
    "\n",
    "# Scaling the words\n",
    "#Standardize features by removing the mean and scaling to unit variance\n",
    "#In a way normalization\n",
    "from sklearn.preprocessing import StandardScaler\n",
    "stdSlr = StandardScaler().fit(im_features)\n",
    "im_features = stdSlr.transform(im_features)"
   ]
  },
  {
   "cell_type": "code",
   "execution_count": 19,
   "metadata": {},
   "outputs": [
    {
     "name": "stderr",
     "output_type": "stream",
     "text": [
      "c:\\users\\ahmed\\anaconda3\\envs\\machinevision\\lib\\site-packages\\sklearn\\svm\\_base.py:977: ConvergenceWarning: Liblinear failed to converge, increase the number of iterations.\n",
      "  \"the number of iterations.\", ConvergenceWarning)\n"
     ]
    },
    {
     "data": {
      "text/plain": [
       "['bovw.pkl']"
      ]
     },
     "execution_count": 19,
     "metadata": {},
     "output_type": "execute_result"
    }
   ],
   "source": [
    "#Train an algorithm to discriminate vectors corresponding to positive and negative training images\n",
    "# Train the Linear SVM\n",
    "from sklearn.svm import LinearSVC\n",
    "clf = LinearSVC(max_iter=10000)  #Default of 100 is not converging\n",
    "clf.fit(im_features, np.array(image_classes))\n",
    "\n",
    "#Train Random forest to compare how it does against SVM\n",
    "#from sklearn.ensemble import RandomForestClassifier\n",
    "#clf = RandomForestClassifier(n_estimators = 100, random_state=30)\n",
    "#clf.fit(im_features, np.array(image_classes))\n",
    "\n",
    "# Save the SVM\n",
    "#Joblib dumps Python object into one file\n",
    "import joblib\n",
    "joblib.dump((clf, training_names, stdSlr, k, voc), \"bovw.pkl\", compress=3)    \n"
   ]
  },
  {
   "cell_type": "code",
   "execution_count": null,
   "metadata": {},
   "outputs": [],
   "source": []
  },
  {
   "cell_type": "code",
   "execution_count": 20,
   "metadata": {},
   "outputs": [],
   "source": [
    "import cv2\n",
    "import numpy as np\n",
    "import os\n",
    "import pylab as pl\n",
    "from sklearn.metrics import confusion_matrix, accuracy_score #sreeni\n",
    "import joblib"
   ]
  },
  {
   "cell_type": "code",
   "execution_count": 21,
   "metadata": {},
   "outputs": [],
   "source": [
    "# Load the classifier, class names, scaler, number of clusters and vocabulary \n",
    "#from stored pickle file (generated during training)\n",
    "clf, classes_names, stdSlr, k, voc = joblib.load(\"bovw.pkl\")"
   ]
  },
  {
   "cell_type": "code",
   "execution_count": 22,
   "metadata": {},
   "outputs": [],
   "source": [
    "# Get the path of the testing image(s) and store them in a list\n",
    "#test_path = 'dataset/test' # Names are Aeroplane, Bicycle, Car\n",
    "test_path = r'C:\\My Fieles\\Sem1 2020-2021\\Machine Vision\\Assignment\\3\\Dataset\\testing'  # Folder Names are Parasitized and Uninfected\n",
    "#instead of test if you use train then we get great accuracy\n",
    "\n",
    "testing_names = os.listdir(test_path)\n",
    "\n",
    "# Get path to all images and save them in a list\n",
    "# image_paths and the corresponding label in image_paths\n",
    "image_paths = []\n",
    "image_classes = []\n",
    "class_id = 0\n",
    "\n",
    "#To make it easy to list all file names in a directory let us define a function\n",
    "#\n",
    "def imglist(path):\n",
    "    return [os.path.join(path, f) for f in os.listdir(path)]\n",
    "\n",
    "#Fill the placeholder empty lists with image path, classes, and add class ID number\n",
    "\n",
    "for testing_name in testing_names:\n",
    "    dir = os.path.join(test_path, testing_name)\n",
    "    class_path = imglist(dir)\n",
    "    image_paths+=class_path\n",
    "    image_classes+=[class_id]*len(class_path)\n",
    "    class_id+=1"
   ]
  },
  {
   "cell_type": "code",
   "execution_count": 23,
   "metadata": {},
   "outputs": [],
   "source": [
    "# Create feature extraction and keypoint detector objects\n",
    "    #SIFT is not available anymore in openCV    \n",
    "# Create List where all the descriptors will be stored\n",
    "des_list = []\n",
    "\n",
    "#SIFT feature extractor\n",
    "sift = cv2.SIFT_create()\n",
    "\n",
    "for image_path in image_paths:\n",
    "    im = cv2.imread(image_path)\n",
    "    kp, des = sift.detectAndCompute(im,None)\n",
    "    des_list.append((image_path, des))  \n",
    "    \n",
    "# Stack all the descriptors vertically in a numpy array\n",
    "descriptors = des_list[0][1]\n",
    "for image_path, descriptor in des_list[0:]:\n",
    "    descriptors = np.vstack((descriptors, descriptor)) "
   ]
  },
  {
   "cell_type": "code",
   "execution_count": 24,
   "metadata": {},
   "outputs": [],
   "source": [
    "# Calculate the histogram of features\n",
    "#vq Assigns codes from a code book to observations.\n",
    "from scipy.cluster.vq import vq    \n",
    "test_features = np.zeros((len(image_paths), k), \"float32\")\n",
    "for i in range(len(image_paths)):\n",
    "    words, distance = vq(des_list[i][1],voc)\n",
    "    for w in words:\n",
    "        test_features[i][w] += 1"
   ]
  },
  {
   "cell_type": "code",
   "execution_count": 25,
   "metadata": {},
   "outputs": [],
   "source": [
    "# Perform Tf-Idf vectorization\n",
    "nbr_occurences = np.sum( (test_features > 0) * 1, axis = 0)\n",
    "idf = np.array(np.log((1.0*len(image_paths)+1) / (1.0*nbr_occurences + 1)), 'float32')\n",
    "\n",
    "# Scale the features\n",
    "#Standardize features by removing the mean and scaling to unit variance\n",
    "#Scaler (stdSlr comes from the pickled file we imported)\n",
    "test_features = stdSlr.transform(test_features)"
   ]
  },
  {
   "cell_type": "code",
   "execution_count": 26,
   "metadata": {},
   "outputs": [
    {
     "name": "stdout",
     "output_type": "stream",
     "text": [
      "true_class =['bracelet', 'bracelet', 'bracelet', 'bracelet', 'bracelet', 'bracelet', 'bracelet', 'bracelet', 'bracelet', 'bracelet', 'bracelet', 'bracelet', 'bracelet', 'bracelet', 'bracelet', 'bracelet', 'bracelet', 'bracelet', 'bracelet', 'bracelet', 'bracelet', 'bracelet', 'bracelet', 'bracelet', 'bracelet', 'bracelet', 'bracelet', 'bracelet', 'bracelet', 'bracelet', 'bracelet', 'bracelet', 'bracelet', 'bracelet', 'bracelet', 'bracelet', 'bracelet', 'bracelet', 'bracelet', 'bracelet', 'bracelet', 'bracelet', 'bracelet', 'bracelet', 'bracelet', 'bracelet', 'bracelet', 'bracelet', 'bracelet', 'bracelet', 'bracelet', 'bracelet', 'bracelet', 'bracelet', 'bracelet', 'bracelet', 'bracelet', 'bracelet', 'bracelet', 'bracelet', 'bracelet', 'bracelet', 'bracelet', 'bracelet', 'bracelet', 'bracelet', 'bracelet', 'bracelet', 'bracelet', 'bracelet', 'bracelet', 'bracelet', 'bracelet', 'bracelet', 'bracelet', 'bracelet', 'bracelet', 'bracelet', 'bracelet', 'bracelet', 'bracelet', 'bracelet', 'bracelet', 'bracelet', 'bracelet', 'bracelet', 'bracelet', 'bracelet', 'bracelet', 'bracelet', 'bracelet', 'bracelet', 'bracelet', 'bracelet', 'bracelet', 'bracelet', 'bracelet', 'bracelet', 'bracelet', 'bracelet', 'bracelet', 'bracelet', 'bracelet', 'bracelet', 'bracelet', 'bracelet', 'bracelet', 'bracelet', 'bracelet', 'bracelet', 'bracelet', 'bracelet', 'bracelet', 'bracelet', 'bracelet', 'bracelet', 'bracelet', 'bracelet', 'bracelet', 'bracelet', 'bracelet', 'bracelet', 'bracelet', 'bracelet', 'bracelet', 'bracelet', 'bracelet', 'bracelet', 'bracelet', 'bracelet', 'bracelet', 'bracelet', 'bracelet', 'bracelet', 'bracelet', 'bracelet', 'bracelet', 'bracelet', 'bracelet', 'bracelet', 'bracelet', 'bracelet', 'bracelet', 'bracelet', 'bracelet', 'bracelet', 'bracelet', 'bracelet', 'bracelet', 'bracelet', 'bracelet', 'bracelet', 'bracelet', 'bracelet', 'bracelet', 'bracelet', 'bracelet', 'bracelet', 'bracelet', 'bracelet', 'bracelet', 'bracelet', 'bracelet', 'bracelet', 'bracelet', 'bracelet', 'bracelet', 'bracelet', 'bracelet', 'bracelet', 'bracelet', 'bracelet', 'bracelet', 'bracelet', 'bracelet', 'bracelet', 'bracelet', 'bracelet', 'bracelet', 'bracelet', 'bracelet', 'bracelet', 'bracelet', 'bracelet', 'bracelet', 'bracelet', 'bracelet', 'bracelet', 'bracelet', 'bracelet', 'bracelet', 'bracelet', 'bracelet', 'bracelet', 'bracelet', 'bracelet', 'bracelet', 'bracelet', 'bracelet', 'bracelet', 'bracelet', 'bracelet', 'bracelet', 'bracelet', 'bracelet', 'bracelet', 'bracelet', 'bracelet', 'bracelet', 'bracelet', 'bracelet', 'bracelet', 'bracelet', 'bracelet', 'bracelet', 'bracelet', 'bracelet', 'bracelet', 'bracelet', 'bracelet', 'bracelet', 'bracelet', 'bracelet', 'bracelet', 'bracelet', 'bracelet', 'bracelet', 'bracelet', 'bracelet', 'bracelet', 'bracelet', 'bracelet', 'bracelet', 'bracelet', 'bracelet', 'bracelet', 'bracelet', 'bracelet', 'bracelet', 'bracelet', 'bracelet', 'bracelet', 'bracelet', 'bracelet', 'bracelet', 'bracelet', 'bracelet', 'bracelet', 'bracelet', 'bracelet', 'bracelet', 'bracelet', 'bracelet', 'bracelet', 'bracelet', 'bracelet', 'bracelet', 'bracelet', 'bracelet', 'bracelet', 'bracelet', 'bracelet', 'bracelet', 'bracelet', 'bracelet', 'bracelet', 'bracelet', 'bracelet', 'bracelet', 'bracelet', 'earring', 'earring', 'earring', 'earring', 'earring', 'earring', 'earring', 'earring', 'earring', 'earring', 'earring', 'earring', 'earring', 'earring', 'earring', 'earring', 'earring', 'earring', 'earring', 'earring', 'earring', 'earring', 'earring', 'earring', 'earring', 'earring', 'earring', 'earring', 'earring', 'earring', 'earring', 'earring', 'earring', 'earring', 'earring', 'earring', 'earring', 'earring', 'earring', 'earring', 'earring', 'earring', 'earring', 'earring', 'earring', 'earring', 'earring', 'earring', 'earring', 'earring', 'earring', 'earring', 'earring', 'earring', 'earring', 'earring', 'earring', 'earring', 'earring', 'earring', 'earring', 'earring', 'earring', 'earring', 'earring', 'earring', 'earring', 'earring', 'earring', 'earring', 'earring', 'earring', 'earring', 'earring', 'earring', 'earring', 'earring', 'earring', 'earring', 'earring', 'earring', 'earring', 'earring', 'earring', 'earring', 'earring', 'earring', 'earring', 'earring', 'earring', 'earring', 'earring', 'earring', 'earring', 'earring', 'earring', 'earring', 'earring', 'earring', 'earring', 'earring', 'earring', 'earring', 'earring', 'earring', 'earring', 'earring', 'earring', 'earring', 'earring', 'earring', 'earring', 'earring', 'earring', 'earring', 'earring', 'earring', 'earring', 'earring', 'earring', 'earring', 'earring', 'earring', 'earring', 'earring', 'earring', 'earring', 'earring', 'earring', 'earring', 'earring', 'earring', 'earring', 'earring', 'earring', 'earring', 'earring', 'earring', 'earring', 'earring', 'earring', 'earring', 'earring', 'earring', 'earring', 'earring', 'earring', 'earring', 'earring', 'earring', 'earring', 'earring', 'earring', 'earring', 'earring', 'earring', 'earring', 'earring', 'earring', 'earring', 'earring', 'earring', 'earring', 'earring', 'earring', 'earring', 'earring', 'earring', 'earring', 'earring', 'earring', 'earring', 'earring', 'earring', 'earring', 'earring', 'earring', 'earring', 'earring', 'earring', 'earring', 'earring', 'earring', 'earring', 'earring', 'earring', 'earring', 'earring', 'earring', 'earring', 'earring', 'earring', 'earring', 'earring', 'earring', 'earring', 'earring', 'earring', 'earring', 'earring', 'earring', 'earring', 'earring', 'earring', 'earring', 'earring', 'earring', 'earring', 'earring', 'earring', 'earring', 'earring', 'earring', 'earring', 'earring', 'earring', 'earring', 'earring', 'earring', 'earring', 'earring', 'earring', 'earring', 'earring', 'earring', 'earring', 'earring', 'earring', 'earring', 'earring', 'earring', 'earring', 'earring', 'earring', 'earring', 'earring', 'earring', 'earring', 'earring', 'earring', 'earring', 'earring', 'earring', 'earring', 'earring', 'earring', 'earring', 'earring', 'earring', 'earring', 'earring', 'earring', 'earring', 'earring', 'earring', 'earring', 'earring', 'earring', 'earring', 'earring', 'earring', 'earring', 'earring', 'earring', 'earring', 'earring', 'earring', 'earring', 'earring', 'earring', 'necklace', 'necklace', 'necklace', 'necklace', 'necklace', 'necklace', 'necklace', 'necklace', 'necklace', 'necklace', 'necklace', 'necklace', 'necklace', 'necklace', 'necklace', 'necklace', 'necklace', 'necklace', 'necklace', 'necklace', 'necklace', 'necklace', 'necklace', 'necklace', 'necklace', 'necklace', 'necklace', 'necklace', 'necklace', 'necklace', 'necklace', 'necklace', 'necklace', 'necklace', 'necklace', 'necklace', 'necklace', 'necklace', 'necklace', 'necklace', 'necklace', 'necklace', 'necklace', 'necklace', 'necklace', 'necklace', 'necklace', 'necklace', 'necklace', 'necklace', 'necklace', 'necklace', 'necklace', 'necklace', 'necklace', 'necklace', 'necklace', 'necklace', 'necklace', 'necklace', 'necklace', 'necklace', 'necklace', 'necklace', 'necklace', 'necklace', 'necklace', 'necklace', 'necklace', 'necklace', 'necklace', 'necklace', 'necklace', 'necklace', 'necklace', 'necklace', 'necklace', 'necklace', 'necklace', 'necklace', 'necklace', 'necklace', 'necklace', 'necklace', 'necklace', 'necklace', 'necklace', 'necklace', 'necklace', 'necklace', 'necklace', 'necklace', 'necklace', 'necklace', 'necklace', 'necklace', 'necklace', 'necklace', 'necklace', 'necklace', 'necklace', 'necklace', 'necklace', 'necklace', 'necklace', 'necklace', 'necklace', 'necklace', 'necklace', 'necklace', 'necklace', 'necklace', 'necklace', 'necklace', 'necklace', 'necklace', 'necklace', 'necklace', 'necklace', 'necklace', 'necklace', 'necklace', 'necklace', 'necklace', 'necklace', 'necklace', 'necklace', 'necklace', 'necklace', 'necklace', 'necklace', 'necklace', 'necklace', 'necklace', 'necklace', 'necklace', 'necklace', 'necklace', 'necklace', 'necklace', 'necklace', 'necklace', 'necklace', 'necklace', 'necklace', 'necklace', 'necklace', 'necklace', 'necklace', 'necklace', 'necklace', 'necklace', 'necklace', 'necklace', 'necklace', 'necklace', 'necklace', 'necklace', 'necklace', 'necklace', 'necklace', 'necklace', 'necklace', 'necklace', 'necklace', 'necklace', 'necklace', 'necklace', 'necklace', 'necklace', 'necklace', 'necklace', 'necklace', 'necklace', 'necklace', 'necklace', 'necklace', 'necklace', 'necklace', 'necklace', 'necklace', 'necklace', 'necklace', 'necklace', 'necklace', 'necklace', 'necklace', 'necklace', 'necklace', 'necklace', 'necklace', 'necklace', 'necklace', 'necklace', 'necklace', 'necklace', 'necklace', 'necklace', 'necklace', 'necklace', 'necklace', 'necklace', 'necklace', 'necklace', 'necklace', 'necklace', 'necklace', 'necklace', 'necklace', 'necklace', 'necklace', 'necklace', 'necklace', 'necklace', 'necklace', 'necklace', 'necklace', 'necklace', 'necklace', 'necklace', 'necklace', 'necklace', 'necklace', 'necklace', 'necklace', 'necklace', 'necklace', 'necklace', 'necklace', 'necklace', 'necklace', 'necklace', 'necklace', 'necklace', 'necklace', 'necklace', 'necklace', 'necklace', 'necklace', 'necklace', 'necklace', 'necklace', 'necklace', 'necklace', 'necklace', 'necklace', 'necklace', 'necklace', 'necklace', 'necklace', 'necklace', 'necklace', 'necklace', 'necklace', 'necklace', 'necklace', 'necklace', 'necklace', 'necklace', 'necklace', 'necklace', 'necklace', 'necklace', 'necklace', 'necklace', 'necklace', 'necklace', 'necklace', 'necklace', 'necklace', 'nose ring', 'nose ring', 'nose ring', 'nose ring', 'nose ring', 'nose ring', 'nose ring', 'nose ring', 'nose ring', 'nose ring', 'nose ring', 'nose ring', 'nose ring', 'nose ring', 'nose ring', 'nose ring', 'nose ring', 'nose ring', 'nose ring', 'nose ring', 'nose ring', 'nose ring', 'nose ring', 'nose ring', 'nose ring', 'nose ring', 'nose ring', 'nose ring', 'nose ring', 'nose ring', 'nose ring', 'nose ring', 'nose ring', 'nose ring', 'nose ring', 'nose ring', 'nose ring', 'nose ring', 'nose ring', 'nose ring', 'nose ring', 'nose ring', 'nose ring', 'nose ring', 'nose ring', 'nose ring', 'nose ring', 'nose ring', 'nose ring', 'nose ring', 'nose ring', 'nose ring', 'nose ring', 'nose ring', 'nose ring', 'nose ring', 'nose ring', 'nose ring', 'nose ring', 'nose ring', 'nose ring', 'nose ring', 'nose ring', 'nose ring', 'nose ring', 'nose ring', 'nose ring', 'nose ring', 'nose ring', 'nose ring', 'nose ring', 'nose ring', 'nose ring', 'nose ring', 'nose ring', 'nose ring', 'nose ring', 'nose ring', 'nose ring', 'nose ring', 'nose ring', 'nose ring', 'nose ring', 'nose ring', 'nose ring', 'nose ring', 'nose ring', 'nose ring', 'nose ring', 'nose ring', 'nose ring', 'nose ring', 'nose ring', 'nose ring', 'nose ring', 'nose ring', 'nose ring', 'nose ring', 'nose ring', 'nose ring', 'nose ring', 'nose ring', 'nose ring', 'nose ring', 'nose ring', 'nose ring', 'nose ring', 'nose ring', 'nose ring', 'nose ring', 'nose ring', 'nose ring', 'nose ring', 'nose ring', 'nose ring', 'nose ring', 'nose ring', 'nose ring', 'nose ring', 'nose ring', 'nose ring', 'nose ring', 'nose ring', 'nose ring', 'nose ring', 'nose ring', 'nose ring', 'nose ring', 'nose ring', 'nose ring', 'nose ring', 'nose ring', 'nose ring', 'nose ring', 'nose ring', 'nose ring', 'nose ring', 'nose ring', 'nose ring', 'nose ring', 'nose ring', 'nose ring', 'nose ring', 'nose ring', 'nose ring', 'nose ring', 'nose ring', 'nose ring', 'nose ring', 'nose ring', 'nose ring', 'nose ring', 'nose ring', 'nose ring', 'nose ring', 'nose ring', 'nose ring', 'nose ring', 'nose ring', 'nose ring', 'nose ring', 'nose ring', 'nose ring', 'nose ring', 'nose ring', 'nose ring', 'nose ring', 'nose ring', 'nose ring', 'nose ring', 'nose ring', 'nose ring', 'nose ring', 'nose ring', 'nose ring', 'nose ring', 'nose ring', 'nose ring', 'nose ring', 'nose ring', 'nose ring', 'nose ring', 'nose ring', 'nose ring', 'nose ring', 'nose ring', 'nose ring', 'nose ring', 'nose ring', 'nose ring', 'nose ring', 'nose ring', 'nose ring', 'nose ring', 'nose ring', 'nose ring', 'nose ring', 'nose ring', 'nose ring', 'nose ring', 'nose ring', 'nose ring', 'nose ring', 'nose ring', 'nose ring', 'nose ring', 'nose ring', 'nose ring', 'nose ring', 'nose ring', 'nose ring', 'nose ring', 'nose ring', 'nose ring', 'nose ring', 'nose ring', 'nose ring', 'nose ring', 'nose ring', 'nose ring', 'nose ring', 'nose ring', 'nose ring', 'nose ring', 'nose ring', 'nose ring', 'nose ring', 'nose ring', 'nose ring', 'nose ring', 'nose ring', 'nose ring', 'nose ring', 'nose ring', 'nose ring', 'nose ring', 'nose ring', 'nose ring', 'nose ring', 'nose ring', 'nose ring', 'nose ring', 'nose ring', 'nose ring', 'nose ring', 'nose ring', 'nose ring', 'nose ring', 'nose ring', 'nose ring', 'nose ring', 'nose ring', 'nose ring', 'nose ring', 'nose ring', 'nose ring', 'nose ring', 'nose ring', 'nose ring', 'nose ring', 'nose ring', 'nose ring', 'nose ring', 'nose ring', 'nose ring', 'nose ring', 'nose ring', 'nose ring', 'nose ring', 'nose ring', 'ring', 'ring', 'ring', 'ring', 'ring', 'ring', 'ring', 'ring', 'ring', 'ring', 'ring', 'ring', 'ring', 'ring', 'ring', 'ring', 'ring', 'ring', 'ring', 'ring', 'ring', 'ring', 'ring', 'ring', 'ring', 'ring', 'ring', 'ring', 'ring', 'ring', 'ring', 'ring', 'ring', 'ring', 'ring', 'ring', 'ring', 'ring', 'ring', 'ring', 'ring', 'ring', 'ring', 'ring', 'ring', 'ring', 'ring', 'ring', 'ring', 'ring', 'ring', 'ring', 'ring', 'ring', 'ring', 'ring', 'ring', 'ring', 'ring', 'ring', 'ring', 'ring', 'ring', 'ring', 'ring', 'ring', 'ring', 'ring', 'ring', 'ring', 'ring', 'ring', 'ring', 'ring', 'ring', 'ring', 'ring', 'ring', 'ring', 'ring', 'ring', 'ring', 'ring', 'ring', 'ring', 'ring', 'ring', 'ring', 'ring', 'ring', 'ring', 'ring', 'ring', 'ring', 'ring', 'ring', 'ring', 'ring', 'ring', 'ring', 'ring', 'ring', 'ring', 'ring', 'ring', 'ring', 'ring', 'ring', 'ring', 'ring', 'ring', 'ring', 'ring', 'ring', 'ring', 'ring', 'ring', 'ring', 'ring', 'ring', 'ring', 'ring', 'ring', 'ring', 'ring', 'ring', 'ring', 'ring', 'ring', 'ring', 'ring', 'ring', 'ring', 'ring', 'ring', 'ring', 'ring', 'ring', 'ring', 'ring', 'ring', 'ring', 'ring', 'ring', 'ring', 'ring', 'ring', 'ring', 'ring', 'ring', 'ring', 'ring', 'ring', 'ring', 'ring', 'ring', 'ring', 'ring', 'ring', 'ring', 'ring', 'ring', 'ring', 'ring', 'ring', 'ring', 'ring', 'ring', 'ring', 'ring', 'ring', 'ring', 'ring', 'ring', 'ring', 'ring', 'ring', 'ring', 'ring', 'ring', 'ring', 'ring', 'ring', 'ring', 'ring', 'ring', 'ring', 'ring', 'ring', 'ring', 'ring', 'ring', 'ring', 'ring', 'ring', 'ring', 'ring', 'ring', 'ring', 'ring', 'ring', 'ring', 'ring', 'ring', 'ring', 'ring', 'ring', 'ring', 'ring', 'ring', 'ring', 'ring', 'ring', 'ring', 'ring', 'ring', 'ring', 'ring', 'ring', 'ring', 'ring', 'ring', 'ring', 'ring', 'ring', 'ring', 'ring', 'ring', 'ring', 'ring', 'ring', 'ring', 'ring', 'ring', 'ring', 'ring', 'ring', 'ring', 'ring', 'ring', 'ring', 'ring', 'ring', 'ring', 'ring', 'ring', 'ring', 'ring', 'ring', 'ring', 'ring', 'ring', 'ring', 'ring', 'ring', 'ring', 'ring', 'ring', 'ring', 'ring', 'ring', 'ring', 'ring', 'ring', 'ring', 'ring', 'ring', 'ring', 'ring', 'ring']\n",
      "prediction =['nose ring', 'earring', 'necklace', 'necklace', 'nose ring', 'ring', 'nose ring', 'necklace', 'nose ring', 'earring', 'bracelet', 'ring', 'bracelet', 'ring', 'ring', 'ring', 'ring', 'nose ring', 'nose ring', 'earring', 'ring', 'bracelet', 'necklace', 'nose ring', 'ring', 'earring', 'bracelet', 'nose ring', 'earring', 'necklace', 'necklace', 'bracelet', 'nose ring', 'bracelet', 'earring', 'nose ring', 'nose ring', 'bracelet', 'bracelet', 'necklace', 'earring', 'ring', 'ring', 'necklace', 'nose ring', 'nose ring', 'nose ring', 'bracelet', 'necklace', 'nose ring', 'bracelet', 'ring', 'ring', 'bracelet', 'earring', 'ring', 'earring', 'ring', 'nose ring', 'ring', 'earring', 'ring', 'bracelet', 'necklace', 'nose ring', 'earring', 'earring', 'bracelet', 'nose ring', 'necklace', 'bracelet', 'bracelet', 'necklace', 'nose ring', 'ring', 'nose ring', 'ring', 'earring', 'earring', 'ring', 'ring', 'ring', 'ring', 'nose ring', 'nose ring', 'earring', 'ring', 'necklace', 'necklace', 'nose ring', 'earring', 'earring', 'necklace', 'bracelet', 'necklace', 'necklace', 'earring', 'bracelet', 'necklace', 'bracelet', 'earring', 'nose ring', 'bracelet', 'earring', 'bracelet', 'necklace', 'necklace', 'bracelet', 'earring', 'necklace', 'necklace', 'earring', 'nose ring', 'bracelet', 'ring', 'earring', 'bracelet', 'nose ring', 'necklace', 'nose ring', 'necklace', 'bracelet', 'earring', 'ring', 'nose ring', 'earring', 'bracelet', 'necklace', 'ring', 'ring', 'earring', 'earring', 'bracelet', 'necklace', 'nose ring', 'earring', 'earring', 'necklace', 'ring', 'necklace', 'bracelet', 'necklace', 'necklace', 'nose ring', 'nose ring', 'earring', 'bracelet', 'bracelet', 'nose ring', 'bracelet', 'ring', 'ring', 'bracelet', 'nose ring', 'necklace', 'nose ring', 'bracelet', 'bracelet', 'bracelet', 'bracelet', 'necklace', 'earring', 'necklace', 'necklace', 'bracelet', 'bracelet', 'nose ring', 'bracelet', 'bracelet', 'nose ring', 'nose ring', 'bracelet', 'nose ring', 'bracelet', 'earring', 'earring', 'earring', 'bracelet', 'earring', 'ring', 'nose ring', 'bracelet', 'earring', 'ring', 'necklace', 'necklace', 'necklace', 'earring', 'ring', 'bracelet', 'earring', 'necklace', 'necklace', 'earring', 'bracelet', 'necklace', 'bracelet', 'bracelet', 'nose ring', 'bracelet', 'nose ring', 'bracelet', 'bracelet', 'earring', 'ring', 'earring', 'necklace', 'necklace', 'bracelet', 'ring', 'bracelet', 'ring', 'bracelet', 'nose ring', 'necklace', 'nose ring', 'nose ring', 'nose ring', 'ring', 'ring', 'ring', 'ring', 'ring', 'bracelet', 'necklace', 'nose ring', 'ring', 'bracelet', 'bracelet', 'bracelet', 'bracelet', 'nose ring', 'earring', 'earring', 'bracelet', 'bracelet', 'necklace', 'necklace', 'earring', 'necklace', 'necklace', 'bracelet', 'earring', 'nose ring', 'bracelet', 'necklace', 'bracelet', 'necklace', 'necklace', 'ring', 'earring', 'necklace', 'bracelet', 'earring', 'nose ring', 'bracelet', 'bracelet', 'bracelet', 'necklace', 'bracelet', 'necklace', 'necklace', 'bracelet', 'earring', 'necklace', 'ring', 'nose ring', 'nose ring', 'ring', 'ring', 'earring', 'ring', 'nose ring', 'bracelet', 'earring', 'bracelet', 'nose ring', 'bracelet', 'nose ring', 'earring', 'earring', 'ring', 'earring', 'earring', 'bracelet', 'nose ring', 'ring', 'necklace', 'ring', 'nose ring', 'nose ring', 'bracelet', 'nose ring', 'ring', 'earring', 'nose ring', 'earring', 'bracelet', 'earring', 'earring', 'nose ring', 'ring', 'earring', 'nose ring', 'earring', 'earring', 'bracelet', 'earring', 'ring', 'earring', 'bracelet', 'bracelet', 'ring', 'ring', 'earring', 'bracelet', 'ring', 'ring', 'ring', 'nose ring', 'earring', 'earring', 'nose ring', 'earring', 'bracelet', 'earring', 'bracelet', 'necklace', 'necklace', 'earring', 'nose ring', 'nose ring', 'bracelet', 'nose ring', 'ring', 'necklace', 'nose ring', 'earring', 'earring', 'ring', 'ring', 'nose ring', 'ring', 'earring', 'nose ring', 'earring', 'bracelet', 'earring', 'earring', 'earring', 'earring', 'bracelet', 'bracelet', 'necklace', 'ring', 'earring', 'earring', 'earring', 'earring', 'ring', 'earring', 'necklace', 'nose ring', 'bracelet', 'nose ring', 'earring', 'ring', 'nose ring', 'earring', 'bracelet', 'earring', 'necklace', 'necklace', 'necklace', 'ring', 'nose ring', 'ring', 'bracelet', 'nose ring', 'ring', 'earring', 'nose ring', 'earring', 'earring', 'ring', 'nose ring', 'nose ring', 'bracelet', 'bracelet', 'nose ring', 'earring', 'nose ring', 'necklace', 'earring', 'bracelet', 'earring', 'bracelet', 'bracelet', 'necklace', 'ring', 'earring', 'ring', 'ring', 'bracelet', 'ring', 'earring', 'ring', 'nose ring', 'bracelet', 'ring', 'earring', 'earring', 'ring', 'earring', 'earring', 'bracelet', 'ring', 'necklace', 'necklace', 'earring', 'nose ring', 'nose ring', 'bracelet', 'nose ring', 'ring', 'bracelet', 'nose ring', 'earring', 'necklace', 'earring', 'nose ring', 'nose ring', 'ring', 'earring', 'nose ring', 'earring', 'bracelet', 'earring', 'earring', 'bracelet', 'earring', 'bracelet', 'bracelet', 'ring', 'ring', 'earring', 'earring', 'earring', 'earring', 'ring', 'nose ring', 'earring', 'bracelet', 'bracelet', 'ring', 'earring', 'earring', 'nose ring', 'ring', 'earring', 'bracelet', 'ring', 'bracelet', 'necklace', 'earring', 'nose ring', 'bracelet', 'ring', 'nose ring', 'ring', 'earring', 'nose ring', 'earring', 'earring', 'ring', 'nose ring', 'nose ring', 'bracelet', 'nose ring', 'nose ring', 'nose ring', 'earring', 'earring', 'earring', 'earring', 'ring', 'nose ring', 'ring', 'necklace', 'earring', 'earring', 'earring', 'ring', 'bracelet', 'bracelet', 'earring', 'ring', 'nose ring', 'bracelet', 'ring', 'bracelet', 'earring', 'necklace', 'earring', 'bracelet', 'earring', 'ring', 'nose ring', 'necklace', 'necklace', 'nose ring', 'nose ring', 'bracelet', 'nose ring', 'ring', 'necklace', 'ring', 'earring', 'earring', 'ring', 'nose ring', 'earring', 'bracelet', 'earring', 'bracelet', 'earring', 'earring', 'earring', 'earring', 'bracelet', 'earring', 'bracelet', 'bracelet', 'ring', 'ring', 'ring', 'earring', 'ring', 'ring', 'ring', 'necklace', 'ring', 'necklace', 'necklace', 'necklace', 'ring', 'necklace', 'necklace', 'necklace', 'necklace', 'earring', 'necklace', 'necklace', 'necklace', 'necklace', 'bracelet', 'ring', 'necklace', 'bracelet', 'necklace', 'bracelet', 'bracelet', 'nose ring', 'ring', 'ring', 'necklace', 'necklace', 'earring', 'earring', 'bracelet', 'necklace', 'necklace', 'necklace', 'necklace', 'necklace', 'bracelet', 'necklace', 'nose ring', 'necklace', 'necklace', 'bracelet', 'ring', 'bracelet', 'necklace', 'bracelet', 'necklace', 'bracelet', 'necklace', 'necklace', 'earring', 'necklace', 'ring', 'necklace', 'necklace', 'necklace', 'necklace', 'bracelet', 'necklace', 'necklace', 'bracelet', 'necklace', 'earring', 'earring', 'necklace', 'ring', 'earring', 'necklace', 'necklace', 'nose ring', 'earring', 'ring', 'necklace', 'necklace', 'necklace', 'nose ring', 'earring', 'nose ring', 'necklace', 'ring', 'earring', 'ring', 'bracelet', 'ring', 'bracelet', 'necklace', 'bracelet', 'necklace', 'ring', 'necklace', 'necklace', 'necklace', 'earring', 'necklace', 'necklace', 'earring', 'necklace', 'ring', 'necklace', 'necklace', 'necklace', 'necklace', 'necklace', 'necklace', 'necklace', 'bracelet', 'necklace', 'earring', 'earring', 'necklace', 'ring', 'ring', 'necklace', 'nose ring', 'nose ring', 'earring', 'necklace', 'necklace', 'necklace', 'necklace', 'nose ring', 'nose ring', 'bracelet', 'necklace', 'bracelet', 'ring', 'ring', 'bracelet', 'nose ring', 'necklace', 'necklace', 'earring', 'necklace', 'ring', 'necklace', 'necklace', 'necklace', 'ring', 'necklace', 'necklace', 'earring', 'bracelet', 'earring', 'necklace', 'necklace', 'necklace', 'necklace', 'necklace', 'necklace', 'necklace', 'bracelet', 'necklace', 'earring', 'earring', 'necklace', 'ring', 'earring', 'necklace', 'ring', 'nose ring', 'earring', 'ring', 'necklace', 'necklace', 'necklace', 'necklace', 'necklace', 'nose ring', 'necklace', 'bracelet', 'necklace', 'necklace', 'nose ring', 'ring', 'necklace', 'necklace', 'earring', 'nose ring', 'ring', 'necklace', 'necklace', 'necklace', 'bracelet', 'earring', 'necklace', 'necklace', 'nose ring', 'earring', 'necklace', 'bracelet', 'necklace', 'necklace', 'necklace', 'necklace', 'necklace', 'bracelet', 'necklace', 'bracelet', 'earring', 'bracelet', 'nose ring', 'nose ring', 'bracelet', 'bracelet', 'earring', 'earring', 'ring', 'necklace', 'necklace', 'necklace', 'nose ring', 'nose ring', 'earring', 'bracelet', 'nose ring', 'earring', 'ring', 'earring', 'nose ring', 'bracelet', 'necklace', 'earring', 'necklace', 'earring', 'necklace', 'necklace', 'necklace', 'bracelet', 'nose ring', 'necklace', 'earring', 'necklace', 'ring', 'necklace', 'necklace', 'necklace', 'necklace', 'bracelet', 'necklace', 'necklace', 'bracelet', 'earring', 'earring', 'earring', 'necklace', 'ring', 'earring', 'necklace', 'necklace', 'nose ring', 'earring', 'necklace', 'necklace', 'necklace', 'necklace', 'earring', 'nose ring', 'ring', 'necklace', 'bracelet', 'nose ring', 'ring', 'bracelet', 'nose ring', 'nose ring', 'necklace', 'bracelet', 'necklace', 'ring', 'necklace', 'necklace', 'nose ring', 'nose ring', 'nose ring', 'necklace', 'nose ring', 'nose ring', 'nose ring', 'necklace', 'nose ring', 'ring', 'nose ring', 'necklace', 'nose ring', 'earring', 'nose ring', 'bracelet', 'necklace', 'nose ring', 'nose ring', 'nose ring', 'nose ring', 'nose ring', 'nose ring', 'bracelet', 'nose ring', 'nose ring', 'nose ring', 'nose ring', 'nose ring', 'ring', 'earring', 'nose ring', 'ring', 'ring', 'nose ring', 'bracelet', 'nose ring', 'nose ring', 'nose ring', 'bracelet', 'nose ring', 'nose ring', 'nose ring', 'nose ring', 'bracelet', 'nose ring', 'nose ring', 'nose ring', 'nose ring', 'necklace', 'bracelet', 'nose ring', 'earring', 'bracelet', 'bracelet', 'nose ring', 'necklace', 'necklace', 'ring', 'necklace', 'nose ring', 'nose ring', 'nose ring', 'ring', 'necklace', 'nose ring', 'nose ring', 'earring', 'nose ring', 'nose ring', 'nose ring', 'ring', 'necklace', 'earring', 'nose ring', 'ring', 'ring', 'nose ring', 'ring', 'bracelet', 'nose ring', 'nose ring', 'bracelet', 'nose ring', 'nose ring', 'nose ring', 'nose ring', 'earring', 'nose ring', 'nose ring', 'nose ring', 'bracelet', 'necklace', 'nose ring', 'earring', 'nose ring', 'necklace', 'bracelet', 'ring', 'bracelet', 'necklace', 'nose ring', 'nose ring', 'nose ring', 'nose ring', 'necklace', 'necklace', 'nose ring', 'nose ring', 'nose ring', 'nose ring', 'bracelet', 'ring', 'earring', 'nose ring', 'nose ring', 'ring', 'earring', 'nose ring', 'earring', 'nose ring', 'earring', 'earring', 'nose ring', 'nose ring', 'ring', 'nose ring', 'nose ring', 'nose ring', 'nose ring', 'nose ring', 'nose ring', 'bracelet', 'earring', 'nose ring', 'nose ring', 'nose ring', 'necklace', 'nose ring', 'nose ring', 'nose ring', 'necklace', 'nose ring', 'ring', 'bracelet', 'necklace', 'nose ring', 'earring', 'nose ring', 'ring', 'necklace', 'nose ring', 'nose ring', 'nose ring', 'nose ring', 'nose ring', 'nose ring', 'bracelet', 'nose ring', 'necklace', 'nose ring', 'ring', 'nose ring', 'necklace', 'earring', 'nose ring', 'ring', 'necklace', 'necklace', 'ring', 'earring', 'ring', 'nose ring', 'bracelet', 'nose ring', 'nose ring', 'nose ring', 'nose ring', 'earring', 'earring', 'nose ring', 'nose ring', 'necklace', 'necklace', 'nose ring', 'nose ring', 'earring', 'bracelet', 'nose ring', 'ring', 'nose ring', 'necklace', 'bracelet', 'ring', 'nose ring', 'nose ring', 'nose ring', 'nose ring', 'necklace', 'nose ring', 'nose ring', 'ring', 'nose ring', 'nose ring', 'necklace', 'ring', 'earring', 'ring', 'ring', 'necklace', 'earring', 'nose ring', 'ring', 'bracelet', 'nose ring', 'bracelet', 'nose ring', 'ring', 'nose ring', 'nose ring', 'nose ring', 'necklace', 'nose ring', 'nose ring', 'ring', 'nose ring', 'nose ring', 'nose ring', 'necklace', 'nose ring', 'nose ring', 'nose ring', 'bracelet', 'nose ring', 'ring', 'earring', 'necklace', 'nose ring', 'ring', 'nose ring', 'bracelet', 'necklace', 'nose ring', 'nose ring', 'nose ring', 'nose ring', 'nose ring', 'nose ring', 'nose ring', 'earring', 'nose ring', 'nose ring', 'ring', 'nose ring', 'nose ring', 'earring', 'nose ring', 'nose ring', 'necklace', 'nose ring', 'bracelet', 'earring', 'nose ring', 'nose ring', 'bracelet', 'nose ring', 'nose ring', 'nose ring', 'nose ring', 'earring', 'nose ring', 'earring', 'ring', 'nose ring', 'nose ring', 'earring', 'ring', 'bracelet', 'ring', 'earring', 'earring', 'nose ring', 'nose ring', 'ring', 'bracelet', 'earring', 'nose ring', 'bracelet', 'nose ring', 'bracelet', 'earring', 'bracelet', 'bracelet', 'nose ring', 'earring', 'ring', 'necklace', 'earring', 'bracelet', 'bracelet', 'ring', 'earring', 'earring', 'nose ring', 'nose ring', 'ring', 'bracelet', 'earring', 'ring', 'bracelet', 'nose ring', 'ring', 'nose ring', 'ring', 'nose ring', 'ring', 'earring', 'nose ring', 'ring', 'ring', 'necklace', 'nose ring', 'bracelet', 'earring', 'ring', 'bracelet', 'ring', 'ring', 'nose ring', 'nose ring', 'bracelet', 'ring', 'ring', 'ring', 'ring', 'bracelet', 'ring', 'nose ring', 'ring', 'earring', 'nose ring', 'ring', 'ring', 'necklace', 'earring', 'ring', 'earring', 'nose ring', 'bracelet', 'ring', 'ring', 'nose ring', 'nose ring', 'bracelet', 'ring', 'nose ring', 'bracelet', 'earring', 'earring', 'ring', 'earring', 'earring', 'ring', 'bracelet', 'nose ring', 'earring', 'ring', 'bracelet', 'ring', 'earring', 'earring', 'nose ring', 'nose ring', 'ring', 'bracelet', 'ring', 'ring', 'bracelet', 'nose ring', 'bracelet', 'earring', 'ring', 'bracelet', 'ring', 'earring', 'bracelet', 'ring', 'ring', 'earring', 'nose ring', 'ring', 'earring', 'nose ring', 'bracelet', 'ring', 'ring', 'bracelet', 'nose ring', 'bracelet', 'earring', 'ring', 'ring', 'ring', 'earring', 'ring', 'necklace', 'earring', 'ring', 'bracelet', 'necklace', 'bracelet', 'earring', 'earring', 'bracelet', 'earring', 'earring', 'nose ring', 'nose ring', 'ring', 'bracelet', 'earring', 'nose ring', 'bracelet', 'nose ring', 'bracelet', 'ring', 'bracelet', 'bracelet', 'ring', 'ring', 'earring', 'ring', 'ring', 'ring', 'necklace', 'ring', 'nose ring', 'ring', 'bracelet', 'ring', 'ring', 'bracelet', 'necklace', 'nose ring', 'ring', 'ring', 'bracelet', 'earring', 'bracelet', 'ring', 'ring', 'earring', 'ring', 'nose ring', 'nose ring', 'bracelet', 'earring', 'ring', 'ring', 'earring', 'nose ring', 'nose ring', 'nose ring', 'ring', 'bracelet', 'ring', 'nose ring', 'bracelet', 'ring', 'bracelet', 'earring', 'bracelet', 'necklace', 'earring', 'bracelet', 'necklace', 'earring', 'ring', 'ring', 'nose ring', 'ring', 'earring', 'nose ring', 'bracelet', 'earring', 'ring', 'nose ring', 'earring', 'bracelet', 'ring', 'earring', 'ring', 'ring', 'nose ring', 'ring', 'bracelet', 'earring', 'earring', 'nose ring', 'nose ring', 'earring', 'ring', 'bracelet', 'ring', 'earring', 'earring', 'nose ring', 'nose ring', 'ring', 'bracelet', 'earring', 'nose ring', 'bracelet', 'nose ring', 'bracelet', 'earring', 'bracelet', 'nose ring', 'ring', 'earring', 'necklace', 'ring', 'ring', 'necklace', 'necklace', 'ring', 'nose ring', 'nose ring', 'bracelet', 'ring', 'ring', 'nose ring', 'nose ring', 'bracelet', 'ring', 'ring', 'bracelet', 'nose ring', 'bracelet', 'ring']\n"
     ]
    }
   ],
   "source": [
    "#######Until here most of the above code is similar to Train except for kmeans clustering####\n",
    "\n",
    "#Report true class names so they can be compared with predicted classes\n",
    "true_class =  [classes_names[i] for i in image_classes]\n",
    "# Perform the predictions and report predicted class names. \n",
    "predictions =  [classes_names[i] for i in clf.predict(test_features)]\n",
    "\n",
    "\n",
    "#Print the true class and Predictions \n",
    "print (\"true_class =\"  + str(true_class))\n",
    "print (\"prediction =\"  + str(predictions))"
   ]
  },
  {
   "cell_type": "code",
   "execution_count": 27,
   "metadata": {},
   "outputs": [],
   "source": [
    "###############################################\n",
    "#To make it easy to understand the accuracy let us print the confusion matrix\n",
    "\n",
    "def showconfusionmatrix(cm):\n",
    "    pl.matshow(cm)\n",
    "    pl.title('Confusion matrix')\n",
    "    pl.colorbar()\n",
    "    pl.show()\n",
    "\n"
   ]
  },
  {
   "cell_type": "code",
   "execution_count": 28,
   "metadata": {},
   "outputs": [
    {
     "name": "stdout",
     "output_type": "stream",
     "text": [
      "accuracy =  0.39481481481481484\n",
      "[[ 69  48  56  51  46]\n",
      " [ 50  90  20  53  57]\n",
      " [ 37  40 134  27  32]\n",
      " [ 26  26  34 152  32]\n",
      " [ 57  55  12  58  88]]\n"
     ]
    },
    {
     "data": {
      "image/png": "[encoded data removed]",
      "text/plain": [
       "<Figure size 288x288 with 2 Axes>"
      ]
     },
     "metadata": {
      "needs_background": "light"
     },
     "output_type": "display_data"
    }
   ],
   "source": [
    "accuracy = accuracy_score(true_class, predictions)\n",
    "print (\"accuracy = \", accuracy)\n",
    "cm = confusion_matrix(true_class, predictions)\n",
    "print (cm)\n",
    "\n",
    "showconfusionmatrix(cm)"
   ]
  },
  {
   "cell_type": "code",
   "execution_count": null,
   "metadata": {},
   "outputs": [],
   "source": []
  },
  {
   "cell_type": "code",
   "execution_count": null,
   "metadata": {},
   "outputs": [],
   "source": []
  }
 ],
 "metadata": {
  "kernelspec": {
   "display_name": "Python 3",
   "language": "python",
   "name": "python3"
  },
  "language_info": {
   "codemirror_mode": {
    "name": "ipython",
    "version": 3
   },
   "file_extension": ".py",
   "mimetype": "text/x-python",
   "name": "python",
   "nbconvert_exporter": "python",
   "pygments_lexer": "ipython3",
   "version": "3.6.12"
  }
 },
 "nbformat": 4,
 "nbformat_minor": 4
}
